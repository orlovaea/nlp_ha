{
  "cells": [
    {
      "cell_type": "markdown",
      "id": "d888fbd1",
      "metadata": {
        "id": "d888fbd1"
      },
      "source": [
        "# Домашнее задание № 8"
      ]
    },
    {
      "cell_type": "code",
      "execution_count": null,
      "id": "1acf98d6",
      "metadata": {
        "execution": {
          "iopub.execute_input": "2023-02-19T06:24:37.812903Z",
          "iopub.status.busy": "2023-02-19T06:24:37.812428Z",
          "iopub.status.idle": "2023-02-19T06:24:46.702757Z",
          "shell.execute_reply": "2023-02-19T06:24:46.700993Z",
          "shell.execute_reply.started": "2023-02-19T06:24:37.812855Z"
        },
        "id": "1acf98d6"
      },
      "outputs": [],
      "source": [
        "import tensorflow as tf\n",
        "import pandas as pd\n",
        "import numpy as np\n",
        "from string import punctuation\n",
        "from sklearn.model_selection import train_test_split\n",
        "from collections import Counter\n",
        "from IPython.display import Image\n",
        "from IPython.core.display import HTML \n",
        "import matplotlib.pyplot as plt\n",
        "%matplotlib inline"
      ]
    },
    {
      "cell_type": "markdown",
      "id": "208f6584",
      "metadata": {
        "id": "208f6584"
      },
      "source": [
        "## Задание 1 (4 балла) "
      ]
    },
    {
      "cell_type": "markdown",
      "id": "9ac27845",
      "metadata": {
        "id": "9ac27845"
      },
      "source": [
        "Обучите 8 моделей для задачи классификации текста (датасет - lenta_40k ). А именно:  \n",
        "1) модель с 1 GRU слоем;   \n",
        "2) модель с 1 LSTM слоем    \n",
        "3) модель с 1 GRU и 1 LSTM слоем  \n",
        "4) модель с 1 BIGRU и 2 LSTM слоями  \n",
        "5) модель с 5 GRU слоями и 3 LSTM слоями  \n",
        "6) модель 1 BIGRU и 1 BILSTM слоями, причем так чтобы модели для forward и backward прохода отличались   \n",
        "7) модель, где последовательно идут слои: LSTM, GRU, BILSTM, BIGRU, GRU, LSTM  \n",
        "\n",
        "\n",
        "\n",
        "Параметр units и размер эмбединга можете задать любой. Оцените качество каждой модели и определите победителя."
      ]
    },
    {
      "cell_type": "code",
      "execution_count": null,
      "id": "KrykUd5Rqkyt",
      "metadata": {
        "id": "KrykUd5Rqkyt"
      },
      "outputs": [],
      "source": [
        "data = pd.read_csv('lenta_40k.csv.zip')"
      ]
    },
    {
      "cell_type": "code",
      "execution_count": null,
      "id": "279a83dd",
      "metadata": {
        "execution": {
          "iopub.execute_input": "2023-02-19T06:24:53.365024Z",
          "iopub.status.busy": "2023-02-19T06:24:53.364613Z",
          "iopub.status.idle": "2023-02-19T06:24:53.371296Z",
          "shell.execute_reply": "2023-02-19T06:24:53.370069Z",
          "shell.execute_reply.started": "2023-02-19T06:24:53.364989Z"
        },
        "id": "279a83dd"
      },
      "outputs": [],
      "source": [
        "def preprocess(text):\n",
        "    tokens = text.lower().split()\n",
        "    tokens = [token.strip(punctuation) for token in tokens]\n",
        "    return tokens"
      ]
    },
    {
      "cell_type": "code",
      "execution_count": null,
      "id": "e5b8b110",
      "metadata": {
        "execution": {
          "iopub.execute_input": "2023-02-19T06:24:53.919991Z",
          "iopub.status.busy": "2023-02-19T06:24:53.919523Z",
          "iopub.status.idle": "2023-02-19T06:24:53.931055Z",
          "shell.execute_reply": "2023-02-19T06:24:53.929800Z",
          "shell.execute_reply.started": "2023-02-19T06:24:53.919956Z"
        },
        "id": "e5b8b110"
      },
      "outputs": [],
      "source": [
        "from tensorflow.keras import backend as K\n",
        "def f1(y_true, y_pred):\n",
        "    def recall(y_true, y_pred):\n",
        "        \"\"\"Recall metric.\n",
        "\n",
        "        Only computes a batch-wise average of recall.\n",
        "\n",
        "        Computes the recall, a metric for multi-label classification of\n",
        "        how many relevant items are selected.\n",
        "        \"\"\"\n",
        "        true_positives = K.sum(K.round(K.clip(y_true * y_pred, 0, 1)))\n",
        "        possible_positives = K.sum(K.round(K.clip(y_true, 0, 1)))\n",
        "        recall = true_positives / (possible_positives + K.epsilon())\n",
        "        return recall\n",
        "\n",
        "    def precision(y_true, y_pred):\n",
        "        \"\"\"Precision metric.\n",
        "\n",
        "        Only computes a batch-wise average of precision.\n",
        "\n",
        "        Computes the precision, a metric for multi-label classification of\n",
        "        how many selected items are relevant.\n",
        "        \"\"\"\n",
        "        true_positives = K.sum(K.round(K.clip(y_true * y_pred, 0, 1)))\n",
        "        predicted_positives = K.sum(K.round(K.clip(y_pred, 0, 1)))\n",
        "        precision = true_positives / (predicted_positives + K.epsilon())\n",
        "        return precision\n",
        "    precision = precision(y_true, y_pred)\n",
        "    recall = recall(y_true, y_pred)\n",
        "    return 2*((precision*recall)/(precision+recall+K.epsilon()))"
      ]
    },
    {
      "cell_type": "code",
      "execution_count": null,
      "id": "346831b6",
      "metadata": {
        "execution": {
          "iopub.execute_input": "2023-02-19T06:24:59.437127Z",
          "iopub.status.busy": "2023-02-19T06:24:59.436592Z",
          "iopub.status.idle": "2023-02-19T06:25:05.285515Z",
          "shell.execute_reply": "2023-02-19T06:25:05.284416Z",
          "shell.execute_reply.started": "2023-02-19T06:24:59.437085Z"
        },
        "id": "346831b6"
      },
      "outputs": [],
      "source": [
        "vocab = Counter()\n",
        "\n",
        "for text in data.text:\n",
        "    vocab.update(preprocess(text))"
      ]
    },
    {
      "cell_type": "code",
      "execution_count": null,
      "id": "586e6e6b",
      "metadata": {
        "colab": {
          "base_uri": "https://localhost:8080/"
        },
        "execution": {
          "iopub.execute_input": "2023-02-19T06:25:05.288033Z",
          "iopub.status.busy": "2023-02-19T06:25:05.287313Z",
          "iopub.status.idle": "2023-02-19T06:25:05.297897Z",
          "shell.execute_reply": "2023-02-19T06:25:05.296629Z",
          "shell.execute_reply.started": "2023-02-19T06:25:05.287993Z"
        },
        "id": "586e6e6b",
        "outputId": "d6bdc90c-d276-4aa8-fe05-b965db92958d"
      },
      "outputs": [
        {
          "data": {
            "text/plain": [
              "354611"
            ]
          },
          "execution_count": 9,
          "metadata": {},
          "output_type": "execute_result"
        }
      ],
      "source": [
        "len(vocab)"
      ]
    },
    {
      "cell_type": "code",
      "execution_count": null,
      "id": "40d92037",
      "metadata": {
        "execution": {
          "iopub.execute_input": "2023-02-19T06:25:05.349621Z",
          "iopub.status.busy": "2023-02-19T06:25:05.348402Z",
          "iopub.status.idle": "2023-02-19T06:25:05.512476Z",
          "shell.execute_reply": "2023-02-19T06:25:05.511263Z",
          "shell.execute_reply.started": "2023-02-19T06:25:05.349565Z"
        },
        "id": "40d92037"
      },
      "outputs": [],
      "source": [
        "filtered_vocab = set()\n",
        "\n",
        "for word in vocab:\n",
        "    if vocab[word] > 30:\n",
        "        filtered_vocab.add(word)"
      ]
    },
    {
      "cell_type": "code",
      "execution_count": null,
      "id": "d3ccb3bd",
      "metadata": {
        "colab": {
          "base_uri": "https://localhost:8080/"
        },
        "execution": {
          "iopub.execute_input": "2023-02-19T06:25:10.853499Z",
          "iopub.status.busy": "2023-02-19T06:25:10.853069Z",
          "iopub.status.idle": "2023-02-19T06:25:10.860981Z",
          "shell.execute_reply": "2023-02-19T06:25:10.860032Z",
          "shell.execute_reply.started": "2023-02-19T06:25:10.853462Z"
        },
        "id": "d3ccb3bd",
        "outputId": "51c1dc09-92e4-4db6-c053-4017900c734c"
      },
      "outputs": [
        {
          "data": {
            "text/plain": [
              "24091"
            ]
          },
          "execution_count": 11,
          "metadata": {},
          "output_type": "execute_result"
        }
      ],
      "source": [
        "len(filtered_vocab)"
      ]
    },
    {
      "cell_type": "code",
      "execution_count": null,
      "id": "f5a4772b",
      "metadata": {
        "execution": {
          "iopub.execute_input": "2023-02-19T06:25:12.630668Z",
          "iopub.status.busy": "2023-02-19T06:25:12.630148Z",
          "iopub.status.idle": "2023-02-19T06:25:12.651165Z",
          "shell.execute_reply": "2023-02-19T06:25:12.649843Z",
          "shell.execute_reply.started": "2023-02-19T06:25:12.630628Z"
        },
        "id": "f5a4772b"
      },
      "outputs": [],
      "source": [
        "word2id = {'PAD':0, 'UNK':1}\n",
        "\n",
        "for word in filtered_vocab:\n",
        "    word2id[word] = len(word2id)"
      ]
    },
    {
      "cell_type": "code",
      "execution_count": null,
      "id": "e010d321",
      "metadata": {
        "execution": {
          "iopub.execute_input": "2023-02-19T06:25:15.946333Z",
          "iopub.status.busy": "2023-02-19T06:25:15.944896Z",
          "iopub.status.idle": "2023-02-19T06:25:15.960342Z",
          "shell.execute_reply": "2023-02-19T06:25:15.958595Z",
          "shell.execute_reply.started": "2023-02-19T06:25:15.946228Z"
        },
        "id": "e010d321"
      },
      "outputs": [],
      "source": [
        "id2word = {i:word for word, i in word2id.items()}"
      ]
    },
    {
      "cell_type": "code",
      "execution_count": null,
      "id": "01c153f2",
      "metadata": {
        "execution": {
          "iopub.execute_input": "2023-02-19T06:25:17.868737Z",
          "iopub.status.busy": "2023-02-19T06:25:17.868281Z",
          "iopub.status.idle": "2023-02-19T06:25:23.633472Z",
          "shell.execute_reply": "2023-02-19T06:25:23.632560Z",
          "shell.execute_reply.started": "2023-02-19T06:25:17.868705Z"
        },
        "id": "01c153f2"
      },
      "outputs": [],
      "source": [
        "X = []\n",
        "\n",
        "for text in data.text:\n",
        "    tokens = preprocess(text)\n",
        "    ids = [word2id.get(token, 1) for token in tokens]\n",
        "    X.append(ids)"
      ]
    },
    {
      "cell_type": "code",
      "execution_count": null,
      "id": "32b9e96a",
      "metadata": {
        "execution": {
          "iopub.execute_input": "2023-02-19T06:25:23.636310Z",
          "iopub.status.busy": "2023-02-19T06:25:23.635146Z",
          "iopub.status.idle": "2023-02-19T06:25:23.663503Z",
          "shell.execute_reply": "2023-02-19T06:25:23.662484Z",
          "shell.execute_reply.started": "2023-02-19T06:25:23.636262Z"
        },
        "id": "32b9e96a"
      },
      "outputs": [],
      "source": [
        "MAX_LEN = max(len(x) for x in X)\n",
        "MEAN_LEN = np.median([len(x) for x in X])"
      ]
    },
    {
      "cell_type": "code",
      "execution_count": null,
      "id": "23bb090a",
      "metadata": {
        "colab": {
          "base_uri": "https://localhost:8080/"
        },
        "execution": {
          "iopub.execute_input": "2023-02-19T06:25:23.666336Z",
          "iopub.status.busy": "2023-02-19T06:25:23.665184Z",
          "iopub.status.idle": "2023-02-19T06:25:23.677456Z",
          "shell.execute_reply": "2023-02-19T06:25:23.676517Z",
          "shell.execute_reply.started": "2023-02-19T06:25:23.666297Z"
        },
        "id": "23bb090a",
        "outputId": "bcfdcacc-076b-4558-caab-5a72b433f2f7"
      },
      "outputs": [
        {
          "data": {
            "text/plain": [
              "(1748, 170.0)"
            ]
          },
          "execution_count": 14,
          "metadata": {},
          "output_type": "execute_result"
        }
      ],
      "source": [
        "MAX_LEN, MEAN_LEN"
      ]
    },
    {
      "cell_type": "code",
      "execution_count": null,
      "id": "8147405c",
      "metadata": {
        "execution": {
          "iopub.execute_input": "2023-02-19T06:25:27.414570Z",
          "iopub.status.busy": "2023-02-19T06:25:27.413796Z",
          "iopub.status.idle": "2023-02-19T06:25:28.296800Z",
          "shell.execute_reply": "2023-02-19T06:25:28.294538Z",
          "shell.execute_reply.started": "2023-02-19T06:25:27.414529Z"
        },
        "id": "8147405c"
      },
      "outputs": [],
      "source": [
        "X = tf.keras.preprocessing.sequence.pad_sequences(X, maxlen=MAX_LEN)"
      ]
    },
    {
      "cell_type": "code",
      "execution_count": null,
      "id": "b01a4725",
      "metadata": {
        "execution": {
          "iopub.execute_input": "2023-02-19T06:25:30.910212Z",
          "iopub.status.busy": "2023-02-19T06:25:30.909378Z",
          "iopub.status.idle": "2023-02-19T06:25:30.919665Z",
          "shell.execute_reply": "2023-02-19T06:25:30.916471Z",
          "shell.execute_reply.started": "2023-02-19T06:25:30.910170Z"
        },
        "id": "b01a4725"
      },
      "outputs": [],
      "source": [
        "id2label = {i:label for i, label in enumerate(set(data.topic.values))}\n",
        "label2id = {l:i for i, l in id2label.items()}"
      ]
    },
    {
      "cell_type": "code",
      "execution_count": null,
      "id": "ec02c493",
      "metadata": {
        "execution": {
          "iopub.execute_input": "2023-02-19T06:25:33.673526Z",
          "iopub.status.busy": "2023-02-19T06:25:33.673024Z",
          "iopub.status.idle": "2023-02-19T06:25:33.692628Z",
          "shell.execute_reply": "2023-02-19T06:25:33.690974Z",
          "shell.execute_reply.started": "2023-02-19T06:25:33.673490Z"
        },
        "id": "ec02c493"
      },
      "outputs": [],
      "source": [
        "y = tf.keras.utils.to_categorical([label2id[label] for label in data.topic.values])"
      ]
    },
    {
      "cell_type": "code",
      "execution_count": null,
      "id": "5a9e2f56",
      "metadata": {
        "execution": {
          "iopub.execute_input": "2023-02-19T06:25:35.718807Z",
          "iopub.status.busy": "2023-02-19T06:25:35.717996Z",
          "iopub.status.idle": "2023-02-19T06:25:36.531902Z",
          "shell.execute_reply": "2023-02-19T06:25:36.530617Z",
          "shell.execute_reply.started": "2023-02-19T06:25:35.718770Z"
        },
        "id": "5a9e2f56"
      },
      "outputs": [],
      "source": [
        "X_train, X_valid, y_train, y_valid = train_test_split(X, y, test_size=0.05, stratify=y)"
      ]
    },
    {
      "cell_type": "markdown",
      "id": "220e2f3c",
      "metadata": {
        "id": "220e2f3c"
      },
      "source": [
        "#### 1) модель с 1 GRU слоем"
      ]
    },
    {
      "cell_type": "code",
      "execution_count": null,
      "id": "fc7d44c6",
      "metadata": {
        "execution": {
          "iopub.execute_input": "2023-02-18T13:55:58.438703Z",
          "iopub.status.busy": "2023-02-18T13:55:58.438317Z",
          "iopub.status.idle": "2023-02-18T13:55:58.883037Z",
          "shell.execute_reply": "2023-02-18T13:55:58.881733Z",
          "shell.execute_reply.started": "2023-02-18T13:55:58.438670Z"
        },
        "id": "fc7d44c6",
        "outputId": "2124829e-3ff9-434b-87bb-b8afa36dd59b"
      },
      "outputs": [
        {
          "name": "stderr",
          "output_type": "stream",
          "text": [
            "2023-02-18 13:55:58.476836: W tensorflow/stream_executor/platform/default/dso_loader.cc:64] Could not load dynamic library 'libcuda.so.1'; dlerror: libcuda.so.1: cannot open shared object file: No such file or directory; LD_LIBRARY_PATH: /usr/local/cuda/lib64:/usr/local/cuda/lib:/usr/local/lib/x86_64-linux-gnu:/usr/local/nvidia/lib:/usr/local/nvidia/lib64::/opt/conda/lib\n",
            "2023-02-18 13:55:58.476902: W tensorflow/stream_executor/cuda/cuda_driver.cc:269] failed call to cuInit: UNKNOWN ERROR (303)\n"
          ]
        }
      ],
      "source": [
        "inputs = tf.keras.layers.Input(shape=(MAX_LEN,))\n",
        "embeddings = tf.keras.layers.Embedding(input_dim=len(word2id), output_dim=30)(inputs, )\n",
        "\n",
        "gru = tf.keras.layers.GRU(128, return_sequences=False)(embeddings)\n",
        "\n",
        "dense = tf.keras.layers.Dense(64, activation='relu')(gru)\n",
        "outputs = tf.keras.layers.Dense(len(label2id), activation='softmax')(dense)\n",
        "\n",
        "model = tf.keras.Model(inputs=inputs, outputs=outputs)\n",
        "optimizer = tf.keras.optimizers.Adam(learning_rate=0.001)\n",
        "model.compile(optimizer=optimizer,\n",
        "              loss='categorical_crossentropy',\n",
        "              metrics=[f1, tf.keras.metrics.RecallAtPrecision(0.8, name='rec@prec')])"
      ]
    },
    {
      "cell_type": "code",
      "execution_count": null,
      "id": "a2c49597",
      "metadata": {
        "colab": {
          "base_uri": "https://localhost:8080/",
          "height": 531
        },
        "execution": {
          "iopub.execute_input": "2023-02-18T13:56:06.025032Z",
          "iopub.status.busy": "2023-02-18T13:56:06.024637Z",
          "iopub.status.idle": "2023-02-18T15:32:30.903257Z",
          "shell.execute_reply": "2023-02-18T15:32:30.902181Z",
          "shell.execute_reply.started": "2023-02-18T13:56:06.025001Z"
        },
        "id": "a2c49597",
        "outputId": "e5908bea-ac5b-4fbb-be6d-76b983a7df79"
      },
      "outputs": [
        {
          "name": "stdout",
          "output_type": "stream",
          "text": [
            "Epoch 1/10\n",
            "43/43 [==============================] - 592s 14s/step - loss: 2.5913 - f1: 0.0000e+00 - rec@prec: 0.0000e+00 - val_loss: 2.3308 - val_f1: 0.0000e+00 - val_rec@prec: 0.0000e+00\n",
            "Epoch 2/10\n",
            "43/43 [==============================] - 574s 13s/step - loss: 2.2551 - f1: 2.7709e-04 - rec@prec: 0.0000e+00 - val_loss: 2.1757 - val_f1: 0.0090 - val_rec@prec: 0.0000e+00\n",
            "Epoch 3/10\n",
            "43/43 [==============================] - 579s 13s/step - loss: 2.0795 - f1: 0.0197 - rec@prec: 0.0000e+00 - val_loss: 2.0284 - val_f1: 0.0044 - val_rec@prec: 0.0014\n",
            "Epoch 4/10\n",
            "43/43 [==============================] - 565s 13s/step - loss: 1.8056 - f1: 0.0445 - rec@prec: 0.0027 - val_loss: 1.8039 - val_f1: 0.0998 - val_rec@prec: 0.0289\n",
            "Epoch 5/10\n",
            "43/43 [==============================] - 568s 13s/step - loss: 1.6841 - f1: 0.2119 - rec@prec: 0.0851 - val_loss: 1.9504 - val_f1: 0.1927 - val_rec@prec: 0.0221\n",
            "Epoch 6/10\n",
            "43/43 [==============================] - 566s 13s/step - loss: 1.4976 - f1: 0.4033 - rec@prec: 0.2093 - val_loss: 1.5823 - val_f1: 0.4263 - val_rec@prec: 0.2020\n",
            "Epoch 7/10\n",
            "43/43 [==============================] - 568s 13s/step - loss: 1.1864 - f1: 0.5778 - rec@prec: 0.4460 - val_loss: 1.4579 - val_f1: 0.5134 - val_rec@prec: 0.2989\n",
            "Epoch 8/10\n",
            "43/43 [==============================] - 564s 13s/step - loss: 0.9871 - f1: 0.6785 - rec@prec: 0.6132 - val_loss: 1.4399 - val_f1: 0.5474 - val_rec@prec: 0.3580\n",
            "Epoch 9/10\n",
            "43/43 [==============================] - 586s 14s/step - loss: 0.8540 - f1: 0.7324 - rec@prec: 0.6947 - val_loss: 1.4397 - val_f1: 0.5814 - val_rec@prec: 0.3638\n",
            "Epoch 10/10\n",
            "43/43 [==============================] - 566s 13s/step - loss: 0.7239 - f1: 0.7774 - rec@prec: 0.7668 - val_loss: 1.4691 - val_f1: 0.5786 - val_rec@prec: 0.4022\n"
          ]
        },
        {
          "data": {
            "text/plain": [
              "<keras.callbacks.History at 0x7f23d06f1550>"
            ]
          },
          "execution_count": 32,
          "metadata": {},
          "output_type": "execute_result"
        }
      ],
      "source": [
        "model.fit(X_train, y_train, \n",
        "          validation_data=(X_valid, y_valid),\n",
        "          batch_size=1000,\n",
        "          epochs=10)"
      ]
    },
    {
      "cell_type": "code",
      "execution_count": null,
      "id": "b5667a3d",
      "metadata": {
        "execution": {
          "iopub.execute_input": "2023-02-18T15:37:07.349764Z",
          "iopub.status.busy": "2023-02-18T15:37:07.348946Z",
          "iopub.status.idle": "2023-02-18T15:37:07.616861Z",
          "shell.execute_reply": "2023-02-18T15:37:07.615779Z",
          "shell.execute_reply.started": "2023-02-18T15:37:07.349717Z"
        },
        "id": "b5667a3d",
        "outputId": "6ca10102-8ec4-4bdd-a7dd-78caf47f3e78"
      },
      "outputs": [
        {
          "name": "stdout",
          "output_type": "stream",
          "text": [
            "dict_keys(['loss', 'f1', 'rec@prec', 'val_loss', 'val_f1', 'val_rec@prec'])\n"
          ]
        },
        {
          "data": {
            "image/png": "[encoded data removed]",
            "text/plain": [
              "<Figure size 640x480 with 1 Axes>"
            ]
          },
          "metadata": {},
          "output_type": "display_data"
        }
      ],
      "source": [
        "print(model.history.history.keys())\n",
        "# summarize history for accuracy\n",
        "plt.plot(model.history.history['rec@prec'])\n",
        "plt.plot(model.history.history['val_rec@prec'])\n",
        "plt.title('model f1')\n",
        "plt.ylabel('f1')\n",
        "plt.xlabel('epoch')\n",
        "plt.legend(['train', 'val'], loc='upper left')\n",
        "plt.show()"
      ]
    },
    {
      "cell_type": "markdown",
      "id": "29878a7c",
      "metadata": {
        "id": "29878a7c"
      },
      "source": [
        "#### 2) модель с 1 LSTM слоем"
      ]
    },
    {
      "cell_type": "code",
      "execution_count": null,
      "id": "94f11078",
      "metadata": {
        "execution": {
          "iopub.execute_input": "2023-02-18T15:42:12.996375Z",
          "iopub.status.busy": "2023-02-18T15:42:12.995946Z",
          "iopub.status.idle": "2023-02-18T15:42:13.586712Z",
          "shell.execute_reply": "2023-02-18T15:42:13.585537Z",
          "shell.execute_reply.started": "2023-02-18T15:42:12.996340Z"
        },
        "id": "94f11078"
      },
      "outputs": [],
      "source": [
        "inputs = tf.keras.layers.Input(shape=(MAX_LEN,))\n",
        "embeddings = tf.keras.layers.Embedding(input_dim=len(word2id), output_dim=50)(inputs, )\n",
        "\n",
        "lstm = tf.keras.layers.Bidirectional(tf.keras.layers.LSTM(128, return_sequences=False))(embeddings)\n",
        "\n",
        "outputs = tf.keras.layers.Dense(len(label2id), activation='softmax')(lstm)\n",
        "\n",
        "model_lstm = tf.keras.Model(inputs=inputs, outputs=outputs)\n",
        "optimizer = tf.keras.optimizers.Adam(learning_rate=0.001)\n",
        "model_lstm.compile(optimizer=optimizer,\n",
        "              loss='categorical_crossentropy',\n",
        "              metrics=[f1, tf.keras.metrics.RecallAtPrecision(0.8, name='rec@prec')])"
      ]
    },
    {
      "cell_type": "code",
      "execution_count": null,
      "id": "e400b690",
      "metadata": {
        "execution": {
          "iopub.execute_input": "2023-02-18T15:42:19.154310Z",
          "iopub.status.busy": "2023-02-18T15:42:19.153888Z",
          "iopub.status.idle": "2023-02-18T19:10:46.121233Z",
          "shell.execute_reply": "2023-02-18T19:10:46.119198Z",
          "shell.execute_reply.started": "2023-02-18T15:42:19.154274Z"
        },
        "id": "e400b690",
        "outputId": "b10f4b22-2d4c-444e-94be-be23cead2f10"
      },
      "outputs": [
        {
          "name": "stdout",
          "output_type": "stream",
          "text": [
            "Epoch 1/10\n",
            "43/43 [==============================] - 1317s 30s/step - loss: 2.4578 - f1: 0.0000e+00 - rec@prec: 0.0000e+00 - val_loss: 2.3180 - val_f1: 0.0000e+00 - val_rec@prec: 9.0171e-04\n",
            "Epoch 2/10\n",
            "43/43 [==============================] - 1282s 30s/step - loss: 2.2978 - f1: 0.0000e+00 - rec@prec: 2.3732e-05 - val_loss: 2.2530 - val_f1: 0.0000e+00 - val_rec@prec: 0.0095\n",
            "Epoch 3/10\n",
            "43/43 [==============================] - 1254s 29s/step - loss: 2.0184 - f1: 0.0951 - rec@prec: 0.0636 - val_loss: 2.0054 - val_f1: 0.3003 - val_rec@prec: 0.1307\n",
            "Epoch 4/10\n",
            "43/43 [==============================] - 1250s 29s/step - loss: 1.5438 - f1: 0.4032 - rec@prec: 0.2248 - val_loss: 1.4774 - val_f1: 0.4644 - val_rec@prec: 0.2710\n",
            "Epoch 5/10\n",
            "43/43 [==============================] - 1255s 29s/step - loss: 1.3381 - f1: 0.5532 - rec@prec: 0.3667 - val_loss: 1.4350 - val_f1: 0.4695 - val_rec@prec: 0.2687\n",
            "Epoch 6/10\n",
            "43/43 [==============================] - 1243s 29s/step - loss: 1.1674 - f1: 0.6338 - rec@prec: 0.4969 - val_loss: 1.2530 - val_f1: 0.6081 - val_rec@prec: 0.4076\n",
            "Epoch 7/10\n",
            "43/43 [==============================] - 1243s 29s/step - loss: 0.9851 - f1: 0.6970 - rec@prec: 0.6191 - val_loss: 1.1567 - val_f1: 0.6629 - val_rec@prec: 0.4982\n",
            "Epoch 8/10\n",
            "43/43 [==============================] - 1220s 28s/step - loss: 0.8590 - f1: 0.7433 - rec@prec: 0.7100 - val_loss: 1.1022 - val_f1: 0.6725 - val_rec@prec: 0.5464\n",
            "Epoch 9/10\n",
            "43/43 [==============================] - 1202s 28s/step - loss: 0.7466 - f1: 0.7805 - rec@prec: 0.7844 - val_loss: 1.1122 - val_f1: 0.6784 - val_rec@prec: 0.5663\n",
            "Epoch 10/10\n",
            "43/43 [==============================] - 1204s 28s/step - loss: 0.6613 - f1: 0.8088 - rec@prec: 0.8302 - val_loss: 1.1509 - val_f1: 0.6776 - val_rec@prec: 0.5257\n"
          ]
        },
        {
          "data": {
            "text/plain": [
              "<keras.callbacks.History at 0x7f23ba758e10>"
            ]
          },
          "execution_count": 37,
          "metadata": {},
          "output_type": "execute_result"
        }
      ],
      "source": [
        "model_lstm.fit(X_train, y_train, \n",
        "          validation_data=(X_valid, y_valid),\n",
        "          batch_size=1000,\n",
        "          epochs=10)"
      ]
    },
    {
      "cell_type": "code",
      "execution_count": null,
      "id": "28df723d",
      "metadata": {
        "execution": {
          "iopub.execute_input": "2023-02-18T19:10:46.126210Z",
          "iopub.status.busy": "2023-02-18T19:10:46.125785Z",
          "iopub.status.idle": "2023-02-18T19:10:46.333772Z",
          "shell.execute_reply": "2023-02-18T19:10:46.332949Z",
          "shell.execute_reply.started": "2023-02-18T19:10:46.126159Z"
        },
        "id": "28df723d",
        "outputId": "d266a73c-3930-42a9-8786-1bc165fda54d"
      },
      "outputs": [
        {
          "name": "stdout",
          "output_type": "stream",
          "text": [
            "dict_keys(['loss', 'f1', 'rec@prec', 'val_loss', 'val_f1', 'val_rec@prec'])\n"
          ]
        },
        {
          "data": {
            "image/png": "[encoded data removed]",
            "text/plain": [
              "<Figure size 640x480 with 1 Axes>"
            ]
          },
          "metadata": {},
          "output_type": "display_data"
        }
      ],
      "source": [
        "print(model_lstm.history.history.keys())\n",
        "# summarize history for accuracy\n",
        "plt.plot(model_lstm.history.history['rec@prec'])\n",
        "plt.plot(model_lstm.history.history['val_rec@prec'])\n",
        "plt.title('model_lstm f1')\n",
        "plt.ylabel('f1')\n",
        "plt.xlabel('epoch')\n",
        "plt.legend(['train', 'val'], loc='upper left')\n",
        "plt.show()"
      ]
    },
    {
      "cell_type": "markdown",
      "id": "800edb1a",
      "metadata": {
        "id": "800edb1a"
      },
      "source": [
        "#### 3) модель с 1 GRU и 1 LSTM слоем"
      ]
    },
    {
      "cell_type": "code",
      "execution_count": null,
      "id": "0d992f88",
      "metadata": {
        "execution": {
          "iopub.execute_input": "2023-02-19T06:25:52.773877Z",
          "iopub.status.busy": "2023-02-19T06:25:52.773436Z",
          "iopub.status.idle": "2023-02-19T06:25:53.545688Z",
          "shell.execute_reply": "2023-02-19T06:25:53.544375Z",
          "shell.execute_reply.started": "2023-02-19T06:25:52.773828Z"
        },
        "id": "0d992f88",
        "outputId": "a0ea6261-f9ff-4fb2-e812-c67e140dc0ed"
      },
      "outputs": [
        {
          "name": "stderr",
          "output_type": "stream",
          "text": [
            "2023-02-19 06:25:52.826925: W tensorflow/stream_executor/platform/default/dso_loader.cc:64] Could not load dynamic library 'libcuda.so.1'; dlerror: libcuda.so.1: cannot open shared object file: No such file or directory; LD_LIBRARY_PATH: /usr/local/cuda/lib64:/usr/local/cuda/lib:/usr/local/lib/x86_64-linux-gnu:/usr/local/nvidia/lib:/usr/local/nvidia/lib64::/opt/conda/lib\n",
            "2023-02-19 06:25:52.826999: W tensorflow/stream_executor/cuda/cuda_driver.cc:269] failed call to cuInit: UNKNOWN ERROR (303)\n"
          ]
        }
      ],
      "source": [
        "inputs = tf.keras.layers.Input(shape=(MAX_LEN,))\n",
        "embeddings = tf.keras.layers.Embedding(input_dim=len(word2id), output_dim=50)(inputs, )\n",
        "\n",
        "gru = tf.keras.layers.GRU(128, return_sequences=True)(embeddings)\n",
        "lstm = tf.keras.layers.LSTM(128, return_sequences=False)(gru)\n",
        "\n",
        "dense = tf.keras.layers.Dense(64, activation='relu')(lstm)\n",
        "outputs = tf.keras.layers.Dense(len(label2id), activation='softmax')(dense)\n",
        "\n",
        "model_gl = tf.keras.Model(inputs=inputs, outputs=outputs)\n",
        "optimizer = tf.keras.optimizers.Adam(learning_rate=0.001)\n",
        "model_gl.compile(optimizer=optimizer,\n",
        "              loss='categorical_crossentropy',\n",
        "              metrics=[f1, tf.keras.metrics.RecallAtPrecision(0.8, name='rec@prec')])"
      ]
    },
    {
      "cell_type": "code",
      "execution_count": null,
      "id": "89d78959",
      "metadata": {
        "execution": {
          "iopub.execute_input": "2023-02-19T06:26:04.417149Z",
          "iopub.status.busy": "2023-02-19T06:26:04.416720Z",
          "iopub.status.idle": "2023-02-19T11:31:30.892952Z",
          "shell.execute_reply": "2023-02-19T11:31:30.892064Z",
          "shell.execute_reply.started": "2023-02-19T06:26:04.417118Z"
        },
        "id": "89d78959",
        "outputId": "e3c8645e-3326-40a0-937b-b17cb858f85e"
      },
      "outputs": [
        {
          "name": "stdout",
          "output_type": "stream",
          "text": [
            "Epoch 1/10\n",
            "85/85 [==============================] - 1901s 22s/step - loss: 2.3251 - f1: 0.0012 - rec@prec: 0.0000e+00 - val_loss: 2.0210 - val_f1: 0.0000e+00 - val_rec@prec: 0.0000e+00\n",
            "Epoch 2/10\n",
            "85/85 [==============================] - 1937s 23s/step - loss: 1.7868 - f1: 0.1089 - rec@prec: 0.0648 - val_loss: 1.7091 - val_f1: 0.1485 - val_rec@prec: 0.0938\n",
            "Epoch 3/10\n",
            "85/85 [==============================] - 1809s 21s/step - loss: 1.6129 - f1: 0.2216 - rec@prec: 0.1134 - val_loss: 1.6996 - val_f1: 0.3081 - val_rec@prec: 0.0956\n",
            "Epoch 4/10\n",
            "85/85 [==============================] - 1782s 21s/step - loss: 1.3895 - f1: 0.4567 - rec@prec: 0.2394 - val_loss: 1.4397 - val_f1: 0.5317 - val_rec@prec: 0.2831\n",
            "Epoch 5/10\n",
            "85/85 [==============================] - 1869s 22s/step - loss: 1.1528 - f1: 0.6124 - rec@prec: 0.4627 - val_loss: 1.3700 - val_f1: 0.5751 - val_rec@prec: 0.3886\n",
            "Epoch 6/10\n",
            "85/85 [==============================] - 1914s 23s/step - loss: 1.0108 - f1: 0.6658 - rec@prec: 0.5707 - val_loss: 1.3313 - val_f1: 0.5978 - val_rec@prec: 0.4441\n",
            "Epoch 7/10\n",
            "85/85 [==============================] - 1873s 22s/step - loss: 0.8468 - f1: 0.7371 - rec@prec: 0.7027 - val_loss: 1.3107 - val_f1: 0.6471 - val_rec@prec: 0.5018\n",
            "Epoch 8/10\n",
            "85/85 [==============================] - 1742s 20s/step - loss: 0.7068 - f1: 0.7924 - rec@prec: 0.7929 - val_loss: 1.3015 - val_f1: 0.6573 - val_rec@prec: 0.5261\n",
            "Epoch 9/10\n",
            "85/85 [==============================] - 1757s 21s/step - loss: 0.5880 - f1: 0.8335 - rec@prec: 0.8530 - val_loss: 1.3172 - val_f1: 0.6684 - val_rec@prec: 0.5478\n",
            "Epoch 10/10\n",
            "85/85 [==============================] - 1728s 20s/step - loss: 0.4839 - f1: 0.8645 - rec@prec: 0.8972 - val_loss: 1.3534 - val_f1: 0.6731 - val_rec@prec: 0.5523\n"
          ]
        },
        {
          "data": {
            "text/plain": [
              "<keras.callbacks.History at 0x7f48060a4f10>"
            ]
          },
          "execution_count": 20,
          "metadata": {},
          "output_type": "execute_result"
        }
      ],
      "source": [
        "model_gl.fit(X_train, y_train, \n",
        "          validation_data=(X_valid, y_valid),\n",
        "          batch_size=500,\n",
        "          epochs=10)                                       "
      ]
    },
    {
      "cell_type": "code",
      "execution_count": null,
      "id": "6886714e",
      "metadata": {
        "execution": {
          "iopub.execute_input": "2023-02-19T11:31:31.163133Z",
          "iopub.status.busy": "2023-02-19T11:31:31.162183Z",
          "iopub.status.idle": "2023-02-19T11:31:31.391804Z",
          "shell.execute_reply": "2023-02-19T11:31:31.390937Z",
          "shell.execute_reply.started": "2023-02-19T11:31:31.163095Z"
        },
        "id": "6886714e",
        "outputId": "0015f406-7252-4dea-c905-5c08db2212b7"
      },
      "outputs": [
        {
          "name": "stdout",
          "output_type": "stream",
          "text": [
            "dict_keys(['loss', 'f1', 'rec@prec', 'val_loss', 'val_f1', 'val_rec@prec'])\n"
          ]
        },
        {
          "data": {
            "image/png": "[encoded data removed]",
            "text/plain": [
              "<Figure size 640x480 with 1 Axes>"
            ]
          },
          "metadata": {},
          "output_type": "display_data"
        }
      ],
      "source": [
        "print(model_gl.history.history.keys())\n",
        "# summarize history for accuracy\n",
        "plt.plot(model_gl.history.history['rec@prec'])\n",
        "plt.plot(model_gl.history.history['val_rec@prec'])\n",
        "plt.title('model_gl f1')\n",
        "plt.ylabel('f1')\n",
        "plt.xlabel('epoch')\n",
        "plt.legend(['train', 'val'], loc='upper left')\n",
        "plt.show()"
      ]
    },
    {
      "cell_type": "markdown",
      "id": "28e48cbf",
      "metadata": {
        "id": "28e48cbf"
      },
      "source": [
        "#### 4) модель с 1 BIGRU и 2 LSTM слоями"
      ]
    },
    {
      "cell_type": "code",
      "execution_count": null,
      "id": "c871d0d8",
      "metadata": {
        "execution": {
          "iopub.execute_input": "2023-02-19T11:32:55.318536Z",
          "iopub.status.busy": "2023-02-19T11:32:55.317704Z",
          "iopub.status.idle": "2023-02-19T11:32:56.406080Z",
          "shell.execute_reply": "2023-02-19T11:32:56.404816Z",
          "shell.execute_reply.started": "2023-02-19T11:32:55.318500Z"
        },
        "id": "c871d0d8"
      },
      "outputs": [],
      "source": [
        "inputs = tf.keras.layers.Input(shape=(MAX_LEN,))\n",
        "embeddings = tf.keras.layers.Embedding(input_dim=len(word2id), output_dim=30)(inputs, )\n",
        "\n",
        "bigru = tf.keras.layers.Bidirectional(tf.keras.layers.GRU(128, return_sequences=True))(embeddings)\n",
        "lstm1 = tf.keras.layers.LSTM(32, return_sequences=True)(bigru)\n",
        "lstm2 = tf.keras.layers.LSTM(32, return_sequences=False)(lstm1)\n",
        "\n",
        "dense = tf.keras.layers.Dense(64, activation='relu')(lstm2)\n",
        "outputs = tf.keras.layers.Dense(len(label2id), activation='softmax')(dense)\n",
        "\n",
        "model_bl = tf.keras.Model(inputs=inputs, outputs=outputs)\n",
        "optimizer = tf.keras.optimizers.Adam(learning_rate=0.001)\n",
        "model_bl.compile(optimizer=optimizer,\n",
        "              loss='categorical_crossentropy',\n",
        "              metrics=[f1, tf.keras.metrics.RecallAtPrecision(0.8, name='rec@prec')])"
      ]
    },
    {
      "cell_type": "code",
      "execution_count": null,
      "id": "57a26266",
      "metadata": {
        "colab": {
          "base_uri": "https://localhost:8080/"
        },
        "execution": {
          "iopub.execute_input": "2023-02-19T11:33:48.312469Z",
          "iopub.status.busy": "2023-02-19T11:33:48.311782Z"
        },
        "id": "57a26266",
        "outputId": "e5ce83d9-6f05-4dcb-f20a-4198785d0119"
      },
      "outputs": [
        {
          "name": "stdout",
          "output_type": "stream",
          "text": [
            "Epoch 1/10\n"
          ]
        },
        {
          "name": "stderr",
          "output_type": "stream",
          "text": [
            "WARNING:tensorflow:From /usr/local/lib/python3.8/dist-packages/tensorflow/python/autograph/pyct/static_analysis/liveness.py:83: Analyzer.lamba_check (from tensorflow.python.autograph.pyct.static_analysis.liveness) is deprecated and will be removed after 2023-09-23.\n",
            "Instructions for updating:\n",
            "Lambda fuctions will be no more assumed to be used in the statement where they are used, or at least in the same block. https://github.com/tensorflow/tensorflow/issues/56089\n"
          ]
        },
        {
          "name": "stdout",
          "output_type": "stream",
          "text": [
            "85/85 [==============================] - 77s 792ms/step - loss: 2.4564 - f1: 0.0000e+00 - rec@prec: 0.0000e+00 - val_loss: 2.3252 - val_f1: 0.0000e+00 - val_rec@prec: 0.0000e+00\n",
            "Epoch 2/10\n",
            "85/85 [==============================] - 65s 768ms/step - loss: 2.3235 - f1: 0.0000e+00 - rec@prec: 0.0000e+00 - val_loss: 2.3215 - val_f1: 0.0000e+00 - val_rec@prec: 0.0000e+00\n",
            "Epoch 3/10\n",
            "85/85 [==============================] - 65s 768ms/step - loss: 2.3227 - f1: 0.0000e+00 - rec@prec: 0.0000e+00 - val_loss: 2.3201 - val_f1: 0.0000e+00 - val_rec@prec: 0.0000e+00\n",
            "Epoch 4/10\n",
            "85/85 [==============================] - 65s 760ms/step - loss: 2.3205 - f1: 0.0000e+00 - rec@prec: 0.0000e+00 - val_loss: 2.3003 - val_f1: 0.0000e+00 - val_rec@prec: 0.0000e+00\n",
            "Epoch 5/10\n",
            "85/85 [==============================] - 65s 764ms/step - loss: 2.0163 - f1: 0.0289 - rec@prec: 0.0000e+00 - val_loss: 1.8930 - val_f1: 0.1648 - val_rec@prec: 0.0027\n",
            "Epoch 6/10\n",
            "85/85 [==============================] - 64s 758ms/step - loss: 1.6755 - f1: 0.2694 - rec@prec: 0.0379 - val_loss: 1.6424 - val_f1: 0.3684 - val_rec@prec: 0.1100\n",
            "Epoch 7/10\n",
            "85/85 [==============================] - 64s 758ms/step - loss: 1.4871 - f1: 0.4187 - rec@prec: 0.1641 - val_loss: 1.5078 - val_f1: 0.4516 - val_rec@prec: 0.1686\n",
            "Epoch 8/10\n",
            "85/85 [==============================] - 64s 753ms/step - loss: 1.3424 - f1: 0.5247 - rec@prec: 0.2712 - val_loss: 1.4416 - val_f1: 0.4861 - val_rec@prec: 0.2087\n",
            "Epoch 9/10\n",
            "85/85 [==============================] - 63s 745ms/step - loss: 1.2410 - f1: 0.5829 - rec@prec: 0.3578 - val_loss: 1.4362 - val_f1: 0.5150 - val_rec@prec: 0.2191\n",
            "Epoch 10/10\n",
            "85/85 [==============================] - 64s 753ms/step - loss: 1.1570 - f1: 0.6106 - rec@prec: 0.4464 - val_loss: 1.3649 - val_f1: 0.5398 - val_rec@prec: 0.2381\n"
          ]
        },
        {
          "data": {
            "text/plain": [
              "<keras.callbacks.History at 0x7ff59e59c730>"
            ]
          },
          "execution_count": 19,
          "metadata": {},
          "output_type": "execute_result"
        }
      ],
      "source": [
        "model_bl.fit(X_train, y_train, \n",
        "          validation_data=(X_valid, y_valid),\n",
        "          batch_size=500,\n",
        "          epochs=10)"
      ]
    },
    {
      "cell_type": "code",
      "execution_count": null,
      "id": "58449c60",
      "metadata": {
        "colab": {
          "base_uri": "https://localhost:8080/",
          "height": 295
        },
        "execution": {
          "iopub.execute_input": "2023-02-19T19:05:58.281935Z",
          "iopub.status.busy": "2023-02-19T19:05:58.281296Z",
          "iopub.status.idle": "2023-02-19T19:05:58.373771Z",
          "shell.execute_reply": "2023-02-19T19:05:58.372229Z",
          "shell.execute_reply.started": "2023-02-19T19:05:58.281798Z"
        },
        "id": "58449c60",
        "outputId": "a98a0f65-e244-4b11-a9f4-ec4ad61c89f1"
      },
      "outputs": [
        {
          "data": {
            "image/png": "[encoded data removed]",
            "text/plain": [
              "<Figure size 432x288 with 1 Axes>"
            ]
          },
          "metadata": {
            "needs_background": "light"
          },
          "output_type": "display_data"
        }
      ],
      "source": [
        "plt.plot(model_bl.history.history['rec@prec'])\n",
        "plt.plot(model_bl.history.history['val_rec@prec'])\n",
        "plt.title('model_bl (1 bigru + 2 lstm) f1')\n",
        "plt.ylabel('f1')\n",
        "plt.xlabel('epoch')\n",
        "plt.legend(['train', 'val'], loc='upper left')\n",
        "plt.show()"
      ]
    },
    {
      "cell_type": "markdown",
      "id": "92f35934",
      "metadata": {
        "id": "92f35934"
      },
      "source": [
        "#### 5) модель с 5 GRU слоями и 3 LSTM слоями"
      ]
    },
    {
      "cell_type": "code",
      "execution_count": null,
      "id": "deoATNLxvC0B",
      "metadata": {
        "id": "deoATNLxvC0B"
      },
      "outputs": [],
      "source": [
        "inputs = tf.keras.layers.Input(shape=(MAX_LEN,))\n",
        "embeddings = tf.keras.layers.Embedding(input_dim=len(word2id), output_dim=30)(inputs, )\n",
        "\n",
        "gru1 = tf.keras.layers.GRU(128, return_sequences=True)(embeddings)\n",
        "gru2 = tf.keras.layers.GRU(32, return_sequences=True)(gru1)\n",
        "gru3 = tf.keras.layers.GRU(32, return_sequences=True)(gru2)\n",
        "gru4 = tf.keras.layers.GRU(32, return_sequences=True)(gru3)\n",
        "gru5 = tf.keras.layers.GRU(32, return_sequences=True)(gru4)\n",
        "\n",
        "lstm1 = tf.keras.layers.LSTM(32, return_sequences=True)(gru5)\n",
        "lstm2 = tf.keras.layers.LSTM(32, return_sequences=True)(lstm1)\n",
        "lstm3 = tf.keras.layers.LSTM(32, return_sequences=False)(lstm2)\n",
        "\n",
        "dense = tf.keras.layers.Dense(64, activation='relu')(lstm3)\n",
        "outputs = tf.keras.layers.Dense(len(label2id), activation='softmax')(dense)\n",
        "\n",
        "model_gl2 = tf.keras.Model(inputs=inputs, outputs=outputs)\n",
        "optimizer = tf.keras.optimizers.Adam(learning_rate=0.001)\n",
        "model_gl2.compile(optimizer=optimizer,\n",
        "              loss='categorical_crossentropy',\n",
        "              metrics=[f1, tf.keras.metrics.RecallAtPrecision(0.8, name='rec@prec')])"
      ]
    },
    {
      "cell_type": "code",
      "execution_count": null,
      "id": "77gt4A_4vc0P",
      "metadata": {
        "colab": {
          "base_uri": "https://localhost:8080/"
        },
        "id": "77gt4A_4vc0P",
        "outputId": "d2a717ed-eedd-4a0b-c6b1-d54a0c500e14"
      },
      "outputs": [
        {
          "name": "stdout",
          "output_type": "stream",
          "text": [
            "Epoch 1/10\n"
          ]
        },
        {
          "name": "stderr",
          "output_type": "stream",
          "text": [
            "WARNING:tensorflow:From /usr/local/lib/python3.8/dist-packages/tensorflow/python/autograph/pyct/static_analysis/liveness.py:83: Analyzer.lamba_check (from tensorflow.python.autograph.pyct.static_analysis.liveness) is deprecated and will be removed after 2023-09-23.\n",
            "Instructions for updating:\n",
            "Lambda fuctions will be no more assumed to be used in the statement where they are used, or at least in the same block. https://github.com/tensorflow/tensorflow/issues/56089\n"
          ]
        },
        {
          "name": "stdout",
          "output_type": "stream",
          "text": [
            "85/85 [==============================] - 92s 904ms/step - loss: 2.4523 - f1: 0.0000e+00 - rec@prec: 0.0000e+00 - val_loss: 2.3250 - val_f1: 0.0000e+00 - val_rec@prec: 0.0000e+00\n",
            "Epoch 2/10\n",
            "85/85 [==============================] - 71s 840ms/step - loss: 2.3241 - f1: 0.0000e+00 - rec@prec: 0.0000e+00 - val_loss: 2.3209 - val_f1: 0.0000e+00 - val_rec@prec: 0.0000e+00\n",
            "Epoch 3/10\n",
            "85/85 [==============================] - 70s 827ms/step - loss: 2.3228 - f1: 0.0000e+00 - rec@prec: 0.0000e+00 - val_loss: 2.3218 - val_f1: 0.0000e+00 - val_rec@prec: 0.0000e+00\n",
            "Epoch 4/10\n",
            "85/85 [==============================] - 70s 824ms/step - loss: 2.3227 - f1: 0.0000e+00 - rec@prec: 0.0000e+00 - val_loss: 2.3206 - val_f1: 0.0000e+00 - val_rec@prec: 0.0000e+00\n",
            "Epoch 5/10\n",
            "85/85 [==============================] - 70s 819ms/step - loss: 2.3226 - f1: 0.0000e+00 - rec@prec: 0.0000e+00 - val_loss: 2.3204 - val_f1: 0.0000e+00 - val_rec@prec: 0.0000e+00\n",
            "Epoch 6/10\n",
            "85/85 [==============================] - 70s 825ms/step - loss: 2.3222 - f1: 0.0000e+00 - rec@prec: 0.0000e+00 - val_loss: 2.3190 - val_f1: 0.0000e+00 - val_rec@prec: 0.0000e+00\n",
            "Epoch 7/10\n",
            "85/85 [==============================] - 70s 819ms/step - loss: 2.3224 - f1: 0.0000e+00 - rec@prec: 0.0000e+00 - val_loss: 2.3192 - val_f1: 0.0000e+00 - val_rec@prec: 0.0000e+00\n",
            "Epoch 8/10\n",
            "85/85 [==============================] - 69s 817ms/step - loss: 2.3219 - f1: 0.0000e+00 - rec@prec: 0.0000e+00 - val_loss: 2.3192 - val_f1: 0.0000e+00 - val_rec@prec: 0.0000e+00\n",
            "Epoch 9/10\n",
            "85/85 [==============================] - 70s 818ms/step - loss: 2.3221 - f1: 0.0000e+00 - rec@prec: 0.0000e+00 - val_loss: 2.3199 - val_f1: 0.0000e+00 - val_rec@prec: 0.0000e+00\n",
            "Epoch 10/10\n",
            "85/85 [==============================] - 70s 826ms/step - loss: 2.3217 - f1: 0.0000e+00 - rec@prec: 0.0000e+00 - val_loss: 2.3190 - val_f1: 0.0000e+00 - val_rec@prec: 0.0000e+00\n"
          ]
        },
        {
          "data": {
            "text/plain": [
              "<keras.callbacks.History at 0x7f05e80d5bb0>"
            ]
          },
          "execution_count": 18,
          "metadata": {},
          "output_type": "execute_result"
        }
      ],
      "source": [
        "model_gl2.fit(X_train, y_train, \n",
        "          validation_data=(X_valid, y_valid),\n",
        "          batch_size=500,\n",
        "          epochs=10)"
      ]
    },
    {
      "cell_type": "code",
      "execution_count": null,
      "id": "QJ6Yjau0vj3m",
      "metadata": {
        "colab": {
          "base_uri": "https://localhost:8080/",
          "height": 295
        },
        "id": "QJ6Yjau0vj3m",
        "outputId": "7d22ca5d-b787-480a-cee0-160be3658ef1"
      },
      "outputs": [
        {
          "data": {
            "image/png": "[encoded data removed]",
            "text/plain": [
              "<Figure size 432x288 with 1 Axes>"
            ]
          },
          "metadata": {
            "needs_background": "light"
          },
          "output_type": "display_data"
        }
      ],
      "source": [
        "plt.plot(model_gl2.history.history['rec@prec'])\n",
        "plt.plot(model_gl2.history.history['val_rec@prec'])\n",
        "plt.title('model_gl2 (5 gru + 3 lstm) f1')\n",
        "plt.ylabel('f1')\n",
        "plt.xlabel('epoch')\n",
        "plt.legend(['train', 'val'], loc='upper left')\n",
        "plt.show()"
      ]
    },
    {
      "cell_type": "markdown",
      "id": "e1856815",
      "metadata": {
        "id": "e1856815"
      },
      "source": [
        "#### 6) модель 1 BIGRU и 1 BILSTM слоями, причем так чтобы модели для forward и backward прохода отличались"
      ]
    },
    {
      "cell_type": "code",
      "execution_count": null,
      "id": "oVz_oB1-2phB",
      "metadata": {
        "id": "oVz_oB1-2phB"
      },
      "outputs": [],
      "source": [
        "inputs = tf.keras.layers.Input(shape=(MAX_LEN,))\n",
        "embeddings = tf.keras.layers.Embedding(input_dim=len(word2id), output_dim=30)(inputs, )\n",
        "\n",
        "bigru_bilstm = tf.keras.layers.Bidirectional(tf.keras.layers.GRU(128, return_sequences=False),\n",
        "                                             backward_layer=tf.keras.layers.LSTM(32, return_sequences=False, go_backwards=True))(embeddings)\n",
        "\n",
        "dense = tf.keras.layers.Dense(64, activation='relu')(bigru_bilstm)\n",
        "outputs = tf.keras.layers.Dense(len(label2id), activation='softmax')(dense)\n",
        "\n",
        "model_bb = tf.keras.Model(inputs=inputs, outputs=outputs)\n",
        "optimizer = tf.keras.optimizers.Adam(learning_rate=0.001)\n",
        "model_bb.compile(optimizer=optimizer,\n",
        "              loss='categorical_crossentropy',\n",
        "              metrics=[f1, tf.keras.metrics.RecallAtPrecision(0.8, name='rec@prec')])"
      ]
    },
    {
      "cell_type": "code",
      "execution_count": null,
      "id": "xlp_nXFv3Ghs",
      "metadata": {
        "colab": {
          "base_uri": "https://localhost:8080/",
          "height": 745
        },
        "id": "xlp_nXFv3Ghs",
        "outputId": "accfcf4f-ea93-414a-e558-c09c347ee963"
      },
      "outputs": [
        {
          "metadata": {
            "tags": null
          },
          "name": "stdout",
          "output_type": "stream",
          "text": [
            "Epoch 1/10\n"
          ]
        },
        {
          "metadata": {
            "tags": null
          },
          "name": "stderr",
          "output_type": "stream",
          "text": [
            "WARNING:tensorflow:From /usr/local/lib/python3.8/dist-packages/tensorflow/python/autograph/pyct/static_analysis/liveness.py:83: Analyzer.lamba_check (from tensorflow.python.autograph.pyct.static_analysis.liveness) is deprecated and will be removed after 2023-09-23.\n",
            "Instructions for updating:\n",
            "Lambda fuctions will be no more assumed to be used in the statement where they are used, or at least in the same block. https://github.com/tensorflow/tensorflow/issues/56089\n"
          ]
        },
        {
          "metadata": {
            "tags": null
          },
          "name": "stdout",
          "output_type": "stream",
          "text": [
            "85/85 [==============================] - 49s 429ms/step - loss: 2.4093 - f1: 0.0000e+00 - rec@prec: 0.0000e+00 - val_loss: 2.0710 - val_f1: 0.0000e+00 - val_rec@prec: 0.0000e+00\n",
            "Epoch 2/10\n",
            "85/85 [==============================] - 41s 481ms/step - loss: 1.9072 - f1: 0.0827 - rec@prec: 0.0338 - val_loss: 1.7277 - val_f1: 0.1577 - val_rec@prec: 0.1010\n",
            "Epoch 3/10\n",
            "85/85 [==============================] - 33s 384ms/step - loss: 1.5716 - f1: 0.2791 - rec@prec: 0.1451 - val_loss: 1.5956 - val_f1: 0.3455 - val_rec@prec: 0.1479\n",
            "Epoch 4/10\n",
            "85/85 [==============================] - 32s 371ms/step - loss: 1.3195 - f1: 0.5189 - rec@prec: 0.3198 - val_loss: 1.4244 - val_f1: 0.5232 - val_rec@prec: 0.3264\n",
            "Epoch 5/10\n",
            "85/85 [==============================] - 31s 364ms/step - loss: 1.0791 - f1: 0.6339 - rec@prec: 0.5160 - val_loss: 1.3740 - val_f1: 0.5603 - val_rec@prec: 0.3909\n",
            "Epoch 6/10\n",
            "85/85 [==============================] - 31s 361ms/step - loss: 0.9176 - f1: 0.6901 - rec@prec: 0.6194 - val_loss: 1.3895 - val_f1: 0.5917 - val_rec@prec: 0.4008\n",
            "Epoch 7/10\n",
            "85/85 [==============================] - 29s 337ms/step - loss: 0.7757 - f1: 0.7459 - rec@prec: 0.7267 - val_loss: 1.4979 - val_f1: 0.6068 - val_rec@prec: 0.3873\n",
            "Epoch 8/10\n",
            "85/85 [==============================] - 29s 342ms/step - loss: 0.6578 - f1: 0.7921 - rec@prec: 0.7989 - val_loss: 1.5149 - val_f1: 0.6040 - val_rec@prec: 0.4040\n",
            "Epoch 9/10\n",
            "85/85 [==============================] - 29s 338ms/step - loss: 0.5604 - f1: 0.8284 - rec@prec: 0.8583 - val_loss: 1.5441 - val_f1: 0.6389 - val_rec@prec: 0.4626\n",
            "Epoch 10/10\n",
            "85/85 [==============================] - 28s 331ms/step - loss: 0.4487 - f1: 0.8704 - rec@prec: 0.9107 - val_loss: 1.6483 - val_f1: 0.6341 - val_rec@prec: 0.4599\n"
          ]
        },
        {
          "ename": "KeyboardInterrupt",
          "evalue": "ignored",
          "output_type": "error",
          "traceback": [
            "\u001b[0;31m---------------------------------------------------------------------------\u001b[0m",
            "\u001b[0;31mKeyboardInterrupt\u001b[0m                         Traceback (most recent call last)",
            "\u001b[0;32m<ipython-input-21-668b1cb9aee7>\u001b[0m in \u001b[0;36m<module>\u001b[0;34m\u001b[0m\n\u001b[0;32m----> 1\u001b[0;31m model_bb.fit(X_train, y_train, \n\u001b[0m\u001b[1;32m      2\u001b[0m           \u001b[0mvalidation_data\u001b[0m\u001b[0;34m=\u001b[0m\u001b[0;34m(\u001b[0m\u001b[0mX_valid\u001b[0m\u001b[0;34m,\u001b[0m \u001b[0my_valid\u001b[0m\u001b[0;34m)\u001b[0m\u001b[0;34m,\u001b[0m\u001b[0;34m\u001b[0m\u001b[0;34m\u001b[0m\u001b[0m\n\u001b[1;32m      3\u001b[0m           \u001b[0mbatch_size\u001b[0m\u001b[0;34m=\u001b[0m\u001b[0;36m500\u001b[0m\u001b[0;34m,\u001b[0m\u001b[0;34m\u001b[0m\u001b[0;34m\u001b[0m\u001b[0m\n\u001b[1;32m      4\u001b[0m           epochs=10)\n",
            "\u001b[0;32m/usr/local/lib/python3.8/dist-packages/keras/utils/traceback_utils.py\u001b[0m in \u001b[0;36merror_handler\u001b[0;34m(*args, **kwargs)\u001b[0m\n\u001b[1;32m     63\u001b[0m         \u001b[0mfiltered_tb\u001b[0m \u001b[0;34m=\u001b[0m \u001b[0;32mNone\u001b[0m\u001b[0;34m\u001b[0m\u001b[0;34m\u001b[0m\u001b[0m\n\u001b[1;32m     64\u001b[0m         \u001b[0;32mtry\u001b[0m\u001b[0;34m:\u001b[0m\u001b[0;34m\u001b[0m\u001b[0;34m\u001b[0m\u001b[0m\n\u001b[0;32m---> 65\u001b[0;31m             \u001b[0;32mreturn\u001b[0m \u001b[0mfn\u001b[0m\u001b[0;34m(\u001b[0m\u001b[0;34m*\u001b[0m\u001b[0margs\u001b[0m\u001b[0;34m,\u001b[0m \u001b[0;34m**\u001b[0m\u001b[0mkwargs\u001b[0m\u001b[0;34m)\u001b[0m\u001b[0;34m\u001b[0m\u001b[0;34m\u001b[0m\u001b[0m\n\u001b[0m\u001b[1;32m     66\u001b[0m         \u001b[0;32mexcept\u001b[0m \u001b[0mException\u001b[0m \u001b[0;32mas\u001b[0m \u001b[0me\u001b[0m\u001b[0;34m:\u001b[0m\u001b[0;34m\u001b[0m\u001b[0;34m\u001b[0m\u001b[0m\n\u001b[1;32m     67\u001b[0m             \u001b[0mfiltered_tb\u001b[0m \u001b[0;34m=\u001b[0m \u001b[0m_process_traceback_frames\u001b[0m\u001b[0;34m(\u001b[0m\u001b[0me\u001b[0m\u001b[0;34m.\u001b[0m\u001b[0m__traceback__\u001b[0m\u001b[0;34m)\u001b[0m\u001b[0;34m\u001b[0m\u001b[0;34m\u001b[0m\u001b[0m\n",
            "\u001b[0;31mKeyboardInterrupt\u001b[0m: "
          ]
        }
      ],
      "source": [
        "model_bb.fit(X_train, y_train, \n",
        "          validation_data=(X_valid, y_valid),\n",
        "          batch_size=500,\n",
        "          epochs=10)"
      ]
    },
    {
      "cell_type": "code",
      "execution_count": null,
      "id": "7yprZqGH_IgX",
      "metadata": {
        "colab": {
          "base_uri": "https://localhost:8080/",
          "height": 295
        },
        "id": "7yprZqGH_IgX",
        "outputId": "009dc0fc-adbf-4507-cad5-928c6cb4f734"
      },
      "outputs": [
        {
          "data": {
            "image/png": "[encoded data removed]",
            "text/plain": [
              "<Figure size 432x288 with 1 Axes>"
            ]
          },
          "metadata": {
            "needs_background": "light"
          },
          "output_type": "display_data"
        }
      ],
      "source": [
        "plt.plot(model_bb.history.history['rec@prec'])\n",
        "plt.plot(model_bb.history.history['val_rec@prec'])\n",
        "plt.title('model_bb (bigru+bilstm) f1')\n",
        "plt.ylabel('f1')\n",
        "plt.xlabel('epoch')\n",
        "plt.legend(['train', 'val'], loc='upper left')\n",
        "plt.show()"
      ]
    },
    {
      "cell_type": "markdown",
      "id": "74b73572",
      "metadata": {
        "id": "74b73572"
      },
      "source": [
        "#### 7) модель, где последовательно идут слои: LSTM, GRU, BILSTM, BIGRU, GRU, LSTM"
      ]
    },
    {
      "cell_type": "code",
      "execution_count": null,
      "id": "LYsqu3oqATCd",
      "metadata": {
        "id": "LYsqu3oqATCd"
      },
      "outputs": [],
      "source": [
        "inputs = tf.keras.layers.Input(shape=(MAX_LEN,))\n",
        "embeddings = tf.keras.layers.Embedding(input_dim=len(word2id), output_dim=30)(inputs, )\n",
        "\n",
        "lstm1 = tf.keras.layers.LSTM(32, return_sequences=True)(embeddings)\n",
        "gru1 = tf.keras.layers.GRU(128, return_sequences=True)(lstm1)\n",
        "bilstm = tf.keras.layers.Bidirectional(tf.keras.layers.LSTM(32, return_sequences=True))(gru1)\n",
        "bigru = tf.keras.layers.Bidirectional(tf.keras.layers.GRU(32, return_sequences=True))(bilstm)\n",
        "gru2 = tf.keras.layers.GRU(32, return_sequences=True)(bigru)\n",
        "lstm2 = tf.keras.layers.LSTM(32, return_sequences=False)(gru2)\n",
        "\n",
        "dense = tf.keras.layers.Dense(64, activation='relu')(lstm2)\n",
        "outputs = tf.keras.layers.Dense(len(label2id), activation='softmax')(dense)\n",
        "\n",
        "model_all = tf.keras.Model(inputs=inputs, outputs=outputs)\n",
        "optimizer = tf.keras.optimizers.Adam(learning_rate=0.001)\n",
        "model_all.compile(optimizer=optimizer,\n",
        "              loss='categorical_crossentropy',\n",
        "              metrics=[f1, tf.keras.metrics.RecallAtPrecision(0.8, name='rec@prec')])\n"
      ]
    },
    {
      "cell_type": "code",
      "execution_count": null,
      "id": "lsUrkNO_Btnz",
      "metadata": {
        "colab": {
          "base_uri": "https://localhost:8080/"
        },
        "id": "lsUrkNO_Btnz",
        "outputId": "b8d8091e-b3c0-4ee5-b38a-b4672db7c0e2"
      },
      "outputs": [
        {
          "name": "stdout",
          "output_type": "stream",
          "text": [
            "Epoch 1/10\n"
          ]
        },
        {
          "name": "stderr",
          "output_type": "stream",
          "text": [
            "WARNING:tensorflow:From /usr/local/lib/python3.8/dist-packages/tensorflow/python/autograph/pyct/static_analysis/liveness.py:83: Analyzer.lamba_check (from tensorflow.python.autograph.pyct.static_analysis.liveness) is deprecated and will be removed after 2023-09-23.\n",
            "Instructions for updating:\n",
            "Lambda fuctions will be no more assumed to be used in the statement where they are used, or at least in the same block. https://github.com/tensorflow/tensorflow/issues/56089\n"
          ]
        },
        {
          "name": "stdout",
          "output_type": "stream",
          "text": [
            "85/85 [==============================] - 107s 1s/step - loss: 2.4295 - f1: 0.0000e+00 - rec@prec: 0.0000e+00 - val_loss: 2.3244 - val_f1: 0.0000e+00 - val_rec@prec: 0.0000e+00\n",
            "Epoch 2/10\n",
            "85/85 [==============================] - 84s 987ms/step - loss: 2.3236 - f1: 0.0000e+00 - rec@prec: 0.0000e+00 - val_loss: 2.3198 - val_f1: 0.0000e+00 - val_rec@prec: 0.0000e+00\n",
            "Epoch 3/10\n",
            "85/85 [==============================] - 84s 989ms/step - loss: 2.3226 - f1: 0.0000e+00 - rec@prec: 0.0000e+00 - val_loss: 2.3193 - val_f1: 0.0000e+00 - val_rec@prec: 0.0000e+00\n",
            "Epoch 4/10\n",
            "85/85 [==============================] - 82s 971ms/step - loss: 2.3218 - f1: 0.0000e+00 - rec@prec: 0.0000e+00 - val_loss: 2.3193 - val_f1: 0.0000e+00 - val_rec@prec: 0.0000e+00\n",
            "Epoch 5/10\n",
            "85/85 [==============================] - 81s 954ms/step - loss: 2.3219 - f1: 0.0000e+00 - rec@prec: 0.0000e+00 - val_loss: 2.3189 - val_f1: 0.0000e+00 - val_rec@prec: 0.0000e+00\n",
            "Epoch 6/10\n",
            "85/85 [==============================] - 81s 958ms/step - loss: 2.3217 - f1: 0.0000e+00 - rec@prec: 0.0000e+00 - val_loss: 2.3219 - val_f1: 0.0000e+00 - val_rec@prec: 0.0000e+00\n",
            "Epoch 7/10\n",
            "85/85 [==============================] - 79s 934ms/step - loss: 2.3222 - f1: 0.0000e+00 - rec@prec: 0.0000e+00 - val_loss: 2.3211 - val_f1: 0.0000e+00 - val_rec@prec: 0.0000e+00\n",
            "Epoch 8/10\n",
            "85/85 [==============================] - 79s 934ms/step - loss: 2.3230 - f1: 0.0000e+00 - rec@prec: 0.0000e+00 - val_loss: 2.3187 - val_f1: 0.0000e+00 - val_rec@prec: 0.0000e+00\n",
            "Epoch 9/10\n",
            "85/85 [==============================] - 80s 941ms/step - loss: 2.3213 - f1: 0.0000e+00 - rec@prec: 0.0000e+00 - val_loss: 2.3185 - val_f1: 0.0000e+00 - val_rec@prec: 0.0000e+00\n",
            "Epoch 10/10\n",
            "85/85 [==============================] - 81s 950ms/step - loss: 2.3218 - f1: 0.0000e+00 - rec@prec: 0.0000e+00 - val_loss: 2.3224 - val_f1: 0.0000e+00 - val_rec@prec: 0.0000e+00\n"
          ]
        },
        {
          "data": {
            "text/plain": [
              "<keras.callbacks.History at 0x7f83982e29d0>"
            ]
          },
          "execution_count": 18,
          "metadata": {},
          "output_type": "execute_result"
        }
      ],
      "source": [
        "model_all.fit(X_train, y_train, \n",
        "          validation_data=(X_valid, y_valid),\n",
        "          batch_size=500,\n",
        "          epochs=10)"
      ]
    },
    {
      "cell_type": "code",
      "execution_count": null,
      "id": "Q6XQdUD1BxIY",
      "metadata": {
        "colab": {
          "base_uri": "https://localhost:8080/",
          "height": 295
        },
        "id": "Q6XQdUD1BxIY",
        "outputId": "6ffdeb78-ca91-418b-d778-2ce5fd8de130"
      },
      "outputs": [
        {
          "data": {
            "image/png": "[encoded data removed]",
            "text/plain": [
              "<Figure size 432x288 with 1 Axes>"
            ]
          },
          "metadata": {
            "needs_background": "light"
          },
          "output_type": "display_data"
        }
      ],
      "source": [
        "plt.plot(model_all.history.history['rec@prec'])\n",
        "plt.plot(model_all.history.history['val_rec@prec'])\n",
        "plt.title('model_all f1')\n",
        "plt.ylabel('f1')\n",
        "plt.xlabel('epoch')\n",
        "plt.legend(['train', 'val'], loc='upper left')\n",
        "plt.show()"
      ]
    },
    {
      "cell_type": "markdown",
      "id": "2cad3536",
      "metadata": {
        "id": "2cad3536"
      },
      "source": [
        "##### Summary\n",
        "\n",
        "На последней эпохе метрика f1_val выше всего у модели с 1 lstm слоем, на 2 месте модель с 1 gru и 1 lstm слоем. Модель с 5 gru и 3 lstm и модель, где последовательно идут слои: LSTM, GRU, BILSTM, BIGRU, GRU, LSTM, почему-то совсем необучились. Возможно, это из-за того, что я сильно сокращала batch-size, кол-во эпох и юнитов. Но без этого у меня очень долго все работало или не запускалось вообще"
      ]
    },
    {
      "cell_type": "markdown",
      "id": "ac414448",
      "metadata": {
        "id": "ac414448"
      },
      "source": [
        "## Задание 2 (6 баллов)\n"
      ]
    },
    {
      "cell_type": "markdown",
      "id": "b800c206",
      "metadata": {
        "id": "b800c206"
      },
      "source": [
        "На данных википедии (wikiann) обучите 2 модели:  \n",
        "1) модель в которой будут использованы предобученные эмбединги слов и несколько BILSTM слоев. \n",
        "1) модель в которой будут использованы предобученные эмбединги слов и несколько BIGRU слоев. \n",
        "\n",
        "Сравните качество по метрикам. Также придумайте несколько сложных примеров и проверьте, какие сущности определяет каждая из моделей."
      ]
    },
    {
      "cell_type": "code",
      "execution_count": null,
      "id": "88c11a35",
      "metadata": {
        "colab": {
          "base_uri": "https://localhost:8080/",
          "height": 263,
          "referenced_widgets": [
            "ce28a306535a4024af463e6caf68d4b0",
            "cce7a0b0c48c4701a924b55256d1e779",
            "b8a9ba13847941ffa4819b29092e7295",
            "020c7ba25ee944d19878242740ad7626",
            "ebb61b525fdf4cb98606e48469bca819",
            "46b441bb3bed4bb58ad9f58d3823afaa",
            "1dbeec7fed534c1e8980f3de58125e44",
            "8e169848c7144caaa708acd48bfd5a34",
            "4b776dcdbac144ce9e6c0a92e0078b8f",
            "e162feefaf43455d8f7d99041908cc2c",
            "5b0bb8b8e91e40dd8d5642017ee612cb",
            "a8ae71f309234ad68878331a88e73093",
            "0a3cf1e13e214a7b9acded9dce678994",
            "c4c41c3723af43ad94afec97bbda3d9f",
            "089e0a24924345d3b8bc6ea849d03370",
            "f5abb49f0dc74c9b8d43600ec08475ed",
            "6111e26000c04f81b795056108dd88c2",
            "3a209b3c43504a2e9e5e4dbc69a59f78",
            "6916b555e9bb47e082b4cdbdff027b9b",
            "8c75e32daff94079b2eb740fdbab1a57",
            "2dffa209552b4524bae5f3b3136776c8",
            "5c4c53b3e6044a739816ede366b3f016",
            "f73d6d2837274f838f7e588ca195ca46",
            "8fb0a8a8e96c4b879d1a46193e372830",
            "2ad215b9d82443c48f5d9fb42245e34d",
            "94ec92dafcb741548f9c6c69a82dcc54",
            "9f2690e426b94d13beb7afb57241c632",
            "920b9c6e2e0e45d0884e206788f796ad",
            "ad3895c70c1f440c95479d5cefd860c6",
            "5a7184c60e554659a9d2d905db1b771d",
            "cb55eb37fc53404599d23b91d651adea",
            "2405ecb80260406aae79357abd8c97a6",
            "c5193e1208034c44824abcdd8a23730d",
            "b32967f196d244759f765d687bb8a2db",
            "48a39a63c506484481638668f039a1b8",
            "59b7dd00e72446ee8a8056a140e6e9f5",
            "92bf918dfcfd46fd80d9f3e5b925f0cf",
            "0fbbdbd2feee4edfa1181eb7d26555e7",
            "65829ad4d52543a89bea01ef47b2826e",
            "011a4303237d4df983160be338aedeff",
            "4a8c40f8cd3a4c19bc01bca9af3eab91",
            "80319fb512bb48549041945e235f93dc",
            "afa3e3691d724a7a9dcbea9f64d2a879",
            "381b7feeac394de1a15be2cc5dbef0d4",
            "6e85c11f1e0d4829ac5ec677026f5369",
            "e06e9257d1504a4794cd219329a071ea",
            "25639fd752644e6a950d2e4d79e1079b",
            "63f960a775584205bc3646fe99392e1b",
            "322d6251c8f14f4aae5ee286cc17edcd",
            "c1e289c951f74d0e952a65b4884f1136",
            "10309c22634b45ec8e6a9b72bd8e5fd7",
            "d768e9c91646412da1b0d25ae8894b49",
            "b3dbf6c808324461a3ea98bf98da0d6f",
            "90ef5c0f519546ae91ca7ed4dac6e04a",
            "973ae81b056f4856b4bae5ca80b51bee",
            "04a3cbbe6e474ece87e6bd6301e2d740",
            "dec94d0f2b51420dad2ddf24e6287fca",
            "b21b363f03d1405a8f2b33233116a0a2",
            "e4cdc7529c0149f187fed1f5ec973c9f",
            "467e16d2075246818013e1885b0870dc",
            "0847a8785f0543da9c004e03d1cac03e",
            "232b0566998648c697492fde64638880",
            "23db286446074ed9a5bb749cfa2d33ff",
            "45edb84393d74c329cd020298b73c806",
            "46a0b2b64c4d4e388856cdc8233c48bc",
            "d400ee6d8eef4ce3ac60f955775797e5",
            "f5b94cb623b64e768188122b31298b3f",
            "40ca34ca7aea45348563c1f0d145f571",
            "db3c1bc7cfab4cca8338dd214f4a952e",
            "b76e24517dc042a4b94563b9c3bea617",
            "69041d034be04d6b81ccf3080155cd12",
            "9da1a765f491490f800574beefc3f5fc",
            "3c1eeddac60c4da281c8ff88ff116d73",
            "55e68c09de0742948c96d37424cd964f",
            "db5a605cecc74b03866f0229c6ff1bfd",
            "2025783a02f04ff881bffda96cd61e9b",
            "989d0d3c2f3b40e094727e9c62dea503",
            "f6460323ff034e3da077e73ba5383992",
            "1f0735c416da4d689777871780083e66",
            "688545b3165142518a98b0fa08ca2a0f",
            "8094668a4d6647c2bdaf62ce31305207",
            "dffaefa98d7247c6944ad8e2569d39d7",
            "41b9757a8dec4161870cb5077c45d7d6",
            "1630f556b23e4e9b95dc85dc12dbbf8e",
            "9157df25de1740c99afa1c09dbdf7af1",
            "9087e26c6ce04bf1a4e589ad6c27ce54",
            "25a480771afb4e0e8382ac0fec54507f",
            "da48c24f26754404918d5602dfa199fc"
          ]
        },
        "id": "88c11a35",
        "outputId": "d35ba218-1b7e-43b1-cc14-22b85e68f05a"
      },
      "outputs": [
        {
          "data": {
            "application/vnd.jupyter.widget-view+json": {
              "model_id": "ce28a306535a4024af463e6caf68d4b0",
              "version_major": 2,
              "version_minor": 0
            },
            "text/plain": [
              "Downloading builder script:   0%|          | 0.00/11.6k [00:00<?, ?B/s]"
            ]
          },
          "metadata": {},
          "output_type": "display_data"
        },
        {
          "data": {
            "application/vnd.jupyter.widget-view+json": {
              "model_id": "a8ae71f309234ad68878331a88e73093",
              "version_major": 2,
              "version_minor": 0
            },
            "text/plain": [
              "Downloading metadata:   0%|          | 0.00/617k [00:00<?, ?B/s]"
            ]
          },
          "metadata": {},
          "output_type": "display_data"
        },
        {
          "data": {
            "application/vnd.jupyter.widget-view+json": {
              "model_id": "f73d6d2837274f838f7e588ca195ca46",
              "version_major": 2,
              "version_minor": 0
            },
            "text/plain": [
              "Downloading readme:   0%|          | 0.00/131k [00:00<?, ?B/s]"
            ]
          },
          "metadata": {},
          "output_type": "display_data"
        },
        {
          "name": "stdout",
          "output_type": "stream",
          "text": [
            "Downloading and preparing dataset wikiann/ru to /root/.cache/huggingface/datasets/wikiann/ru/1.1.0/4bfd4fe4468ab78bb6e096968f61fab7a888f44f9d3371c2f3fea7e74a5a354e...\n"
          ]
        },
        {
          "data": {
            "application/vnd.jupyter.widget-view+json": {
              "model_id": "b32967f196d244759f765d687bb8a2db",
              "version_major": 2,
              "version_minor": 0
            },
            "text/plain": [
              "Downloading data:   0%|          | 0.00/234M [00:00<?, ?B/s]"
            ]
          },
          "metadata": {},
          "output_type": "display_data"
        },
        {
          "data": {
            "application/vnd.jupyter.widget-view+json": {
              "model_id": "6e85c11f1e0d4829ac5ec677026f5369",
              "version_major": 2,
              "version_minor": 0
            },
            "text/plain": [
              "Generating validation split:   0%|          | 0/10000 [00:00<?, ? examples/s]"
            ]
          },
          "metadata": {},
          "output_type": "display_data"
        },
        {
          "data": {
            "application/vnd.jupyter.widget-view+json": {
              "model_id": "04a3cbbe6e474ece87e6bd6301e2d740",
              "version_major": 2,
              "version_minor": 0
            },
            "text/plain": [
              "Generating test split:   0%|          | 0/10000 [00:00<?, ? examples/s]"
            ]
          },
          "metadata": {},
          "output_type": "display_data"
        },
        {
          "data": {
            "application/vnd.jupyter.widget-view+json": {
              "model_id": "f5b94cb623b64e768188122b31298b3f",
              "version_major": 2,
              "version_minor": 0
            },
            "text/plain": [
              "Generating train split:   0%|          | 0/20000 [00:00<?, ? examples/s]"
            ]
          },
          "metadata": {},
          "output_type": "display_data"
        },
        {
          "name": "stdout",
          "output_type": "stream",
          "text": [
            "Dataset wikiann downloaded and prepared to /root/.cache/huggingface/datasets/wikiann/ru/1.1.0/4bfd4fe4468ab78bb6e096968f61fab7a888f44f9d3371c2f3fea7e74a5a354e. Subsequent calls will reuse this data.\n"
          ]
        },
        {
          "data": {
            "application/vnd.jupyter.widget-view+json": {
              "model_id": "f6460323ff034e3da077e73ba5383992",
              "version_major": 2,
              "version_minor": 0
            },
            "text/plain": [
              "  0%|          | 0/3 [00:00<?, ?it/s]"
            ]
          },
          "metadata": {},
          "output_type": "display_data"
        }
      ],
      "source": [
        "from datasets import load_dataset\n",
        "dataset = load_dataset(\"wikiann\", 'ru')"
      ]
    },
    {
      "cell_type": "code",
      "execution_count": null,
      "id": "86e863ac",
      "metadata": {
        "id": "86e863ac"
      },
      "outputs": [],
      "source": [
        "vocab = Counter()\n",
        "\n",
        "for sent in dataset['train']['tokens']:\n",
        "    vocab.update([x.lower() for x in sent])"
      ]
    },
    {
      "cell_type": "code",
      "execution_count": null,
      "id": "Z62tvsMVHqdR",
      "metadata": {
        "colab": {
          "base_uri": "https://localhost:8080/"
        },
        "id": "Z62tvsMVHqdR",
        "outputId": "5052d555-a391-4ec3-f553-3cc8b0106a1c"
      },
      "outputs": [
        {
          "data": {
            "text/plain": [
              "36015"
            ]
          },
          "execution_count": 23,
          "metadata": {},
          "output_type": "execute_result"
        }
      ],
      "source": [
        "len(vocab)"
      ]
    },
    {
      "cell_type": "code",
      "execution_count": null,
      "id": "ScDKunK9HrUz",
      "metadata": {
        "id": "ScDKunK9HrUz"
      },
      "outputs": [],
      "source": [
        "word2id = {'PAD':0, 'UNK':1}\n",
        "\n",
        "for word in vocab:\n",
        "    word2id[word] = len(word2id)"
      ]
    },
    {
      "cell_type": "code",
      "execution_count": null,
      "id": "PrIkd_oMHtsE",
      "metadata": {
        "id": "PrIkd_oMHtsE"
      },
      "outputs": [],
      "source": [
        "id2word = {i:word for word, i in word2id.items()}"
      ]
    },
    {
      "cell_type": "code",
      "execution_count": null,
      "id": "ii99AgKNHxkD",
      "metadata": {
        "id": "ii99AgKNHxkD"
      },
      "outputs": [],
      "source": [
        "X = []\n",
        "\n",
        "for sent in dataset['train']['tokens']:\n",
        "    tokens = [w.lower() for w in sent]\n",
        "    ids = [word2id.get(token, 1) for token in tokens]\n",
        "    X.append(ids)"
      ]
    },
    {
      "cell_type": "code",
      "execution_count": null,
      "id": "2rpDcWr1HyVX",
      "metadata": {
        "id": "2rpDcWr1HyVX"
      },
      "outputs": [],
      "source": [
        "X_test = []\n",
        "\n",
        "for sent in dataset['test']['tokens']:\n",
        "    tokens = [w.lower() for w in sent]\n",
        "    ids = [word2id.get(token, 1) for token in tokens]\n",
        "    X_test.append(ids)"
      ]
    },
    {
      "cell_type": "code",
      "execution_count": null,
      "id": "YGFrOZAfH1jP",
      "metadata": {
        "id": "YGFrOZAfH1jP"
      },
      "outputs": [],
      "source": [
        "MAX_LEN = max(len(x) for x in X)\n",
        "\n",
        "# паддинг\n",
        "X = tf.keras.preprocessing.sequence.pad_sequences(X, maxlen=MAX_LEN, padding='post')\n",
        "X_test = tf.keras.preprocessing.sequence.pad_sequences(X_test, maxlen=MAX_LEN, padding='post')"
      ]
    },
    {
      "cell_type": "code",
      "execution_count": null,
      "id": "zhHQ5TA7H_s1",
      "metadata": {
        "id": "zhHQ5TA7H_s1"
      },
      "outputs": [],
      "source": [
        "id2labels = {0:'O', 1:'B-PER', 2:'I-PER', 3:'B-ORG', 4:'I-ORG', 5: 'B-LOC', 6:'I-LOC', 7:'PAD'}\n",
        "label2id = {v:k for k,v in id2labels.items()} "
      ]
    },
    {
      "cell_type": "code",
      "execution_count": null,
      "id": "ypTT_iseIDBS",
      "metadata": {
        "id": "ypTT_iseIDBS"
      },
      "outputs": [],
      "source": [
        "y = tf.keras.preprocessing.sequence.pad_sequences(dataset['train']['ner_tags'], value=7,\n",
        "                                                  maxlen=MAX_LEN,  padding='post')\n",
        "y_test = tf.keras.preprocessing.sequence.pad_sequences(dataset['test']['ner_tags'], value=7,\n",
        "                                                       maxlen=MAX_LEN,  padding='post')"
      ]
    },
    {
      "cell_type": "code",
      "execution_count": null,
      "id": "fgug5ubKILxK",
      "metadata": {
        "colab": {
          "base_uri": "https://localhost:8080/"
        },
        "id": "fgug5ubKILxK",
        "outputId": "64c554d9-f597-4737-88f6-fc7fe4f6e6c8"
      },
      "outputs": [
        {
          "data": {
            "text/plain": [
              "((20000, 54), (10000, 54))"
            ]
          },
          "execution_count": 31,
          "metadata": {},
          "output_type": "execute_result"
        }
      ],
      "source": [
        "X.shape, X_test.shape"
      ]
    },
    {
      "cell_type": "code",
      "execution_count": null,
      "id": "3ogydsRtIGO_",
      "metadata": {
        "colab": {
          "base_uri": "https://localhost:8080/"
        },
        "id": "3ogydsRtIGO_",
        "outputId": "90ee854f-08e0-4add-faba-785ae3856482"
      },
      "outputs": [
        {
          "data": {
            "text/plain": [
              "((20000, 54), (10000, 54))"
            ]
          },
          "execution_count": 32,
          "metadata": {},
          "output_type": "execute_result"
        }
      ],
      "source": [
        "y.shape, y_test.shape"
      ]
    },
    {
      "cell_type": "markdown",
      "id": "xya19jGwIaDV",
      "metadata": {
        "id": "xya19jGwIaDV"
      },
      "source": [
        "1) предобученные эмбединги слов и несколько BILSTM слоев"
      ]
    },
    {
      "cell_type": "code",
      "execution_count": null,
      "id": "fXY2hyyaIRic",
      "metadata": {
        "id": "fXY2hyyaIRic"
      },
      "outputs": [],
      "source": [
        "inputs = tf.keras.layers.Input(shape=(MAX_LEN,))\n",
        "embeddings = tf.keras.layers.Embedding(input_dim=len(word2id), output_dim=100)(inputs)\n",
        "\n",
        "lstm_1 = tf.keras.layers.Bidirectional(tf.keras.layers.LSTM(32, return_sequences=True))(embeddings)\n",
        "lstm_2 = tf.keras.layers.Bidirectional(tf.keras.layers.LSTM(32, return_sequences=True))(lstm_1)\n",
        "lstm_3 = tf.keras.layers.Bidirectional(tf.keras.layers.LSTM(32, return_sequences=True))(lstm_2)\n",
        "lstm_4 = tf.keras.layers.Bidirectional(tf.keras.layers.LSTM(32, return_sequences=True))(lstm_3)\n",
        "\n",
        "outputs = tf.keras.layers.Dense(len(label2id), activation='softmax')(lstm_4)\n",
        "\n",
        "model1 = tf.keras.Model(inputs=inputs, outputs=outputs)\n",
        "model1.compile(optimizer='adam',\n",
        "              loss='sparse_categorical_crossentropy', \n",
        "              metrics=['accuracy'])"
      ]
    },
    {
      "cell_type": "code",
      "execution_count": null,
      "id": "Woj--1VgIc86",
      "metadata": {
        "colab": {
          "base_uri": "https://localhost:8080/"
        },
        "id": "Woj--1VgIc86",
        "outputId": "c92f528e-16a4-4c32-e60e-36f06cfd6891"
      },
      "outputs": [
        {
          "name": "stdout",
          "output_type": "stream",
          "text": [
            "Epoch 1/5\n",
            "157/157 [==============================] - 24s 129ms/step - loss: 0.4239 - accuracy: 0.9157 - val_loss: 0.1889 - val_accuracy: 0.9416\n",
            "Epoch 2/5\n",
            "157/157 [==============================] - 7s 44ms/step - loss: 0.1507 - accuracy: 0.9523 - val_loss: 0.1251 - val_accuracy: 0.9594\n",
            "Epoch 3/5\n",
            "157/157 [==============================] - 5s 33ms/step - loss: 0.0954 - accuracy: 0.9706 - val_loss: 0.0876 - val_accuracy: 0.9733\n",
            "Epoch 4/5\n",
            "157/157 [==============================] - 3s 22ms/step - loss: 0.0562 - accuracy: 0.9843 - val_loss: 0.0702 - val_accuracy: 0.9782\n",
            "Epoch 5/5\n",
            "157/157 [==============================] - 3s 22ms/step - loss: 0.0333 - accuracy: 0.9920 - val_loss: 0.0633 - val_accuracy: 0.9796\n"
          ]
        },
        {
          "data": {
            "text/plain": [
              "<keras.callbacks.History at 0x7f83c81875b0>"
            ]
          },
          "execution_count": 35,
          "metadata": {},
          "output_type": "execute_result"
        }
      ],
      "source": [
        "model1.fit(X, y, \n",
        "          validation_data=(X_test, y_test),\n",
        "          batch_size=128,\n",
        "          epochs=5)"
      ]
    },
    {
      "cell_type": "code",
      "execution_count": null,
      "id": "RHM1TGCIJjlm",
      "metadata": {
        "colab": {
          "base_uri": "https://localhost:8080/",
          "height": 295
        },
        "id": "RHM1TGCIJjlm",
        "outputId": "a3c68644-bc96-479c-d3d0-6ad4f047f9f5"
      },
      "outputs": [
        {
          "data": {
            "image/png": "[encoded data removed]",
            "text/plain": [
              "<Figure size 432x288 with 1 Axes>"
            ]
          },
          "metadata": {
            "needs_background": "light"
          },
          "output_type": "display_data"
        }
      ],
      "source": [
        "plt.plot(model1.history.history['accuracy'])\n",
        "plt.plot(model1.history.history['val_accuracy'])\n",
        "plt.title('model1 (bilstm) accuracy')\n",
        "plt.ylabel('accuracy')\n",
        "plt.xlabel('epoch')\n",
        "plt.legend(['train', 'val'], loc='upper left')\n",
        "plt.show()"
      ]
    },
    {
      "cell_type": "code",
      "execution_count": null,
      "id": "9N3P09R2JzSr",
      "metadata": {
        "id": "9N3P09R2JzSr"
      },
      "outputs": [],
      "source": [
        "from sklearn.metrics import classification_report"
      ]
    },
    {
      "cell_type": "code",
      "execution_count": null,
      "id": "1JFwHhstJ8Wq",
      "metadata": {
        "colab": {
          "base_uri": "https://localhost:8080/"
        },
        "id": "1JFwHhstJ8Wq",
        "outputId": "71d7a409-967f-43d6-cb07-d5659467159d"
      },
      "outputs": [
        {
          "name": "stdout",
          "output_type": "stream",
          "text": [
            "313/313 [==============================] - 3s 6ms/step\n"
          ]
        }
      ],
      "source": [
        "pred = model1.predict(X_test).argmax(2)"
      ]
    },
    {
      "cell_type": "code",
      "execution_count": null,
      "id": "nIMnjnPPJ0Of",
      "metadata": {
        "colab": {
          "base_uri": "https://localhost:8080/"
        },
        "id": "nIMnjnPPJ0Of",
        "outputId": "d942edd0-f2d4-4ab8-aa47-bdfbd70354bb"
      },
      "outputs": [
        {
          "name": "stdout",
          "output_type": "stream",
          "text": [
            "              precision    recall  f1-score   support\n",
            "\n",
            "           O       0.94      0.91      0.93     40480\n",
            "       B-PER       0.73      0.80      0.77      3542\n",
            "       I-PER       0.87      0.87      0.87      7544\n",
            "       B-ORG       0.69      0.59      0.64      4074\n",
            "       I-ORG       0.79      0.75      0.77      8008\n",
            "       B-LOC       0.54      0.75      0.63      4560\n",
            "       I-LOC       0.78      0.66      0.71      3060\n",
            "         PAD       1.00      1.00      1.00    468732\n",
            "\n",
            "    accuracy                           0.98    540000\n",
            "   macro avg       0.79      0.79      0.79    540000\n",
            "weighted avg       0.98      0.98      0.98    540000\n",
            "\n"
          ]
        }
      ],
      "source": [
        "print(classification_report(y_test.reshape(-1), pred.reshape(-1), labels=list(id2labels.keys()),\n",
        "                                                                     target_names=list(id2labels.values()),\n",
        "                                                                     zero_division=0))"
      ]
    },
    {
      "cell_type": "markdown",
      "id": "IOpBiPT5KDqZ",
      "metadata": {
        "id": "IOpBiPT5KDqZ"
      },
      "source": [
        "2) предобученные эмбединги слов и несколько BIGRU слоев"
      ]
    },
    {
      "cell_type": "code",
      "execution_count": null,
      "id": "33EHzsLMKgh4",
      "metadata": {
        "id": "33EHzsLMKgh4"
      },
      "outputs": [],
      "source": [
        "inputs = tf.keras.layers.Input(shape=(MAX_LEN,))\n",
        "embeddings = tf.keras.layers.Embedding(input_dim=len(word2id), output_dim=100)(inputs)\n",
        "\n",
        "bigru1 = tf.keras.layers.Bidirectional(tf.keras.layers.GRU(128, return_sequences=True))(embeddings)\n",
        "bigru2 = tf.keras.layers.Bidirectional(tf.keras.layers.GRU(128, return_sequences=True))(bigru1)\n",
        "bigru3 = tf.keras.layers.Bidirectional(tf.keras.layers.GRU(128, return_sequences=True))(bigru2)\n",
        "bigru4 = tf.keras.layers.Bidirectional(tf.keras.layers.GRU(128, return_sequences=True))(bigru3)\n",
        "\n",
        "outputs = tf.keras.layers.Dense(len(label2id), activation='softmax')(bigru4)\n",
        "\n",
        "model2 = tf.keras.Model(inputs=inputs, outputs=outputs)\n",
        "model2.compile(optimizer='adam',\n",
        "              loss='sparse_categorical_crossentropy', \n",
        "              metrics=['accuracy'])"
      ]
    },
    {
      "cell_type": "code",
      "execution_count": null,
      "id": "a8Zrr5kSK4D0",
      "metadata": {
        "colab": {
          "base_uri": "https://localhost:8080/"
        },
        "id": "a8Zrr5kSK4D0",
        "outputId": "d03eed77-92bd-4e2e-a322-5d1e0eaaf024"
      },
      "outputs": [
        {
          "name": "stdout",
          "output_type": "stream",
          "text": [
            "Epoch 1/5\n",
            "157/157 [==============================] - 44s 142ms/step - loss: 0.2195 - accuracy: 0.9352 - val_loss: 0.1060 - val_accuracy: 0.9655\n",
            "Epoch 2/5\n",
            "157/157 [==============================] - 11s 69ms/step - loss: 0.0621 - accuracy: 0.9797 - val_loss: 0.0486 - val_accuracy: 0.9840\n",
            "Epoch 3/5\n",
            "157/157 [==============================] - 9s 58ms/step - loss: 0.0183 - accuracy: 0.9944 - val_loss: 0.0537 - val_accuracy: 0.9836\n",
            "Epoch 4/5\n",
            "157/157 [==============================] - 8s 54ms/step - loss: 0.0086 - accuracy: 0.9975 - val_loss: 0.0571 - val_accuracy: 0.9845\n",
            "Epoch 5/5\n",
            "157/157 [==============================] - 8s 54ms/step - loss: 0.0054 - accuracy: 0.9985 - val_loss: 0.0677 - val_accuracy: 0.9828\n"
          ]
        },
        {
          "data": {
            "text/plain": [
              "<keras.callbacks.History at 0x7f83c495c670>"
            ]
          },
          "execution_count": 49,
          "metadata": {},
          "output_type": "execute_result"
        }
      ],
      "source": [
        "model2.fit(X, y, \n",
        "          validation_data=(X_test, y_test),\n",
        "          batch_size=128,\n",
        "          epochs=5)"
      ]
    },
    {
      "cell_type": "code",
      "execution_count": null,
      "id": "QxNylEp2LLrJ",
      "metadata": {
        "colab": {
          "base_uri": "https://localhost:8080/",
          "height": 295
        },
        "id": "QxNylEp2LLrJ",
        "outputId": "e48ac7f6-5612-49b0-946e-71354a2cb425"
      },
      "outputs": [
        {
          "data": {
            "image/png": "[encoded data removed]",
            "text/plain": [
              "<Figure size 432x288 with 1 Axes>"
            ]
          },
          "metadata": {
            "needs_background": "light"
          },
          "output_type": "display_data"
        }
      ],
      "source": [
        "plt.plot(model2.history.history['accuracy'])\n",
        "plt.plot(model2.history.history['val_accuracy'])\n",
        "plt.title('model1 (bigru) accuracy')\n",
        "plt.ylabel('accuracy')\n",
        "plt.xlabel('epoch')\n",
        "plt.legend(['train', 'val'], loc='upper left')\n",
        "plt.show()"
      ]
    },
    {
      "cell_type": "code",
      "execution_count": null,
      "id": "53xZAztzLQyD",
      "metadata": {
        "colab": {
          "base_uri": "https://localhost:8080/"
        },
        "id": "53xZAztzLQyD",
        "outputId": "b1410dca-3fca-443f-b691-f577482faac2"
      },
      "outputs": [
        {
          "name": "stdout",
          "output_type": "stream",
          "text": [
            "313/313 [==============================] - 7s 10ms/step\n"
          ]
        }
      ],
      "source": [
        "pred = model2.predict(X_test).argmax(2)"
      ]
    },
    {
      "cell_type": "code",
      "execution_count": null,
      "id": "b5GrhsYaL4MK",
      "metadata": {
        "colab": {
          "base_uri": "https://localhost:8080/"
        },
        "id": "b5GrhsYaL4MK",
        "outputId": "01afee2b-3f62-43a8-a6a4-522041845d91"
      },
      "outputs": [
        {
          "name": "stdout",
          "output_type": "stream",
          "text": [
            "              precision    recall  f1-score   support\n",
            "\n",
            "           O       0.96      0.91      0.94     40480\n",
            "       B-PER       0.89      0.85      0.87      3542\n",
            "       I-PER       0.93      0.90      0.91      7544\n",
            "       B-ORG       0.50      0.81      0.62      4074\n",
            "       I-ORG       0.70      0.85      0.77      8008\n",
            "       B-LOC       0.84      0.67      0.75      4560\n",
            "       I-LOC       0.90      0.68      0.77      3060\n",
            "         PAD       1.00      1.00      1.00    468732\n",
            "\n",
            "    accuracy                           0.98    540000\n",
            "   macro avg       0.84      0.83      0.83    540000\n",
            "weighted avg       0.99      0.98      0.98    540000\n",
            "\n"
          ]
        }
      ],
      "source": [
        "print(classification_report(y_test.reshape(-1), pred.reshape(-1), labels=list(id2labels.keys()),\n",
        "                                                                     target_names=list(id2labels.values()),\n",
        "                                                                     zero_division=0))"
      ]
    },
    {
      "cell_type": "markdown",
      "source": [
        "##### Summary\n",
        "\n",
        "Кажется, что по метрикам для отдельных именных сущностей вторая модель чуть лучше первой, хотя общий accuracy у них на одном уровне"
      ],
      "metadata": {
        "id": "Cx_lKTEOoBsh"
      },
      "id": "Cx_lKTEOoBsh"
    },
    {
      "cell_type": "code",
      "execution_count": null,
      "id": "jQpbYj-SMD2x",
      "metadata": {
        "id": "jQpbYj-SMD2x"
      },
      "outputs": [],
      "source": [
        "import re\n",
        "\n",
        "def tokenize(text, word2id):\n",
        "    # токенизирует и переводит в индексы\n",
        "    tokens = re.findall('\\w+|[^\\w\\s]+', text)\n",
        "    ids = [word2id.get(token.lower(), 1) for token in tokens]\n",
        "    return tokens, ids\n",
        "\n",
        "def pred2tags(pred, id2label, length):\n",
        "    # декодирует индексы в части речи\n",
        "    # length нужно чтобы откидывать паддинги или некорректные предсказания\n",
        "    pred = pred.argmax(2)[0, :length]\n",
        "    labels = [id2label[l] for l in pred]\n",
        "    return labels\n",
        "\n",
        "def label_seq(text, word2id, id2label, max_len, model):\n",
        "    tokens, ids = tokenize(text, word2id)\n",
        "    pred = model.predict(tf.keras.preprocessing.sequence.pad_sequences([ids], \n",
        "                                                                       maxlen=max_len, \n",
        "                                                                       padding='post'))\n",
        "    labels = pred2tags(pred, id2label, len(ids))\n",
        "    \n",
        "    return list(zip(tokens, labels))"
      ]
    },
    {
      "cell_type": "code",
      "execution_count": null,
      "id": "iYKqLpp_MNN_",
      "metadata": {
        "colab": {
          "base_uri": "https://localhost:8080/"
        },
        "id": "iYKqLpp_MNN_",
        "outputId": "03d3147c-b985-466e-dde9-66d42fd9628f"
      },
      "outputs": [
        {
          "name": "stdout",
          "output_type": "stream",
          "text": [
            "1/1 [==============================] - 0s 78ms/step\n"
          ]
        },
        {
          "data": {
            "text/plain": [
              "[('Я', 'O'),\n",
              " ('поступил', 'O'),\n",
              " ('в', 'O'),\n",
              " ('ВШЭ', 'O'),\n",
              " ('в', 'O'),\n",
              " ('Питер', 'I-PER')]"
            ]
          },
          "execution_count": 55,
          "metadata": {},
          "output_type": "execute_result"
        }
      ],
      "source": [
        "label_seq('Я поступил в ВШЭ в Питер', word2id, id2labels, MAX_LEN, model1)"
      ]
    },
    {
      "cell_type": "code",
      "execution_count": null,
      "id": "1Zvsed6JMUWF",
      "metadata": {
        "colab": {
          "base_uri": "https://localhost:8080/"
        },
        "id": "1Zvsed6JMUWF",
        "outputId": "ebefb45d-094d-4132-c291-b86271aa33cc"
      },
      "outputs": [
        {
          "name": "stdout",
          "output_type": "stream",
          "text": [
            "1/1 [==============================] - 0s 47ms/step\n"
          ]
        },
        {
          "data": {
            "text/plain": [
              "[('Я', 'O'),\n",
              " ('поступил', 'O'),\n",
              " ('в', 'O'),\n",
              " ('ВШЭ', 'B-ORG'),\n",
              " ('в', 'I-ORG'),\n",
              " ('Питер', 'I-ORG')]"
            ]
          },
          "execution_count": 56,
          "metadata": {},
          "output_type": "execute_result"
        }
      ],
      "source": [
        "label_seq('Я поступил в ВШЭ в Питер', word2id, id2labels, MAX_LEN, model2)"
      ]
    },
    {
      "cell_type": "code",
      "execution_count": null,
      "id": "vcjg-QYlMej9",
      "metadata": {
        "colab": {
          "base_uri": "https://localhost:8080/"
        },
        "id": "vcjg-QYlMej9",
        "outputId": "905b0e55-a2d4-4ac6-e30c-94d0f13aed58"
      },
      "outputs": [
        {
          "name": "stdout",
          "output_type": "stream",
          "text": [
            "1/1 [==============================] - 0s 24ms/step\n"
          ]
        },
        {
          "data": {
            "text/plain": [
              "[('15', 'B-ORG'),\n",
              " ('февраля', 'I-ORG'),\n",
              " ('Дима', 'B-ORG'),\n",
              " ('Билан', 'B-ORG'),\n",
              " ('выступил', 'O'),\n",
              " ('в', 'O'),\n",
              " ('Лужниках', 'B-ORG'),\n",
              " ('с', 'O'),\n",
              " ('юбилейным', 'I-ORG'),\n",
              " ('концертом', 'PAD')]"
            ]
          },
          "execution_count": 57,
          "metadata": {},
          "output_type": "execute_result"
        }
      ],
      "source": [
        "label_seq('15 февраля Дима Билан выступил в Лужниках с юбилейным концертом', word2id, id2labels, MAX_LEN, model1)"
      ]
    },
    {
      "cell_type": "code",
      "execution_count": null,
      "id": "D16_RSwDMmk6",
      "metadata": {
        "colab": {
          "base_uri": "https://localhost:8080/"
        },
        "id": "D16_RSwDMmk6",
        "outputId": "f0140e99-98cd-4a6b-bfa7-53274c1996d2"
      },
      "outputs": [
        {
          "name": "stdout",
          "output_type": "stream",
          "text": [
            "1/1 [==============================] - 0s 45ms/step\n"
          ]
        },
        {
          "data": {
            "text/plain": [
              "[('15', 'B-PER'),\n",
              " ('февраля', 'I-PER'),\n",
              " ('Дима', 'I-PER'),\n",
              " ('Билан', 'I-PER'),\n",
              " ('выступил', 'O'),\n",
              " ('в', 'O'),\n",
              " ('Лужниках', 'B-PER'),\n",
              " ('с', 'I-PER'),\n",
              " ('юбилейным', 'I-PER'),\n",
              " ('концертом', 'I-ORG')]"
            ]
          },
          "execution_count": 58,
          "metadata": {},
          "output_type": "execute_result"
        }
      ],
      "source": [
        "label_seq('15 февраля Дима Билан выступил в Лужниках с юбилейным концертом', word2id, id2labels, MAX_LEN, model2)"
      ]
    },
    {
      "cell_type": "markdown",
      "source": [
        "15 февраля и Диму Билана первая модель считает организацией, вторая - человеком (тут она, наверное, права больше первой). В целом, почему-то первая модель почти всему присвоила тег ORG, вторая - PER\n"
      ],
      "metadata": {
        "id": "5Ho0mEDcoH5E"
      },
      "id": "5Ho0mEDcoH5E"
    },
    {
      "cell_type": "code",
      "execution_count": null,
      "id": "3cyaHZ-lMrWs",
      "metadata": {
        "colab": {
          "base_uri": "https://localhost:8080/"
        },
        "id": "3cyaHZ-lMrWs",
        "outputId": "15c384dc-4b15-48ff-e2be-a1a294bbde79"
      },
      "outputs": [
        {
          "name": "stdout",
          "output_type": "stream",
          "text": [
            "1/1 [==============================] - 0s 38ms/step\n"
          ]
        },
        {
          "data": {
            "text/plain": [
              "[('Настя', 'B-PER'),\n",
              " (',', 'O'),\n",
              " ('Юля', 'B-PER'),\n",
              " (',', 'O'),\n",
              " ('Никита', 'B-PER'),\n",
              " (',', 'O'),\n",
              " ('Сергей', 'I-PER'),\n",
              " ('Петрович', 'I-PER'),\n",
              " (',', 'I-PER'),\n",
              " ('Любим', 'I-PER'),\n",
              " (',', 'O'),\n",
              " ('Коля', 'I-PER'),\n",
              " (',', 'I-PER'),\n",
              " ('Николай', 'I-PER')]"
            ]
          },
          "execution_count": 61,
          "metadata": {},
          "output_type": "execute_result"
        }
      ],
      "source": [
        "label_seq('Настя, Юля, Никита, Сергей Петрович, Любим, Коля, Николай', word2id, id2labels, MAX_LEN, model1)"
      ]
    },
    {
      "cell_type": "code",
      "execution_count": null,
      "id": "MyqrvNEGM86q",
      "metadata": {
        "colab": {
          "base_uri": "https://localhost:8080/"
        },
        "id": "MyqrvNEGM86q",
        "outputId": "0aa883ed-9768-4c65-d3b2-6045281e5d23"
      },
      "outputs": [
        {
          "name": "stdout",
          "output_type": "stream",
          "text": [
            "1/1 [==============================] - 0s 27ms/step\n"
          ]
        },
        {
          "data": {
            "text/plain": [
              "[('Настя', 'B-PER'),\n",
              " (',', 'I-PER'),\n",
              " ('Юля', 'I-PER'),\n",
              " (',', 'O'),\n",
              " ('Никита', 'B-PER'),\n",
              " (',', 'I-PER'),\n",
              " ('Сергей', 'B-PER'),\n",
              " ('Петрович', 'I-PER'),\n",
              " (',', 'O'),\n",
              " ('Любим', 'B-PER'),\n",
              " (',', 'O'),\n",
              " ('Коля', 'B-PER'),\n",
              " (',', 'I-PER'),\n",
              " ('Николай', 'I-PER')]"
            ]
          },
          "execution_count": 62,
          "metadata": {},
          "output_type": "execute_result"
        }
      ],
      "source": [
        "label_seq('Настя, Юля, Никита, Сергей Петрович, Любим, Коля, Николай', word2id, id2labels, MAX_LEN, model2)"
      ]
    },
    {
      "cell_type": "markdown",
      "source": [
        "С именами обе модели справились хорошо, но в некоторых местах почему-то приняли запятую за человека"
      ],
      "metadata": {
        "id": "bChIi9l8oSqn"
      },
      "id": "bChIi9l8oSqn"
    }
  ],
  "metadata": {
    "accelerator": "GPU",
    "colab": {
      "provenance": []
    },
    "gpuClass": "standard",
    "kernelspec": {
      "display_name": "Python 3 (ipykernel)",
      "language": "python",
      "name": "python3"
    },
    "language_info": {
      "codemirror_mode": {
        "name": "ipython",
        "version": 3
      },
      "file_extension": ".py",
      "mimetype": "text/x-python",
      "name": "python",
      "nbconvert_exporter": "python",
      "pygments_lexer": "ipython3",
      "version": "3.9.7"
    },
    "widgets": {
      "application/vnd.jupyter.widget-state+json": {
        "011a4303237d4df983160be338aedeff": {
          "model_module": "@jupyter-widgets/controls",
          "model_module_version": "1.5.0",
          "model_name": "DescriptionStyleModel",
          "state": {
            "_model_module": "@jupyter-widgets/controls",
            "_model_module_version": "1.5.0",
            "_model_name": "DescriptionStyleModel",
            "_view_count": null,
            "_view_module": "@jupyter-widgets/base",
            "_view_module_version": "1.2.0",
            "_view_name": "StyleView",
            "description_width": ""
          }
        },
        "020c7ba25ee944d19878242740ad7626": {
          "model_module": "@jupyter-widgets/controls",
          "model_module_version": "1.5.0",
          "model_name": "HTMLModel",
          "state": {
            "_dom_classes": [],
            "_model_module": "@jupyter-widgets/controls",
            "_model_module_version": "1.5.0",
            "_model_name": "HTMLModel",
            "_view_count": null,
            "_view_module": "@jupyter-widgets/controls",
            "_view_module_version": "1.5.0",
            "_view_name": "HTMLView",
            "description": "",
            "description_tooltip": null,
            "layout": "IPY_MODEL_e162feefaf43455d8f7d99041908cc2c",
            "placeholder": "​",
            "style": "IPY_MODEL_5b0bb8b8e91e40dd8d5642017ee612cb",
            "value": " 11.6k/11.6k [00:00&lt;00:00, 629kB/s]"
          }
        },
        "04a3cbbe6e474ece87e6bd6301e2d740": {
          "model_module": "@jupyter-widgets/controls",
          "model_module_version": "1.5.0",
          "model_name": "HBoxModel",
          "state": {
            "_dom_classes": [],
            "_model_module": "@jupyter-widgets/controls",
            "_model_module_version": "1.5.0",
            "_model_name": "HBoxModel",
            "_view_count": null,
            "_view_module": "@jupyter-widgets/controls",
            "_view_module_version": "1.5.0",
            "_view_name": "HBoxView",
            "box_style": "",
            "children": [
              "IPY_MODEL_dec94d0f2b51420dad2ddf24e6287fca",
              "IPY_MODEL_b21b363f03d1405a8f2b33233116a0a2",
              "IPY_MODEL_e4cdc7529c0149f187fed1f5ec973c9f"
            ],
            "layout": "IPY_MODEL_467e16d2075246818013e1885b0870dc"
          }
        },
        "0847a8785f0543da9c004e03d1cac03e": {
          "model_module": "@jupyter-widgets/base",
          "model_module_version": "1.2.0",
          "model_name": "LayoutModel",
          "state": {
            "_model_module": "@jupyter-widgets/base",
            "_model_module_version": "1.2.0",
            "_model_name": "LayoutModel",
            "_view_count": null,
            "_view_module": "@jupyter-widgets/base",
            "_view_module_version": "1.2.0",
            "_view_name": "LayoutView",
            "align_content": null,
            "align_items": null,
            "align_self": null,
            "border": null,
            "bottom": null,
            "display": null,
            "flex": null,
            "flex_flow": null,
            "grid_area": null,
            "grid_auto_columns": null,
            "grid_auto_flow": null,
            "grid_auto_rows": null,
            "grid_column": null,
            "grid_gap": null,
            "grid_row": null,
            "grid_template_areas": null,
            "grid_template_columns": null,
            "grid_template_rows": null,
            "height": null,
            "justify_content": null,
            "justify_items": null,
            "left": null,
            "margin": null,
            "max_height": null,
            "max_width": null,
            "min_height": null,
            "min_width": null,
            "object_fit": null,
            "object_position": null,
            "order": null,
            "overflow": null,
            "overflow_x": null,
            "overflow_y": null,
            "padding": null,
            "right": null,
            "top": null,
            "visibility": null,
            "width": null
          }
        },
        "089e0a24924345d3b8bc6ea849d03370": {
          "model_module": "@jupyter-widgets/controls",
          "model_module_version": "1.5.0",
          "model_name": "HTMLModel",
          "state": {
            "_dom_classes": [],
            "_model_module": "@jupyter-widgets/controls",
            "_model_module_version": "1.5.0",
            "_model_name": "HTMLModel",
            "_view_count": null,
            "_view_module": "@jupyter-widgets/controls",
            "_view_module_version": "1.5.0",
            "_view_name": "HTMLView",
            "description": "",
            "description_tooltip": null,
            "layout": "IPY_MODEL_2dffa209552b4524bae5f3b3136776c8",
            "placeholder": "​",
            "style": "IPY_MODEL_5c4c53b3e6044a739816ede366b3f016",
            "value": " 617k/617k [00:01&lt;00:00, 549kB/s]"
          }
        },
        "0a3cf1e13e214a7b9acded9dce678994": {
          "model_module": "@jupyter-widgets/controls",
          "model_module_version": "1.5.0",
          "model_name": "HTMLModel",
          "state": {
            "_dom_classes": [],
            "_model_module": "@jupyter-widgets/controls",
            "_model_module_version": "1.5.0",
            "_model_name": "HTMLModel",
            "_view_count": null,
            "_view_module": "@jupyter-widgets/controls",
            "_view_module_version": "1.5.0",
            "_view_name": "HTMLView",
            "description": "",
            "description_tooltip": null,
            "layout": "IPY_MODEL_6111e26000c04f81b795056108dd88c2",
            "placeholder": "​",
            "style": "IPY_MODEL_3a209b3c43504a2e9e5e4dbc69a59f78",
            "value": "Downloading metadata: 100%"
          }
        },
        "0fbbdbd2feee4edfa1181eb7d26555e7": {
          "model_module": "@jupyter-widgets/base",
          "model_module_version": "1.2.0",
          "model_name": "LayoutModel",
          "state": {
            "_model_module": "@jupyter-widgets/base",
            "_model_module_version": "1.2.0",
            "_model_name": "LayoutModel",
            "_view_count": null,
            "_view_module": "@jupyter-widgets/base",
            "_view_module_version": "1.2.0",
            "_view_name": "LayoutView",
            "align_content": null,
            "align_items": null,
            "align_self": null,
            "border": null,
            "bottom": null,
            "display": null,
            "flex": null,
            "flex_flow": null,
            "grid_area": null,
            "grid_auto_columns": null,
            "grid_auto_flow": null,
            "grid_auto_rows": null,
            "grid_column": null,
            "grid_gap": null,
            "grid_row": null,
            "grid_template_areas": null,
            "grid_template_columns": null,
            "grid_template_rows": null,
            "height": null,
            "justify_content": null,
            "justify_items": null,
            "left": null,
            "margin": null,
            "max_height": null,
            "max_width": null,
            "min_height": null,
            "min_width": null,
            "object_fit": null,
            "object_position": null,
            "order": null,
            "overflow": null,
            "overflow_x": null,
            "overflow_y": null,
            "padding": null,
            "right": null,
            "top": null,
            "visibility": null,
            "width": null
          }
        },
        "10309c22634b45ec8e6a9b72bd8e5fd7": {
          "model_module": "@jupyter-widgets/controls",
          "model_module_version": "1.5.0",
          "model_name": "DescriptionStyleModel",
          "state": {
            "_model_module": "@jupyter-widgets/controls",
            "_model_module_version": "1.5.0",
            "_model_name": "DescriptionStyleModel",
            "_view_count": null,
            "_view_module": "@jupyter-widgets/base",
            "_view_module_version": "1.2.0",
            "_view_name": "StyleView",
            "description_width": ""
          }
        },
        "1630f556b23e4e9b95dc85dc12dbbf8e": {
          "model_module": "@jupyter-widgets/controls",
          "model_module_version": "1.5.0",
          "model_name": "DescriptionStyleModel",
          "state": {
            "_model_module": "@jupyter-widgets/controls",
            "_model_module_version": "1.5.0",
            "_model_name": "DescriptionStyleModel",
            "_view_count": null,
            "_view_module": "@jupyter-widgets/base",
            "_view_module_version": "1.2.0",
            "_view_name": "StyleView",
            "description_width": ""
          }
        },
        "1dbeec7fed534c1e8980f3de58125e44": {
          "model_module": "@jupyter-widgets/controls",
          "model_module_version": "1.5.0",
          "model_name": "DescriptionStyleModel",
          "state": {
            "_model_module": "@jupyter-widgets/controls",
            "_model_module_version": "1.5.0",
            "_model_name": "DescriptionStyleModel",
            "_view_count": null,
            "_view_module": "@jupyter-widgets/base",
            "_view_module_version": "1.2.0",
            "_view_name": "StyleView",
            "description_width": ""
          }
        },
        "1f0735c416da4d689777871780083e66": {
          "model_module": "@jupyter-widgets/controls",
          "model_module_version": "1.5.0",
          "model_name": "HTMLModel",
          "state": {
            "_dom_classes": [],
            "_model_module": "@jupyter-widgets/controls",
            "_model_module_version": "1.5.0",
            "_model_name": "HTMLModel",
            "_view_count": null,
            "_view_module": "@jupyter-widgets/controls",
            "_view_module_version": "1.5.0",
            "_view_name": "HTMLView",
            "description": "",
            "description_tooltip": null,
            "layout": "IPY_MODEL_41b9757a8dec4161870cb5077c45d7d6",
            "placeholder": "​",
            "style": "IPY_MODEL_1630f556b23e4e9b95dc85dc12dbbf8e",
            "value": "100%"
          }
        },
        "2025783a02f04ff881bffda96cd61e9b": {
          "model_module": "@jupyter-widgets/base",
          "model_module_version": "1.2.0",
          "model_name": "LayoutModel",
          "state": {
            "_model_module": "@jupyter-widgets/base",
            "_model_module_version": "1.2.0",
            "_model_name": "LayoutModel",
            "_view_count": null,
            "_view_module": "@jupyter-widgets/base",
            "_view_module_version": "1.2.0",
            "_view_name": "LayoutView",
            "align_content": null,
            "align_items": null,
            "align_self": null,
            "border": null,
            "bottom": null,
            "display": null,
            "flex": null,
            "flex_flow": null,
            "grid_area": null,
            "grid_auto_columns": null,
            "grid_auto_flow": null,
            "grid_auto_rows": null,
            "grid_column": null,
            "grid_gap": null,
            "grid_row": null,
            "grid_template_areas": null,
            "grid_template_columns": null,
            "grid_template_rows": null,
            "height": null,
            "justify_content": null,
            "justify_items": null,
            "left": null,
            "margin": null,
            "max_height": null,
            "max_width": null,
            "min_height": null,
            "min_width": null,
            "object_fit": null,
            "object_position": null,
            "order": null,
            "overflow": null,
            "overflow_x": null,
            "overflow_y": null,
            "padding": null,
            "right": null,
            "top": null,
            "visibility": null,
            "width": null
          }
        },
        "232b0566998648c697492fde64638880": {
          "model_module": "@jupyter-widgets/controls",
          "model_module_version": "1.5.0",
          "model_name": "DescriptionStyleModel",
          "state": {
            "_model_module": "@jupyter-widgets/controls",
            "_model_module_version": "1.5.0",
            "_model_name": "DescriptionStyleModel",
            "_view_count": null,
            "_view_module": "@jupyter-widgets/base",
            "_view_module_version": "1.2.0",
            "_view_name": "StyleView",
            "description_width": ""
          }
        },
        "23db286446074ed9a5bb749cfa2d33ff": {
          "model_module": "@jupyter-widgets/base",
          "model_module_version": "1.2.0",
          "model_name": "LayoutModel",
          "state": {
            "_model_module": "@jupyter-widgets/base",
            "_model_module_version": "1.2.0",
            "_model_name": "LayoutModel",
            "_view_count": null,
            "_view_module": "@jupyter-widgets/base",
            "_view_module_version": "1.2.0",
            "_view_name": "LayoutView",
            "align_content": null,
            "align_items": null,
            "align_self": null,
            "border": null,
            "bottom": null,
            "display": null,
            "flex": null,
            "flex_flow": null,
            "grid_area": null,
            "grid_auto_columns": null,
            "grid_auto_flow": null,
            "grid_auto_rows": null,
            "grid_column": null,
            "grid_gap": null,
            "grid_row": null,
            "grid_template_areas": null,
            "grid_template_columns": null,
            "grid_template_rows": null,
            "height": null,
            "justify_content": null,
            "justify_items": null,
            "left": null,
            "margin": null,
            "max_height": null,
            "max_width": null,
            "min_height": null,
            "min_width": null,
            "object_fit": null,
            "object_position": null,
            "order": null,
            "overflow": null,
            "overflow_x": null,
            "overflow_y": null,
            "padding": null,
            "right": null,
            "top": null,
            "visibility": null,
            "width": null
          }
        },
        "2405ecb80260406aae79357abd8c97a6": {
          "model_module": "@jupyter-widgets/base",
          "model_module_version": "1.2.0",
          "model_name": "LayoutModel",
          "state": {
            "_model_module": "@jupyter-widgets/base",
            "_model_module_version": "1.2.0",
            "_model_name": "LayoutModel",
            "_view_count": null,
            "_view_module": "@jupyter-widgets/base",
            "_view_module_version": "1.2.0",
            "_view_name": "LayoutView",
            "align_content": null,
            "align_items": null,
            "align_self": null,
            "border": null,
            "bottom": null,
            "display": null,
            "flex": null,
            "flex_flow": null,
            "grid_area": null,
            "grid_auto_columns": null,
            "grid_auto_flow": null,
            "grid_auto_rows": null,
            "grid_column": null,
            "grid_gap": null,
            "grid_row": null,
            "grid_template_areas": null,
            "grid_template_columns": null,
            "grid_template_rows": null,
            "height": null,
            "justify_content": null,
            "justify_items": null,
            "left": null,
            "margin": null,
            "max_height": null,
            "max_width": null,
            "min_height": null,
            "min_width": null,
            "object_fit": null,
            "object_position": null,
            "order": null,
            "overflow": null,
            "overflow_x": null,
            "overflow_y": null,
            "padding": null,
            "right": null,
            "top": null,
            "visibility": null,
            "width": null
          }
        },
        "25639fd752644e6a950d2e4d79e1079b": {
          "model_module": "@jupyter-widgets/controls",
          "model_module_version": "1.5.0",
          "model_name": "FloatProgressModel",
          "state": {
            "_dom_classes": [],
            "_model_module": "@jupyter-widgets/controls",
            "_model_module_version": "1.5.0",
            "_model_name": "FloatProgressModel",
            "_view_count": null,
            "_view_module": "@jupyter-widgets/controls",
            "_view_module_version": "1.5.0",
            "_view_name": "ProgressView",
            "bar_style": "",
            "description": "",
            "description_tooltip": null,
            "layout": "IPY_MODEL_d768e9c91646412da1b0d25ae8894b49",
            "max": 10000,
            "min": 0,
            "orientation": "horizontal",
            "style": "IPY_MODEL_b3dbf6c808324461a3ea98bf98da0d6f",
            "value": 10000
          }
        },
        "25a480771afb4e0e8382ac0fec54507f": {
          "model_module": "@jupyter-widgets/base",
          "model_module_version": "1.2.0",
          "model_name": "LayoutModel",
          "state": {
            "_model_module": "@jupyter-widgets/base",
            "_model_module_version": "1.2.0",
            "_model_name": "LayoutModel",
            "_view_count": null,
            "_view_module": "@jupyter-widgets/base",
            "_view_module_version": "1.2.0",
            "_view_name": "LayoutView",
            "align_content": null,
            "align_items": null,
            "align_self": null,
            "border": null,
            "bottom": null,
            "display": null,
            "flex": null,
            "flex_flow": null,
            "grid_area": null,
            "grid_auto_columns": null,
            "grid_auto_flow": null,
            "grid_auto_rows": null,
            "grid_column": null,
            "grid_gap": null,
            "grid_row": null,
            "grid_template_areas": null,
            "grid_template_columns": null,
            "grid_template_rows": null,
            "height": null,
            "justify_content": null,
            "justify_items": null,
            "left": null,
            "margin": null,
            "max_height": null,
            "max_width": null,
            "min_height": null,
            "min_width": null,
            "object_fit": null,
            "object_position": null,
            "order": null,
            "overflow": null,
            "overflow_x": null,
            "overflow_y": null,
            "padding": null,
            "right": null,
            "top": null,
            "visibility": null,
            "width": null
          }
        },
        "2ad215b9d82443c48f5d9fb42245e34d": {
          "model_module": "@jupyter-widgets/controls",
          "model_module_version": "1.5.0",
          "model_name": "FloatProgressModel",
          "state": {
            "_dom_classes": [],
            "_model_module": "@jupyter-widgets/controls",
            "_model_module_version": "1.5.0",
            "_model_name": "FloatProgressModel",
            "_view_count": null,
            "_view_module": "@jupyter-widgets/controls",
            "_view_module_version": "1.5.0",
            "_view_name": "ProgressView",
            "bar_style": "success",
            "description": "",
            "description_tooltip": null,
            "layout": "IPY_MODEL_5a7184c60e554659a9d2d905db1b771d",
            "max": 130674,
            "min": 0,
            "orientation": "horizontal",
            "style": "IPY_MODEL_cb55eb37fc53404599d23b91d651adea",
            "value": 130674
          }
        },
        "2dffa209552b4524bae5f3b3136776c8": {
          "model_module": "@jupyter-widgets/base",
          "model_module_version": "1.2.0",
          "model_name": "LayoutModel",
          "state": {
            "_model_module": "@jupyter-widgets/base",
            "_model_module_version": "1.2.0",
            "_model_name": "LayoutModel",
            "_view_count": null,
            "_view_module": "@jupyter-widgets/base",
            "_view_module_version": "1.2.0",
            "_view_name": "LayoutView",
            "align_content": null,
            "align_items": null,
            "align_self": null,
            "border": null,
            "bottom": null,
            "display": null,
            "flex": null,
            "flex_flow": null,
            "grid_area": null,
            "grid_auto_columns": null,
            "grid_auto_flow": null,
            "grid_auto_rows": null,
            "grid_column": null,
            "grid_gap": null,
            "grid_row": null,
            "grid_template_areas": null,
            "grid_template_columns": null,
            "grid_template_rows": null,
            "height": null,
            "justify_content": null,
            "justify_items": null,
            "left": null,
            "margin": null,
            "max_height": null,
            "max_width": null,
            "min_height": null,
            "min_width": null,
            "object_fit": null,
            "object_position": null,
            "order": null,
            "overflow": null,
            "overflow_x": null,
            "overflow_y": null,
            "padding": null,
            "right": null,
            "top": null,
            "visibility": null,
            "width": null
          }
        },
        "322d6251c8f14f4aae5ee286cc17edcd": {
          "model_module": "@jupyter-widgets/base",
          "model_module_version": "1.2.0",
          "model_name": "LayoutModel",
          "state": {
            "_model_module": "@jupyter-widgets/base",
            "_model_module_version": "1.2.0",
            "_model_name": "LayoutModel",
            "_view_count": null,
            "_view_module": "@jupyter-widgets/base",
            "_view_module_version": "1.2.0",
            "_view_name": "LayoutView",
            "align_content": null,
            "align_items": null,
            "align_self": null,
            "border": null,
            "bottom": null,
            "display": null,
            "flex": null,
            "flex_flow": null,
            "grid_area": null,
            "grid_auto_columns": null,
            "grid_auto_flow": null,
            "grid_auto_rows": null,
            "grid_column": null,
            "grid_gap": null,
            "grid_row": null,
            "grid_template_areas": null,
            "grid_template_columns": null,
            "grid_template_rows": null,
            "height": null,
            "justify_content": null,
            "justify_items": null,
            "left": null,
            "margin": null,
            "max_height": null,
            "max_width": null,
            "min_height": null,
            "min_width": null,
            "object_fit": null,
            "object_position": null,
            "order": null,
            "overflow": null,
            "overflow_x": null,
            "overflow_y": null,
            "padding": null,
            "right": null,
            "top": null,
            "visibility": "hidden",
            "width": null
          }
        },
        "381b7feeac394de1a15be2cc5dbef0d4": {
          "model_module": "@jupyter-widgets/controls",
          "model_module_version": "1.5.0",
          "model_name": "DescriptionStyleModel",
          "state": {
            "_model_module": "@jupyter-widgets/controls",
            "_model_module_version": "1.5.0",
            "_model_name": "DescriptionStyleModel",
            "_view_count": null,
            "_view_module": "@jupyter-widgets/base",
            "_view_module_version": "1.2.0",
            "_view_name": "StyleView",
            "description_width": ""
          }
        },
        "3a209b3c43504a2e9e5e4dbc69a59f78": {
          "model_module": "@jupyter-widgets/controls",
          "model_module_version": "1.5.0",
          "model_name": "DescriptionStyleModel",
          "state": {
            "_model_module": "@jupyter-widgets/controls",
            "_model_module_version": "1.5.0",
            "_model_name": "DescriptionStyleModel",
            "_view_count": null,
            "_view_module": "@jupyter-widgets/base",
            "_view_module_version": "1.2.0",
            "_view_name": "StyleView",
            "description_width": ""
          }
        },
        "3c1eeddac60c4da281c8ff88ff116d73": {
          "model_module": "@jupyter-widgets/controls",
          "model_module_version": "1.5.0",
          "model_name": "DescriptionStyleModel",
          "state": {
            "_model_module": "@jupyter-widgets/controls",
            "_model_module_version": "1.5.0",
            "_model_name": "DescriptionStyleModel",
            "_view_count": null,
            "_view_module": "@jupyter-widgets/base",
            "_view_module_version": "1.2.0",
            "_view_name": "StyleView",
            "description_width": ""
          }
        },
        "40ca34ca7aea45348563c1f0d145f571": {
          "model_module": "@jupyter-widgets/controls",
          "model_module_version": "1.5.0",
          "model_name": "HTMLModel",
          "state": {
            "_dom_classes": [],
            "_model_module": "@jupyter-widgets/controls",
            "_model_module_version": "1.5.0",
            "_model_name": "HTMLModel",
            "_view_count": null,
            "_view_module": "@jupyter-widgets/controls",
            "_view_module_version": "1.5.0",
            "_view_name": "HTMLView",
            "description": "",
            "description_tooltip": null,
            "layout": "IPY_MODEL_9da1a765f491490f800574beefc3f5fc",
            "placeholder": "​",
            "style": "IPY_MODEL_3c1eeddac60c4da281c8ff88ff116d73",
            "value": "Generating train split: 100%"
          }
        },
        "41b9757a8dec4161870cb5077c45d7d6": {
          "model_module": "@jupyter-widgets/base",
          "model_module_version": "1.2.0",
          "model_name": "LayoutModel",
          "state": {
            "_model_module": "@jupyter-widgets/base",
            "_model_module_version": "1.2.0",
            "_model_name": "LayoutModel",
            "_view_count": null,
            "_view_module": "@jupyter-widgets/base",
            "_view_module_version": "1.2.0",
            "_view_name": "LayoutView",
            "align_content": null,
            "align_items": null,
            "align_self": null,
            "border": null,
            "bottom": null,
            "display": null,
            "flex": null,
            "flex_flow": null,
            "grid_area": null,
            "grid_auto_columns": null,
            "grid_auto_flow": null,
            "grid_auto_rows": null,
            "grid_column": null,
            "grid_gap": null,
            "grid_row": null,
            "grid_template_areas": null,
            "grid_template_columns": null,
            "grid_template_rows": null,
            "height": null,
            "justify_content": null,
            "justify_items": null,
            "left": null,
            "margin": null,
            "max_height": null,
            "max_width": null,
            "min_height": null,
            "min_width": null,
            "object_fit": null,
            "object_position": null,
            "order": null,
            "overflow": null,
            "overflow_x": null,
            "overflow_y": null,
            "padding": null,
            "right": null,
            "top": null,
            "visibility": null,
            "width": null
          }
        },
        "45edb84393d74c329cd020298b73c806": {
          "model_module": "@jupyter-widgets/controls",
          "model_module_version": "1.5.0",
          "model_name": "ProgressStyleModel",
          "state": {
            "_model_module": "@jupyter-widgets/controls",
            "_model_module_version": "1.5.0",
            "_model_name": "ProgressStyleModel",
            "_view_count": null,
            "_view_module": "@jupyter-widgets/base",
            "_view_module_version": "1.2.0",
            "_view_name": "StyleView",
            "bar_color": null,
            "description_width": ""
          }
        },
        "467e16d2075246818013e1885b0870dc": {
          "model_module": "@jupyter-widgets/base",
          "model_module_version": "1.2.0",
          "model_name": "LayoutModel",
          "state": {
            "_model_module": "@jupyter-widgets/base",
            "_model_module_version": "1.2.0",
            "_model_name": "LayoutModel",
            "_view_count": null,
            "_view_module": "@jupyter-widgets/base",
            "_view_module_version": "1.2.0",
            "_view_name": "LayoutView",
            "align_content": null,
            "align_items": null,
            "align_self": null,
            "border": null,
            "bottom": null,
            "display": null,
            "flex": null,
            "flex_flow": null,
            "grid_area": null,
            "grid_auto_columns": null,
            "grid_auto_flow": null,
            "grid_auto_rows": null,
            "grid_column": null,
            "grid_gap": null,
            "grid_row": null,
            "grid_template_areas": null,
            "grid_template_columns": null,
            "grid_template_rows": null,
            "height": null,
            "justify_content": null,
            "justify_items": null,
            "left": null,
            "margin": null,
            "max_height": null,
            "max_width": null,
            "min_height": null,
            "min_width": null,
            "object_fit": null,
            "object_position": null,
            "order": null,
            "overflow": null,
            "overflow_x": null,
            "overflow_y": null,
            "padding": null,
            "right": null,
            "top": null,
            "visibility": "hidden",
            "width": null
          }
        },
        "46a0b2b64c4d4e388856cdc8233c48bc": {
          "model_module": "@jupyter-widgets/base",
          "model_module_version": "1.2.0",
          "model_name": "LayoutModel",
          "state": {
            "_model_module": "@jupyter-widgets/base",
            "_model_module_version": "1.2.0",
            "_model_name": "LayoutModel",
            "_view_count": null,
            "_view_module": "@jupyter-widgets/base",
            "_view_module_version": "1.2.0",
            "_view_name": "LayoutView",
            "align_content": null,
            "align_items": null,
            "align_self": null,
            "border": null,
            "bottom": null,
            "display": null,
            "flex": null,
            "flex_flow": null,
            "grid_area": null,
            "grid_auto_columns": null,
            "grid_auto_flow": null,
            "grid_auto_rows": null,
            "grid_column": null,
            "grid_gap": null,
            "grid_row": null,
            "grid_template_areas": null,
            "grid_template_columns": null,
            "grid_template_rows": null,
            "height": null,
            "justify_content": null,
            "justify_items": null,
            "left": null,
            "margin": null,
            "max_height": null,
            "max_width": null,
            "min_height": null,
            "min_width": null,
            "object_fit": null,
            "object_position": null,
            "order": null,
            "overflow": null,
            "overflow_x": null,
            "overflow_y": null,
            "padding": null,
            "right": null,
            "top": null,
            "visibility": null,
            "width": null
          }
        },
        "46b441bb3bed4bb58ad9f58d3823afaa": {
          "model_module": "@jupyter-widgets/base",
          "model_module_version": "1.2.0",
          "model_name": "LayoutModel",
          "state": {
            "_model_module": "@jupyter-widgets/base",
            "_model_module_version": "1.2.0",
            "_model_name": "LayoutModel",
            "_view_count": null,
            "_view_module": "@jupyter-widgets/base",
            "_view_module_version": "1.2.0",
            "_view_name": "LayoutView",
            "align_content": null,
            "align_items": null,
            "align_self": null,
            "border": null,
            "bottom": null,
            "display": null,
            "flex": null,
            "flex_flow": null,
            "grid_area": null,
            "grid_auto_columns": null,
            "grid_auto_flow": null,
            "grid_auto_rows": null,
            "grid_column": null,
            "grid_gap": null,
            "grid_row": null,
            "grid_template_areas": null,
            "grid_template_columns": null,
            "grid_template_rows": null,
            "height": null,
            "justify_content": null,
            "justify_items": null,
            "left": null,
            "margin": null,
            "max_height": null,
            "max_width": null,
            "min_height": null,
            "min_width": null,
            "object_fit": null,
            "object_position": null,
            "order": null,
            "overflow": null,
            "overflow_x": null,
            "overflow_y": null,
            "padding": null,
            "right": null,
            "top": null,
            "visibility": null,
            "width": null
          }
        },
        "48a39a63c506484481638668f039a1b8": {
          "model_module": "@jupyter-widgets/controls",
          "model_module_version": "1.5.0",
          "model_name": "HTMLModel",
          "state": {
            "_dom_classes": [],
            "_model_module": "@jupyter-widgets/controls",
            "_model_module_version": "1.5.0",
            "_model_name": "HTMLModel",
            "_view_count": null,
            "_view_module": "@jupyter-widgets/controls",
            "_view_module_version": "1.5.0",
            "_view_name": "HTMLView",
            "description": "",
            "description_tooltip": null,
            "layout": "IPY_MODEL_65829ad4d52543a89bea01ef47b2826e",
            "placeholder": "​",
            "style": "IPY_MODEL_011a4303237d4df983160be338aedeff",
            "value": "Downloading data: 100%"
          }
        },
        "4a8c40f8cd3a4c19bc01bca9af3eab91": {
          "model_module": "@jupyter-widgets/base",
          "model_module_version": "1.2.0",
          "model_name": "LayoutModel",
          "state": {
            "_model_module": "@jupyter-widgets/base",
            "_model_module_version": "1.2.0",
            "_model_name": "LayoutModel",
            "_view_count": null,
            "_view_module": "@jupyter-widgets/base",
            "_view_module_version": "1.2.0",
            "_view_name": "LayoutView",
            "align_content": null,
            "align_items": null,
            "align_self": null,
            "border": null,
            "bottom": null,
            "display": null,
            "flex": null,
            "flex_flow": null,
            "grid_area": null,
            "grid_auto_columns": null,
            "grid_auto_flow": null,
            "grid_auto_rows": null,
            "grid_column": null,
            "grid_gap": null,
            "grid_row": null,
            "grid_template_areas": null,
            "grid_template_columns": null,
            "grid_template_rows": null,
            "height": null,
            "justify_content": null,
            "justify_items": null,
            "left": null,
            "margin": null,
            "max_height": null,
            "max_width": null,
            "min_height": null,
            "min_width": null,
            "object_fit": null,
            "object_position": null,
            "order": null,
            "overflow": null,
            "overflow_x": null,
            "overflow_y": null,
            "padding": null,
            "right": null,
            "top": null,
            "visibility": null,
            "width": null
          }
        },
        "4b776dcdbac144ce9e6c0a92e0078b8f": {
          "model_module": "@jupyter-widgets/controls",
          "model_module_version": "1.5.0",
          "model_name": "ProgressStyleModel",
          "state": {
            "_model_module": "@jupyter-widgets/controls",
            "_model_module_version": "1.5.0",
            "_model_name": "ProgressStyleModel",
            "_view_count": null,
            "_view_module": "@jupyter-widgets/base",
            "_view_module_version": "1.2.0",
            "_view_name": "StyleView",
            "bar_color": null,
            "description_width": ""
          }
        },
        "55e68c09de0742948c96d37424cd964f": {
          "model_module": "@jupyter-widgets/base",
          "model_module_version": "1.2.0",
          "model_name": "LayoutModel",
          "state": {
            "_model_module": "@jupyter-widgets/base",
            "_model_module_version": "1.2.0",
            "_model_name": "LayoutModel",
            "_view_count": null,
            "_view_module": "@jupyter-widgets/base",
            "_view_module_version": "1.2.0",
            "_view_name": "LayoutView",
            "align_content": null,
            "align_items": null,
            "align_self": null,
            "border": null,
            "bottom": null,
            "display": null,
            "flex": null,
            "flex_flow": null,
            "grid_area": null,
            "grid_auto_columns": null,
            "grid_auto_flow": null,
            "grid_auto_rows": null,
            "grid_column": null,
            "grid_gap": null,
            "grid_row": null,
            "grid_template_areas": null,
            "grid_template_columns": null,
            "grid_template_rows": null,
            "height": null,
            "justify_content": null,
            "justify_items": null,
            "left": null,
            "margin": null,
            "max_height": null,
            "max_width": null,
            "min_height": null,
            "min_width": null,
            "object_fit": null,
            "object_position": null,
            "order": null,
            "overflow": null,
            "overflow_x": null,
            "overflow_y": null,
            "padding": null,
            "right": null,
            "top": null,
            "visibility": null,
            "width": null
          }
        },
        "59b7dd00e72446ee8a8056a140e6e9f5": {
          "model_module": "@jupyter-widgets/controls",
          "model_module_version": "1.5.0",
          "model_name": "FloatProgressModel",
          "state": {
            "_dom_classes": [],
            "_model_module": "@jupyter-widgets/controls",
            "_model_module_version": "1.5.0",
            "_model_name": "FloatProgressModel",
            "_view_count": null,
            "_view_module": "@jupyter-widgets/controls",
            "_view_module_version": "1.5.0",
            "_view_name": "ProgressView",
            "bar_style": "success",
            "description": "",
            "description_tooltip": null,
            "layout": "IPY_MODEL_4a8c40f8cd3a4c19bc01bca9af3eab91",
            "max": 234008884,
            "min": 0,
            "orientation": "horizontal",
            "style": "IPY_MODEL_80319fb512bb48549041945e235f93dc",
            "value": 234008884
          }
        },
        "5a7184c60e554659a9d2d905db1b771d": {
          "model_module": "@jupyter-widgets/base",
          "model_module_version": "1.2.0",
          "model_name": "LayoutModel",
          "state": {
            "_model_module": "@jupyter-widgets/base",
            "_model_module_version": "1.2.0",
            "_model_name": "LayoutModel",
            "_view_count": null,
            "_view_module": "@jupyter-widgets/base",
            "_view_module_version": "1.2.0",
            "_view_name": "LayoutView",
            "align_content": null,
            "align_items": null,
            "align_self": null,
            "border": null,
            "bottom": null,
            "display": null,
            "flex": null,
            "flex_flow": null,
            "grid_area": null,
            "grid_auto_columns": null,
            "grid_auto_flow": null,
            "grid_auto_rows": null,
            "grid_column": null,
            "grid_gap": null,
            "grid_row": null,
            "grid_template_areas": null,
            "grid_template_columns": null,
            "grid_template_rows": null,
            "height": null,
            "justify_content": null,
            "justify_items": null,
            "left": null,
            "margin": null,
            "max_height": null,
            "max_width": null,
            "min_height": null,
            "min_width": null,
            "object_fit": null,
            "object_position": null,
            "order": null,
            "overflow": null,
            "overflow_x": null,
            "overflow_y": null,
            "padding": null,
            "right": null,
            "top": null,
            "visibility": null,
            "width": null
          }
        },
        "5b0bb8b8e91e40dd8d5642017ee612cb": {
          "model_module": "@jupyter-widgets/controls",
          "model_module_version": "1.5.0",
          "model_name": "DescriptionStyleModel",
          "state": {
            "_model_module": "@jupyter-widgets/controls",
            "_model_module_version": "1.5.0",
            "_model_name": "DescriptionStyleModel",
            "_view_count": null,
            "_view_module": "@jupyter-widgets/base",
            "_view_module_version": "1.2.0",
            "_view_name": "StyleView",
            "description_width": ""
          }
        },
        "5c4c53b3e6044a739816ede366b3f016": {
          "model_module": "@jupyter-widgets/controls",
          "model_module_version": "1.5.0",
          "model_name": "DescriptionStyleModel",
          "state": {
            "_model_module": "@jupyter-widgets/controls",
            "_model_module_version": "1.5.0",
            "_model_name": "DescriptionStyleModel",
            "_view_count": null,
            "_view_module": "@jupyter-widgets/base",
            "_view_module_version": "1.2.0",
            "_view_name": "StyleView",
            "description_width": ""
          }
        },
        "6111e26000c04f81b795056108dd88c2": {
          "model_module": "@jupyter-widgets/base",
          "model_module_version": "1.2.0",
          "model_name": "LayoutModel",
          "state": {
            "_model_module": "@jupyter-widgets/base",
            "_model_module_version": "1.2.0",
            "_model_name": "LayoutModel",
            "_view_count": null,
            "_view_module": "@jupyter-widgets/base",
            "_view_module_version": "1.2.0",
            "_view_name": "LayoutView",
            "align_content": null,
            "align_items": null,
            "align_self": null,
            "border": null,
            "bottom": null,
            "display": null,
            "flex": null,
            "flex_flow": null,
            "grid_area": null,
            "grid_auto_columns": null,
            "grid_auto_flow": null,
            "grid_auto_rows": null,
            "grid_column": null,
            "grid_gap": null,
            "grid_row": null,
            "grid_template_areas": null,
            "grid_template_columns": null,
            "grid_template_rows": null,
            "height": null,
            "justify_content": null,
            "justify_items": null,
            "left": null,
            "margin": null,
            "max_height": null,
            "max_width": null,
            "min_height": null,
            "min_width": null,
            "object_fit": null,
            "object_position": null,
            "order": null,
            "overflow": null,
            "overflow_x": null,
            "overflow_y": null,
            "padding": null,
            "right": null,
            "top": null,
            "visibility": null,
            "width": null
          }
        },
        "63f960a775584205bc3646fe99392e1b": {
          "model_module": "@jupyter-widgets/controls",
          "model_module_version": "1.5.0",
          "model_name": "HTMLModel",
          "state": {
            "_dom_classes": [],
            "_model_module": "@jupyter-widgets/controls",
            "_model_module_version": "1.5.0",
            "_model_name": "HTMLModel",
            "_view_count": null,
            "_view_module": "@jupyter-widgets/controls",
            "_view_module_version": "1.5.0",
            "_view_name": "HTMLView",
            "description": "",
            "description_tooltip": null,
            "layout": "IPY_MODEL_90ef5c0f519546ae91ca7ed4dac6e04a",
            "placeholder": "​",
            "style": "IPY_MODEL_973ae81b056f4856b4bae5ca80b51bee",
            "value": " 9416/10000 [00:02&lt;00:00, 5665.58 examples/s]"
          }
        },
        "65829ad4d52543a89bea01ef47b2826e": {
          "model_module": "@jupyter-widgets/base",
          "model_module_version": "1.2.0",
          "model_name": "LayoutModel",
          "state": {
            "_model_module": "@jupyter-widgets/base",
            "_model_module_version": "1.2.0",
            "_model_name": "LayoutModel",
            "_view_count": null,
            "_view_module": "@jupyter-widgets/base",
            "_view_module_version": "1.2.0",
            "_view_name": "LayoutView",
            "align_content": null,
            "align_items": null,
            "align_self": null,
            "border": null,
            "bottom": null,
            "display": null,
            "flex": null,
            "flex_flow": null,
            "grid_area": null,
            "grid_auto_columns": null,
            "grid_auto_flow": null,
            "grid_auto_rows": null,
            "grid_column": null,
            "grid_gap": null,
            "grid_row": null,
            "grid_template_areas": null,
            "grid_template_columns": null,
            "grid_template_rows": null,
            "height": null,
            "justify_content": null,
            "justify_items": null,
            "left": null,
            "margin": null,
            "max_height": null,
            "max_width": null,
            "min_height": null,
            "min_width": null,
            "object_fit": null,
            "object_position": null,
            "order": null,
            "overflow": null,
            "overflow_x": null,
            "overflow_y": null,
            "padding": null,
            "right": null,
            "top": null,
            "visibility": null,
            "width": null
          }
        },
        "688545b3165142518a98b0fa08ca2a0f": {
          "model_module": "@jupyter-widgets/controls",
          "model_module_version": "1.5.0",
          "model_name": "FloatProgressModel",
          "state": {
            "_dom_classes": [],
            "_model_module": "@jupyter-widgets/controls",
            "_model_module_version": "1.5.0",
            "_model_name": "FloatProgressModel",
            "_view_count": null,
            "_view_module": "@jupyter-widgets/controls",
            "_view_module_version": "1.5.0",
            "_view_name": "ProgressView",
            "bar_style": "success",
            "description": "",
            "description_tooltip": null,
            "layout": "IPY_MODEL_9157df25de1740c99afa1c09dbdf7af1",
            "max": 3,
            "min": 0,
            "orientation": "horizontal",
            "style": "IPY_MODEL_9087e26c6ce04bf1a4e589ad6c27ce54",
            "value": 3
          }
        },
        "69041d034be04d6b81ccf3080155cd12": {
          "model_module": "@jupyter-widgets/base",
          "model_module_version": "1.2.0",
          "model_name": "LayoutModel",
          "state": {
            "_model_module": "@jupyter-widgets/base",
            "_model_module_version": "1.2.0",
            "_model_name": "LayoutModel",
            "_view_count": null,
            "_view_module": "@jupyter-widgets/base",
            "_view_module_version": "1.2.0",
            "_view_name": "LayoutView",
            "align_content": null,
            "align_items": null,
            "align_self": null,
            "border": null,
            "bottom": null,
            "display": null,
            "flex": null,
            "flex_flow": null,
            "grid_area": null,
            "grid_auto_columns": null,
            "grid_auto_flow": null,
            "grid_auto_rows": null,
            "grid_column": null,
            "grid_gap": null,
            "grid_row": null,
            "grid_template_areas": null,
            "grid_template_columns": null,
            "grid_template_rows": null,
            "height": null,
            "justify_content": null,
            "justify_items": null,
            "left": null,
            "margin": null,
            "max_height": null,
            "max_width": null,
            "min_height": null,
            "min_width": null,
            "object_fit": null,
            "object_position": null,
            "order": null,
            "overflow": null,
            "overflow_x": null,
            "overflow_y": null,
            "padding": null,
            "right": null,
            "top": null,
            "visibility": "hidden",
            "width": null
          }
        },
        "6916b555e9bb47e082b4cdbdff027b9b": {
          "model_module": "@jupyter-widgets/base",
          "model_module_version": "1.2.0",
          "model_name": "LayoutModel",
          "state": {
            "_model_module": "@jupyter-widgets/base",
            "_model_module_version": "1.2.0",
            "_model_name": "LayoutModel",
            "_view_count": null,
            "_view_module": "@jupyter-widgets/base",
            "_view_module_version": "1.2.0",
            "_view_name": "LayoutView",
            "align_content": null,
            "align_items": null,
            "align_self": null,
            "border": null,
            "bottom": null,
            "display": null,
            "flex": null,
            "flex_flow": null,
            "grid_area": null,
            "grid_auto_columns": null,
            "grid_auto_flow": null,
            "grid_auto_rows": null,
            "grid_column": null,
            "grid_gap": null,
            "grid_row": null,
            "grid_template_areas": null,
            "grid_template_columns": null,
            "grid_template_rows": null,
            "height": null,
            "justify_content": null,
            "justify_items": null,
            "left": null,
            "margin": null,
            "max_height": null,
            "max_width": null,
            "min_height": null,
            "min_width": null,
            "object_fit": null,
            "object_position": null,
            "order": null,
            "overflow": null,
            "overflow_x": null,
            "overflow_y": null,
            "padding": null,
            "right": null,
            "top": null,
            "visibility": null,
            "width": null
          }
        },
        "6e85c11f1e0d4829ac5ec677026f5369": {
          "model_module": "@jupyter-widgets/controls",
          "model_module_version": "1.5.0",
          "model_name": "HBoxModel",
          "state": {
            "_dom_classes": [],
            "_model_module": "@jupyter-widgets/controls",
            "_model_module_version": "1.5.0",
            "_model_name": "HBoxModel",
            "_view_count": null,
            "_view_module": "@jupyter-widgets/controls",
            "_view_module_version": "1.5.0",
            "_view_name": "HBoxView",
            "box_style": "",
            "children": [
              "IPY_MODEL_e06e9257d1504a4794cd219329a071ea",
              "IPY_MODEL_25639fd752644e6a950d2e4d79e1079b",
              "IPY_MODEL_63f960a775584205bc3646fe99392e1b"
            ],
            "layout": "IPY_MODEL_322d6251c8f14f4aae5ee286cc17edcd"
          }
        },
        "80319fb512bb48549041945e235f93dc": {
          "model_module": "@jupyter-widgets/controls",
          "model_module_version": "1.5.0",
          "model_name": "ProgressStyleModel",
          "state": {
            "_model_module": "@jupyter-widgets/controls",
            "_model_module_version": "1.5.0",
            "_model_name": "ProgressStyleModel",
            "_view_count": null,
            "_view_module": "@jupyter-widgets/base",
            "_view_module_version": "1.2.0",
            "_view_name": "StyleView",
            "bar_color": null,
            "description_width": ""
          }
        },
        "8094668a4d6647c2bdaf62ce31305207": {
          "model_module": "@jupyter-widgets/controls",
          "model_module_version": "1.5.0",
          "model_name": "HTMLModel",
          "state": {
            "_dom_classes": [],
            "_model_module": "@jupyter-widgets/controls",
            "_model_module_version": "1.5.0",
            "_model_name": "HTMLModel",
            "_view_count": null,
            "_view_module": "@jupyter-widgets/controls",
            "_view_module_version": "1.5.0",
            "_view_name": "HTMLView",
            "description": "",
            "description_tooltip": null,
            "layout": "IPY_MODEL_25a480771afb4e0e8382ac0fec54507f",
            "placeholder": "​",
            "style": "IPY_MODEL_da48c24f26754404918d5602dfa199fc",
            "value": " 3/3 [00:00&lt;00:00, 82.79it/s]"
          }
        },
        "8c75e32daff94079b2eb740fdbab1a57": {
          "model_module": "@jupyter-widgets/controls",
          "model_module_version": "1.5.0",
          "model_name": "ProgressStyleModel",
          "state": {
            "_model_module": "@jupyter-widgets/controls",
            "_model_module_version": "1.5.0",
            "_model_name": "ProgressStyleModel",
            "_view_count": null,
            "_view_module": "@jupyter-widgets/base",
            "_view_module_version": "1.2.0",
            "_view_name": "StyleView",
            "bar_color": null,
            "description_width": ""
          }
        },
        "8e169848c7144caaa708acd48bfd5a34": {
          "model_module": "@jupyter-widgets/base",
          "model_module_version": "1.2.0",
          "model_name": "LayoutModel",
          "state": {
            "_model_module": "@jupyter-widgets/base",
            "_model_module_version": "1.2.0",
            "_model_name": "LayoutModel",
            "_view_count": null,
            "_view_module": "@jupyter-widgets/base",
            "_view_module_version": "1.2.0",
            "_view_name": "LayoutView",
            "align_content": null,
            "align_items": null,
            "align_self": null,
            "border": null,
            "bottom": null,
            "display": null,
            "flex": null,
            "flex_flow": null,
            "grid_area": null,
            "grid_auto_columns": null,
            "grid_auto_flow": null,
            "grid_auto_rows": null,
            "grid_column": null,
            "grid_gap": null,
            "grid_row": null,
            "grid_template_areas": null,
            "grid_template_columns": null,
            "grid_template_rows": null,
            "height": null,
            "justify_content": null,
            "justify_items": null,
            "left": null,
            "margin": null,
            "max_height": null,
            "max_width": null,
            "min_height": null,
            "min_width": null,
            "object_fit": null,
            "object_position": null,
            "order": null,
            "overflow": null,
            "overflow_x": null,
            "overflow_y": null,
            "padding": null,
            "right": null,
            "top": null,
            "visibility": null,
            "width": null
          }
        },
        "8fb0a8a8e96c4b879d1a46193e372830": {
          "model_module": "@jupyter-widgets/controls",
          "model_module_version": "1.5.0",
          "model_name": "HTMLModel",
          "state": {
            "_dom_classes": [],
            "_model_module": "@jupyter-widgets/controls",
            "_model_module_version": "1.5.0",
            "_model_name": "HTMLModel",
            "_view_count": null,
            "_view_module": "@jupyter-widgets/controls",
            "_view_module_version": "1.5.0",
            "_view_name": "HTMLView",
            "description": "",
            "description_tooltip": null,
            "layout": "IPY_MODEL_920b9c6e2e0e45d0884e206788f796ad",
            "placeholder": "​",
            "style": "IPY_MODEL_ad3895c70c1f440c95479d5cefd860c6",
            "value": "Downloading readme: 100%"
          }
        },
        "9087e26c6ce04bf1a4e589ad6c27ce54": {
          "model_module": "@jupyter-widgets/controls",
          "model_module_version": "1.5.0",
          "model_name": "ProgressStyleModel",
          "state": {
            "_model_module": "@jupyter-widgets/controls",
            "_model_module_version": "1.5.0",
            "_model_name": "ProgressStyleModel",
            "_view_count": null,
            "_view_module": "@jupyter-widgets/base",
            "_view_module_version": "1.2.0",
            "_view_name": "StyleView",
            "bar_color": null,
            "description_width": ""
          }
        },
        "90ef5c0f519546ae91ca7ed4dac6e04a": {
          "model_module": "@jupyter-widgets/base",
          "model_module_version": "1.2.0",
          "model_name": "LayoutModel",
          "state": {
            "_model_module": "@jupyter-widgets/base",
            "_model_module_version": "1.2.0",
            "_model_name": "LayoutModel",
            "_view_count": null,
            "_view_module": "@jupyter-widgets/base",
            "_view_module_version": "1.2.0",
            "_view_name": "LayoutView",
            "align_content": null,
            "align_items": null,
            "align_self": null,
            "border": null,
            "bottom": null,
            "display": null,
            "flex": null,
            "flex_flow": null,
            "grid_area": null,
            "grid_auto_columns": null,
            "grid_auto_flow": null,
            "grid_auto_rows": null,
            "grid_column": null,
            "grid_gap": null,
            "grid_row": null,
            "grid_template_areas": null,
            "grid_template_columns": null,
            "grid_template_rows": null,
            "height": null,
            "justify_content": null,
            "justify_items": null,
            "left": null,
            "margin": null,
            "max_height": null,
            "max_width": null,
            "min_height": null,
            "min_width": null,
            "object_fit": null,
            "object_position": null,
            "order": null,
            "overflow": null,
            "overflow_x": null,
            "overflow_y": null,
            "padding": null,
            "right": null,
            "top": null,
            "visibility": null,
            "width": null
          }
        },
        "9157df25de1740c99afa1c09dbdf7af1": {
          "model_module": "@jupyter-widgets/base",
          "model_module_version": "1.2.0",
          "model_name": "LayoutModel",
          "state": {
            "_model_module": "@jupyter-widgets/base",
            "_model_module_version": "1.2.0",
            "_model_name": "LayoutModel",
            "_view_count": null,
            "_view_module": "@jupyter-widgets/base",
            "_view_module_version": "1.2.0",
            "_view_name": "LayoutView",
            "align_content": null,
            "align_items": null,
            "align_self": null,
            "border": null,
            "bottom": null,
            "display": null,
            "flex": null,
            "flex_flow": null,
            "grid_area": null,
            "grid_auto_columns": null,
            "grid_auto_flow": null,
            "grid_auto_rows": null,
            "grid_column": null,
            "grid_gap": null,
            "grid_row": null,
            "grid_template_areas": null,
            "grid_template_columns": null,
            "grid_template_rows": null,
            "height": null,
            "justify_content": null,
            "justify_items": null,
            "left": null,
            "margin": null,
            "max_height": null,
            "max_width": null,
            "min_height": null,
            "min_width": null,
            "object_fit": null,
            "object_position": null,
            "order": null,
            "overflow": null,
            "overflow_x": null,
            "overflow_y": null,
            "padding": null,
            "right": null,
            "top": null,
            "visibility": null,
            "width": null
          }
        },
        "920b9c6e2e0e45d0884e206788f796ad": {
          "model_module": "@jupyter-widgets/base",
          "model_module_version": "1.2.0",
          "model_name": "LayoutModel",
          "state": {
            "_model_module": "@jupyter-widgets/base",
            "_model_module_version": "1.2.0",
            "_model_name": "LayoutModel",
            "_view_count": null,
            "_view_module": "@jupyter-widgets/base",
            "_view_module_version": "1.2.0",
            "_view_name": "LayoutView",
            "align_content": null,
            "align_items": null,
            "align_self": null,
            "border": null,
            "bottom": null,
            "display": null,
            "flex": null,
            "flex_flow": null,
            "grid_area": null,
            "grid_auto_columns": null,
            "grid_auto_flow": null,
            "grid_auto_rows": null,
            "grid_column": null,
            "grid_gap": null,
            "grid_row": null,
            "grid_template_areas": null,
            "grid_template_columns": null,
            "grid_template_rows": null,
            "height": null,
            "justify_content": null,
            "justify_items": null,
            "left": null,
            "margin": null,
            "max_height": null,
            "max_width": null,
            "min_height": null,
            "min_width": null,
            "object_fit": null,
            "object_position": null,
            "order": null,
            "overflow": null,
            "overflow_x": null,
            "overflow_y": null,
            "padding": null,
            "right": null,
            "top": null,
            "visibility": null,
            "width": null
          }
        },
        "92bf918dfcfd46fd80d9f3e5b925f0cf": {
          "model_module": "@jupyter-widgets/controls",
          "model_module_version": "1.5.0",
          "model_name": "HTMLModel",
          "state": {
            "_dom_classes": [],
            "_model_module": "@jupyter-widgets/controls",
            "_model_module_version": "1.5.0",
            "_model_name": "HTMLModel",
            "_view_count": null,
            "_view_module": "@jupyter-widgets/controls",
            "_view_module_version": "1.5.0",
            "_view_name": "HTMLView",
            "description": "",
            "description_tooltip": null,
            "layout": "IPY_MODEL_afa3e3691d724a7a9dcbea9f64d2a879",
            "placeholder": "​",
            "style": "IPY_MODEL_381b7feeac394de1a15be2cc5dbef0d4",
            "value": " 234M/234M [00:19&lt;00:00, 12.9MB/s]"
          }
        },
        "94ec92dafcb741548f9c6c69a82dcc54": {
          "model_module": "@jupyter-widgets/controls",
          "model_module_version": "1.5.0",
          "model_name": "HTMLModel",
          "state": {
            "_dom_classes": [],
            "_model_module": "@jupyter-widgets/controls",
            "_model_module_version": "1.5.0",
            "_model_name": "HTMLModel",
            "_view_count": null,
            "_view_module": "@jupyter-widgets/controls",
            "_view_module_version": "1.5.0",
            "_view_name": "HTMLView",
            "description": "",
            "description_tooltip": null,
            "layout": "IPY_MODEL_2405ecb80260406aae79357abd8c97a6",
            "placeholder": "​",
            "style": "IPY_MODEL_c5193e1208034c44824abcdd8a23730d",
            "value": " 131k/131k [00:00&lt;00:00, 164kB/s]"
          }
        },
        "973ae81b056f4856b4bae5ca80b51bee": {
          "model_module": "@jupyter-widgets/controls",
          "model_module_version": "1.5.0",
          "model_name": "DescriptionStyleModel",
          "state": {
            "_model_module": "@jupyter-widgets/controls",
            "_model_module_version": "1.5.0",
            "_model_name": "DescriptionStyleModel",
            "_view_count": null,
            "_view_module": "@jupyter-widgets/base",
            "_view_module_version": "1.2.0",
            "_view_name": "StyleView",
            "description_width": ""
          }
        },
        "989d0d3c2f3b40e094727e9c62dea503": {
          "model_module": "@jupyter-widgets/controls",
          "model_module_version": "1.5.0",
          "model_name": "DescriptionStyleModel",
          "state": {
            "_model_module": "@jupyter-widgets/controls",
            "_model_module_version": "1.5.0",
            "_model_name": "DescriptionStyleModel",
            "_view_count": null,
            "_view_module": "@jupyter-widgets/base",
            "_view_module_version": "1.2.0",
            "_view_name": "StyleView",
            "description_width": ""
          }
        },
        "9da1a765f491490f800574beefc3f5fc": {
          "model_module": "@jupyter-widgets/base",
          "model_module_version": "1.2.0",
          "model_name": "LayoutModel",
          "state": {
            "_model_module": "@jupyter-widgets/base",
            "_model_module_version": "1.2.0",
            "_model_name": "LayoutModel",
            "_view_count": null,
            "_view_module": "@jupyter-widgets/base",
            "_view_module_version": "1.2.0",
            "_view_name": "LayoutView",
            "align_content": null,
            "align_items": null,
            "align_self": null,
            "border": null,
            "bottom": null,
            "display": null,
            "flex": null,
            "flex_flow": null,
            "grid_area": null,
            "grid_auto_columns": null,
            "grid_auto_flow": null,
            "grid_auto_rows": null,
            "grid_column": null,
            "grid_gap": null,
            "grid_row": null,
            "grid_template_areas": null,
            "grid_template_columns": null,
            "grid_template_rows": null,
            "height": null,
            "justify_content": null,
            "justify_items": null,
            "left": null,
            "margin": null,
            "max_height": null,
            "max_width": null,
            "min_height": null,
            "min_width": null,
            "object_fit": null,
            "object_position": null,
            "order": null,
            "overflow": null,
            "overflow_x": null,
            "overflow_y": null,
            "padding": null,
            "right": null,
            "top": null,
            "visibility": null,
            "width": null
          }
        },
        "9f2690e426b94d13beb7afb57241c632": {
          "model_module": "@jupyter-widgets/base",
          "model_module_version": "1.2.0",
          "model_name": "LayoutModel",
          "state": {
            "_model_module": "@jupyter-widgets/base",
            "_model_module_version": "1.2.0",
            "_model_name": "LayoutModel",
            "_view_count": null,
            "_view_module": "@jupyter-widgets/base",
            "_view_module_version": "1.2.0",
            "_view_name": "LayoutView",
            "align_content": null,
            "align_items": null,
            "align_self": null,
            "border": null,
            "bottom": null,
            "display": null,
            "flex": null,
            "flex_flow": null,
            "grid_area": null,
            "grid_auto_columns": null,
            "grid_auto_flow": null,
            "grid_auto_rows": null,
            "grid_column": null,
            "grid_gap": null,
            "grid_row": null,
            "grid_template_areas": null,
            "grid_template_columns": null,
            "grid_template_rows": null,
            "height": null,
            "justify_content": null,
            "justify_items": null,
            "left": null,
            "margin": null,
            "max_height": null,
            "max_width": null,
            "min_height": null,
            "min_width": null,
            "object_fit": null,
            "object_position": null,
            "order": null,
            "overflow": null,
            "overflow_x": null,
            "overflow_y": null,
            "padding": null,
            "right": null,
            "top": null,
            "visibility": null,
            "width": null
          }
        },
        "a8ae71f309234ad68878331a88e73093": {
          "model_module": "@jupyter-widgets/controls",
          "model_module_version": "1.5.0",
          "model_name": "HBoxModel",
          "state": {
            "_dom_classes": [],
            "_model_module": "@jupyter-widgets/controls",
            "_model_module_version": "1.5.0",
            "_model_name": "HBoxModel",
            "_view_count": null,
            "_view_module": "@jupyter-widgets/controls",
            "_view_module_version": "1.5.0",
            "_view_name": "HBoxView",
            "box_style": "",
            "children": [
              "IPY_MODEL_0a3cf1e13e214a7b9acded9dce678994",
              "IPY_MODEL_c4c41c3723af43ad94afec97bbda3d9f",
              "IPY_MODEL_089e0a24924345d3b8bc6ea849d03370"
            ],
            "layout": "IPY_MODEL_f5abb49f0dc74c9b8d43600ec08475ed"
          }
        },
        "ad3895c70c1f440c95479d5cefd860c6": {
          "model_module": "@jupyter-widgets/controls",
          "model_module_version": "1.5.0",
          "model_name": "DescriptionStyleModel",
          "state": {
            "_model_module": "@jupyter-widgets/controls",
            "_model_module_version": "1.5.0",
            "_model_name": "DescriptionStyleModel",
            "_view_count": null,
            "_view_module": "@jupyter-widgets/base",
            "_view_module_version": "1.2.0",
            "_view_name": "StyleView",
            "description_width": ""
          }
        },
        "afa3e3691d724a7a9dcbea9f64d2a879": {
          "model_module": "@jupyter-widgets/base",
          "model_module_version": "1.2.0",
          "model_name": "LayoutModel",
          "state": {
            "_model_module": "@jupyter-widgets/base",
            "_model_module_version": "1.2.0",
            "_model_name": "LayoutModel",
            "_view_count": null,
            "_view_module": "@jupyter-widgets/base",
            "_view_module_version": "1.2.0",
            "_view_name": "LayoutView",
            "align_content": null,
            "align_items": null,
            "align_self": null,
            "border": null,
            "bottom": null,
            "display": null,
            "flex": null,
            "flex_flow": null,
            "grid_area": null,
            "grid_auto_columns": null,
            "grid_auto_flow": null,
            "grid_auto_rows": null,
            "grid_column": null,
            "grid_gap": null,
            "grid_row": null,
            "grid_template_areas": null,
            "grid_template_columns": null,
            "grid_template_rows": null,
            "height": null,
            "justify_content": null,
            "justify_items": null,
            "left": null,
            "margin": null,
            "max_height": null,
            "max_width": null,
            "min_height": null,
            "min_width": null,
            "object_fit": null,
            "object_position": null,
            "order": null,
            "overflow": null,
            "overflow_x": null,
            "overflow_y": null,
            "padding": null,
            "right": null,
            "top": null,
            "visibility": null,
            "width": null
          }
        },
        "b21b363f03d1405a8f2b33233116a0a2": {
          "model_module": "@jupyter-widgets/controls",
          "model_module_version": "1.5.0",
          "model_name": "FloatProgressModel",
          "state": {
            "_dom_classes": [],
            "_model_module": "@jupyter-widgets/controls",
            "_model_module_version": "1.5.0",
            "_model_name": "FloatProgressModel",
            "_view_count": null,
            "_view_module": "@jupyter-widgets/controls",
            "_view_module_version": "1.5.0",
            "_view_name": "ProgressView",
            "bar_style": "",
            "description": "",
            "description_tooltip": null,
            "layout": "IPY_MODEL_23db286446074ed9a5bb749cfa2d33ff",
            "max": 10000,
            "min": 0,
            "orientation": "horizontal",
            "style": "IPY_MODEL_45edb84393d74c329cd020298b73c806",
            "value": 10000
          }
        },
        "b32967f196d244759f765d687bb8a2db": {
          "model_module": "@jupyter-widgets/controls",
          "model_module_version": "1.5.0",
          "model_name": "HBoxModel",
          "state": {
            "_dom_classes": [],
            "_model_module": "@jupyter-widgets/controls",
            "_model_module_version": "1.5.0",
            "_model_name": "HBoxModel",
            "_view_count": null,
            "_view_module": "@jupyter-widgets/controls",
            "_view_module_version": "1.5.0",
            "_view_name": "HBoxView",
            "box_style": "",
            "children": [
              "IPY_MODEL_48a39a63c506484481638668f039a1b8",
              "IPY_MODEL_59b7dd00e72446ee8a8056a140e6e9f5",
              "IPY_MODEL_92bf918dfcfd46fd80d9f3e5b925f0cf"
            ],
            "layout": "IPY_MODEL_0fbbdbd2feee4edfa1181eb7d26555e7"
          }
        },
        "b3dbf6c808324461a3ea98bf98da0d6f": {
          "model_module": "@jupyter-widgets/controls",
          "model_module_version": "1.5.0",
          "model_name": "ProgressStyleModel",
          "state": {
            "_model_module": "@jupyter-widgets/controls",
            "_model_module_version": "1.5.0",
            "_model_name": "ProgressStyleModel",
            "_view_count": null,
            "_view_module": "@jupyter-widgets/base",
            "_view_module_version": "1.2.0",
            "_view_name": "StyleView",
            "bar_color": null,
            "description_width": ""
          }
        },
        "b76e24517dc042a4b94563b9c3bea617": {
          "model_module": "@jupyter-widgets/controls",
          "model_module_version": "1.5.0",
          "model_name": "HTMLModel",
          "state": {
            "_dom_classes": [],
            "_model_module": "@jupyter-widgets/controls",
            "_model_module_version": "1.5.0",
            "_model_name": "HTMLModel",
            "_view_count": null,
            "_view_module": "@jupyter-widgets/controls",
            "_view_module_version": "1.5.0",
            "_view_name": "HTMLView",
            "description": "",
            "description_tooltip": null,
            "layout": "IPY_MODEL_2025783a02f04ff881bffda96cd61e9b",
            "placeholder": "​",
            "style": "IPY_MODEL_989d0d3c2f3b40e094727e9c62dea503",
            "value": " 20000/20000 [00:14&lt;00:00, 7490.20 examples/s]"
          }
        },
        "b8a9ba13847941ffa4819b29092e7295": {
          "model_module": "@jupyter-widgets/controls",
          "model_module_version": "1.5.0",
          "model_name": "FloatProgressModel",
          "state": {
            "_dom_classes": [],
            "_model_module": "@jupyter-widgets/controls",
            "_model_module_version": "1.5.0",
            "_model_name": "FloatProgressModel",
            "_view_count": null,
            "_view_module": "@jupyter-widgets/controls",
            "_view_module_version": "1.5.0",
            "_view_name": "ProgressView",
            "bar_style": "success",
            "description": "",
            "description_tooltip": null,
            "layout": "IPY_MODEL_8e169848c7144caaa708acd48bfd5a34",
            "max": 11637,
            "min": 0,
            "orientation": "horizontal",
            "style": "IPY_MODEL_4b776dcdbac144ce9e6c0a92e0078b8f",
            "value": 11637
          }
        },
        "c1e289c951f74d0e952a65b4884f1136": {
          "model_module": "@jupyter-widgets/base",
          "model_module_version": "1.2.0",
          "model_name": "LayoutModel",
          "state": {
            "_model_module": "@jupyter-widgets/base",
            "_model_module_version": "1.2.0",
            "_model_name": "LayoutModel",
            "_view_count": null,
            "_view_module": "@jupyter-widgets/base",
            "_view_module_version": "1.2.0",
            "_view_name": "LayoutView",
            "align_content": null,
            "align_items": null,
            "align_self": null,
            "border": null,
            "bottom": null,
            "display": null,
            "flex": null,
            "flex_flow": null,
            "grid_area": null,
            "grid_auto_columns": null,
            "grid_auto_flow": null,
            "grid_auto_rows": null,
            "grid_column": null,
            "grid_gap": null,
            "grid_row": null,
            "grid_template_areas": null,
            "grid_template_columns": null,
            "grid_template_rows": null,
            "height": null,
            "justify_content": null,
            "justify_items": null,
            "left": null,
            "margin": null,
            "max_height": null,
            "max_width": null,
            "min_height": null,
            "min_width": null,
            "object_fit": null,
            "object_position": null,
            "order": null,
            "overflow": null,
            "overflow_x": null,
            "overflow_y": null,
            "padding": null,
            "right": null,
            "top": null,
            "visibility": null,
            "width": null
          }
        },
        "c4c41c3723af43ad94afec97bbda3d9f": {
          "model_module": "@jupyter-widgets/controls",
          "model_module_version": "1.5.0",
          "model_name": "FloatProgressModel",
          "state": {
            "_dom_classes": [],
            "_model_module": "@jupyter-widgets/controls",
            "_model_module_version": "1.5.0",
            "_model_name": "FloatProgressModel",
            "_view_count": null,
            "_view_module": "@jupyter-widgets/controls",
            "_view_module_version": "1.5.0",
            "_view_name": "ProgressView",
            "bar_style": "success",
            "description": "",
            "description_tooltip": null,
            "layout": "IPY_MODEL_6916b555e9bb47e082b4cdbdff027b9b",
            "max": 617123,
            "min": 0,
            "orientation": "horizontal",
            "style": "IPY_MODEL_8c75e32daff94079b2eb740fdbab1a57",
            "value": 617123
          }
        },
        "c5193e1208034c44824abcdd8a23730d": {
          "model_module": "@jupyter-widgets/controls",
          "model_module_version": "1.5.0",
          "model_name": "DescriptionStyleModel",
          "state": {
            "_model_module": "@jupyter-widgets/controls",
            "_model_module_version": "1.5.0",
            "_model_name": "DescriptionStyleModel",
            "_view_count": null,
            "_view_module": "@jupyter-widgets/base",
            "_view_module_version": "1.2.0",
            "_view_name": "StyleView",
            "description_width": ""
          }
        },
        "cb55eb37fc53404599d23b91d651adea": {
          "model_module": "@jupyter-widgets/controls",
          "model_module_version": "1.5.0",
          "model_name": "ProgressStyleModel",
          "state": {
            "_model_module": "@jupyter-widgets/controls",
            "_model_module_version": "1.5.0",
            "_model_name": "ProgressStyleModel",
            "_view_count": null,
            "_view_module": "@jupyter-widgets/base",
            "_view_module_version": "1.2.0",
            "_view_name": "StyleView",
            "bar_color": null,
            "description_width": ""
          }
        },
        "cce7a0b0c48c4701a924b55256d1e779": {
          "model_module": "@jupyter-widgets/controls",
          "model_module_version": "1.5.0",
          "model_name": "HTMLModel",
          "state": {
            "_dom_classes": [],
            "_model_module": "@jupyter-widgets/controls",
            "_model_module_version": "1.5.0",
            "_model_name": "HTMLModel",
            "_view_count": null,
            "_view_module": "@jupyter-widgets/controls",
            "_view_module_version": "1.5.0",
            "_view_name": "HTMLView",
            "description": "",
            "description_tooltip": null,
            "layout": "IPY_MODEL_46b441bb3bed4bb58ad9f58d3823afaa",
            "placeholder": "​",
            "style": "IPY_MODEL_1dbeec7fed534c1e8980f3de58125e44",
            "value": "Downloading builder script: 100%"
          }
        },
        "ce28a306535a4024af463e6caf68d4b0": {
          "model_module": "@jupyter-widgets/controls",
          "model_module_version": "1.5.0",
          "model_name": "HBoxModel",
          "state": {
            "_dom_classes": [],
            "_model_module": "@jupyter-widgets/controls",
            "_model_module_version": "1.5.0",
            "_model_name": "HBoxModel",
            "_view_count": null,
            "_view_module": "@jupyter-widgets/controls",
            "_view_module_version": "1.5.0",
            "_view_name": "HBoxView",
            "box_style": "",
            "children": [
              "IPY_MODEL_cce7a0b0c48c4701a924b55256d1e779",
              "IPY_MODEL_b8a9ba13847941ffa4819b29092e7295",
              "IPY_MODEL_020c7ba25ee944d19878242740ad7626"
            ],
            "layout": "IPY_MODEL_ebb61b525fdf4cb98606e48469bca819"
          }
        },
        "d400ee6d8eef4ce3ac60f955775797e5": {
          "model_module": "@jupyter-widgets/controls",
          "model_module_version": "1.5.0",
          "model_name": "DescriptionStyleModel",
          "state": {
            "_model_module": "@jupyter-widgets/controls",
            "_model_module_version": "1.5.0",
            "_model_name": "DescriptionStyleModel",
            "_view_count": null,
            "_view_module": "@jupyter-widgets/base",
            "_view_module_version": "1.2.0",
            "_view_name": "StyleView",
            "description_width": ""
          }
        },
        "d768e9c91646412da1b0d25ae8894b49": {
          "model_module": "@jupyter-widgets/base",
          "model_module_version": "1.2.0",
          "model_name": "LayoutModel",
          "state": {
            "_model_module": "@jupyter-widgets/base",
            "_model_module_version": "1.2.0",
            "_model_name": "LayoutModel",
            "_view_count": null,
            "_view_module": "@jupyter-widgets/base",
            "_view_module_version": "1.2.0",
            "_view_name": "LayoutView",
            "align_content": null,
            "align_items": null,
            "align_self": null,
            "border": null,
            "bottom": null,
            "display": null,
            "flex": null,
            "flex_flow": null,
            "grid_area": null,
            "grid_auto_columns": null,
            "grid_auto_flow": null,
            "grid_auto_rows": null,
            "grid_column": null,
            "grid_gap": null,
            "grid_row": null,
            "grid_template_areas": null,
            "grid_template_columns": null,
            "grid_template_rows": null,
            "height": null,
            "justify_content": null,
            "justify_items": null,
            "left": null,
            "margin": null,
            "max_height": null,
            "max_width": null,
            "min_height": null,
            "min_width": null,
            "object_fit": null,
            "object_position": null,
            "order": null,
            "overflow": null,
            "overflow_x": null,
            "overflow_y": null,
            "padding": null,
            "right": null,
            "top": null,
            "visibility": null,
            "width": null
          }
        },
        "da48c24f26754404918d5602dfa199fc": {
          "model_module": "@jupyter-widgets/controls",
          "model_module_version": "1.5.0",
          "model_name": "DescriptionStyleModel",
          "state": {
            "_model_module": "@jupyter-widgets/controls",
            "_model_module_version": "1.5.0",
            "_model_name": "DescriptionStyleModel",
            "_view_count": null,
            "_view_module": "@jupyter-widgets/base",
            "_view_module_version": "1.2.0",
            "_view_name": "StyleView",
            "description_width": ""
          }
        },
        "db3c1bc7cfab4cca8338dd214f4a952e": {
          "model_module": "@jupyter-widgets/controls",
          "model_module_version": "1.5.0",
          "model_name": "FloatProgressModel",
          "state": {
            "_dom_classes": [],
            "_model_module": "@jupyter-widgets/controls",
            "_model_module_version": "1.5.0",
            "_model_name": "FloatProgressModel",
            "_view_count": null,
            "_view_module": "@jupyter-widgets/controls",
            "_view_module_version": "1.5.0",
            "_view_name": "ProgressView",
            "bar_style": "",
            "description": "",
            "description_tooltip": null,
            "layout": "IPY_MODEL_55e68c09de0742948c96d37424cd964f",
            "max": 20000,
            "min": 0,
            "orientation": "horizontal",
            "style": "IPY_MODEL_db5a605cecc74b03866f0229c6ff1bfd",
            "value": 20000
          }
        },
        "db5a605cecc74b03866f0229c6ff1bfd": {
          "model_module": "@jupyter-widgets/controls",
          "model_module_version": "1.5.0",
          "model_name": "ProgressStyleModel",
          "state": {
            "_model_module": "@jupyter-widgets/controls",
            "_model_module_version": "1.5.0",
            "_model_name": "ProgressStyleModel",
            "_view_count": null,
            "_view_module": "@jupyter-widgets/base",
            "_view_module_version": "1.2.0",
            "_view_name": "StyleView",
            "bar_color": null,
            "description_width": ""
          }
        },
        "dec94d0f2b51420dad2ddf24e6287fca": {
          "model_module": "@jupyter-widgets/controls",
          "model_module_version": "1.5.0",
          "model_name": "HTMLModel",
          "state": {
            "_dom_classes": [],
            "_model_module": "@jupyter-widgets/controls",
            "_model_module_version": "1.5.0",
            "_model_name": "HTMLModel",
            "_view_count": null,
            "_view_module": "@jupyter-widgets/controls",
            "_view_module_version": "1.5.0",
            "_view_name": "HTMLView",
            "description": "",
            "description_tooltip": null,
            "layout": "IPY_MODEL_0847a8785f0543da9c004e03d1cac03e",
            "placeholder": "​",
            "style": "IPY_MODEL_232b0566998648c697492fde64638880",
            "value": "Generating test split:  96%"
          }
        },
        "dffaefa98d7247c6944ad8e2569d39d7": {
          "model_module": "@jupyter-widgets/base",
          "model_module_version": "1.2.0",
          "model_name": "LayoutModel",
          "state": {
            "_model_module": "@jupyter-widgets/base",
            "_model_module_version": "1.2.0",
            "_model_name": "LayoutModel",
            "_view_count": null,
            "_view_module": "@jupyter-widgets/base",
            "_view_module_version": "1.2.0",
            "_view_name": "LayoutView",
            "align_content": null,
            "align_items": null,
            "align_self": null,
            "border": null,
            "bottom": null,
            "display": null,
            "flex": null,
            "flex_flow": null,
            "grid_area": null,
            "grid_auto_columns": null,
            "grid_auto_flow": null,
            "grid_auto_rows": null,
            "grid_column": null,
            "grid_gap": null,
            "grid_row": null,
            "grid_template_areas": null,
            "grid_template_columns": null,
            "grid_template_rows": null,
            "height": null,
            "justify_content": null,
            "justify_items": null,
            "left": null,
            "margin": null,
            "max_height": null,
            "max_width": null,
            "min_height": null,
            "min_width": null,
            "object_fit": null,
            "object_position": null,
            "order": null,
            "overflow": null,
            "overflow_x": null,
            "overflow_y": null,
            "padding": null,
            "right": null,
            "top": null,
            "visibility": null,
            "width": null
          }
        },
        "e06e9257d1504a4794cd219329a071ea": {
          "model_module": "@jupyter-widgets/controls",
          "model_module_version": "1.5.0",
          "model_name": "HTMLModel",
          "state": {
            "_dom_classes": [],
            "_model_module": "@jupyter-widgets/controls",
            "_model_module_version": "1.5.0",
            "_model_name": "HTMLModel",
            "_view_count": null,
            "_view_module": "@jupyter-widgets/controls",
            "_view_module_version": "1.5.0",
            "_view_name": "HTMLView",
            "description": "",
            "description_tooltip": null,
            "layout": "IPY_MODEL_c1e289c951f74d0e952a65b4884f1136",
            "placeholder": "​",
            "style": "IPY_MODEL_10309c22634b45ec8e6a9b72bd8e5fd7",
            "value": "Generating validation split:  94%"
          }
        },
        "e162feefaf43455d8f7d99041908cc2c": {
          "model_module": "@jupyter-widgets/base",
          "model_module_version": "1.2.0",
          "model_name": "LayoutModel",
          "state": {
            "_model_module": "@jupyter-widgets/base",
            "_model_module_version": "1.2.0",
            "_model_name": "LayoutModel",
            "_view_count": null,
            "_view_module": "@jupyter-widgets/base",
            "_view_module_version": "1.2.0",
            "_view_name": "LayoutView",
            "align_content": null,
            "align_items": null,
            "align_self": null,
            "border": null,
            "bottom": null,
            "display": null,
            "flex": null,
            "flex_flow": null,
            "grid_area": null,
            "grid_auto_columns": null,
            "grid_auto_flow": null,
            "grid_auto_rows": null,
            "grid_column": null,
            "grid_gap": null,
            "grid_row": null,
            "grid_template_areas": null,
            "grid_template_columns": null,
            "grid_template_rows": null,
            "height": null,
            "justify_content": null,
            "justify_items": null,
            "left": null,
            "margin": null,
            "max_height": null,
            "max_width": null,
            "min_height": null,
            "min_width": null,
            "object_fit": null,
            "object_position": null,
            "order": null,
            "overflow": null,
            "overflow_x": null,
            "overflow_y": null,
            "padding": null,
            "right": null,
            "top": null,
            "visibility": null,
            "width": null
          }
        },
        "e4cdc7529c0149f187fed1f5ec973c9f": {
          "model_module": "@jupyter-widgets/controls",
          "model_module_version": "1.5.0",
          "model_name": "HTMLModel",
          "state": {
            "_dom_classes": [],
            "_model_module": "@jupyter-widgets/controls",
            "_model_module_version": "1.5.0",
            "_model_name": "HTMLModel",
            "_view_count": null,
            "_view_module": "@jupyter-widgets/controls",
            "_view_module_version": "1.5.0",
            "_view_name": "HTMLView",
            "description": "",
            "description_tooltip": null,
            "layout": "IPY_MODEL_46a0b2b64c4d4e388856cdc8233c48bc",
            "placeholder": "​",
            "style": "IPY_MODEL_d400ee6d8eef4ce3ac60f955775797e5",
            "value": " 9649/10000 [00:01&lt;00:00, 7200.57 examples/s]"
          }
        },
        "ebb61b525fdf4cb98606e48469bca819": {
          "model_module": "@jupyter-widgets/base",
          "model_module_version": "1.2.0",
          "model_name": "LayoutModel",
          "state": {
            "_model_module": "@jupyter-widgets/base",
            "_model_module_version": "1.2.0",
            "_model_name": "LayoutModel",
            "_view_count": null,
            "_view_module": "@jupyter-widgets/base",
            "_view_module_version": "1.2.0",
            "_view_name": "LayoutView",
            "align_content": null,
            "align_items": null,
            "align_self": null,
            "border": null,
            "bottom": null,
            "display": null,
            "flex": null,
            "flex_flow": null,
            "grid_area": null,
            "grid_auto_columns": null,
            "grid_auto_flow": null,
            "grid_auto_rows": null,
            "grid_column": null,
            "grid_gap": null,
            "grid_row": null,
            "grid_template_areas": null,
            "grid_template_columns": null,
            "grid_template_rows": null,
            "height": null,
            "justify_content": null,
            "justify_items": null,
            "left": null,
            "margin": null,
            "max_height": null,
            "max_width": null,
            "min_height": null,
            "min_width": null,
            "object_fit": null,
            "object_position": null,
            "order": null,
            "overflow": null,
            "overflow_x": null,
            "overflow_y": null,
            "padding": null,
            "right": null,
            "top": null,
            "visibility": null,
            "width": null
          }
        },
        "f5abb49f0dc74c9b8d43600ec08475ed": {
          "model_module": "@jupyter-widgets/base",
          "model_module_version": "1.2.0",
          "model_name": "LayoutModel",
          "state": {
            "_model_module": "@jupyter-widgets/base",
            "_model_module_version": "1.2.0",
            "_model_name": "LayoutModel",
            "_view_count": null,
            "_view_module": "@jupyter-widgets/base",
            "_view_module_version": "1.2.0",
            "_view_name": "LayoutView",
            "align_content": null,
            "align_items": null,
            "align_self": null,
            "border": null,
            "bottom": null,
            "display": null,
            "flex": null,
            "flex_flow": null,
            "grid_area": null,
            "grid_auto_columns": null,
            "grid_auto_flow": null,
            "grid_auto_rows": null,
            "grid_column": null,
            "grid_gap": null,
            "grid_row": null,
            "grid_template_areas": null,
            "grid_template_columns": null,
            "grid_template_rows": null,
            "height": null,
            "justify_content": null,
            "justify_items": null,
            "left": null,
            "margin": null,
            "max_height": null,
            "max_width": null,
            "min_height": null,
            "min_width": null,
            "object_fit": null,
            "object_position": null,
            "order": null,
            "overflow": null,
            "overflow_x": null,
            "overflow_y": null,
            "padding": null,
            "right": null,
            "top": null,
            "visibility": null,
            "width": null
          }
        },
        "f5b94cb623b64e768188122b31298b3f": {
          "model_module": "@jupyter-widgets/controls",
          "model_module_version": "1.5.0",
          "model_name": "HBoxModel",
          "state": {
            "_dom_classes": [],
            "_model_module": "@jupyter-widgets/controls",
            "_model_module_version": "1.5.0",
            "_model_name": "HBoxModel",
            "_view_count": null,
            "_view_module": "@jupyter-widgets/controls",
            "_view_module_version": "1.5.0",
            "_view_name": "HBoxView",
            "box_style": "",
            "children": [
              "IPY_MODEL_40ca34ca7aea45348563c1f0d145f571",
              "IPY_MODEL_db3c1bc7cfab4cca8338dd214f4a952e",
              "IPY_MODEL_b76e24517dc042a4b94563b9c3bea617"
            ],
            "layout": "IPY_MODEL_69041d034be04d6b81ccf3080155cd12"
          }
        },
        "f6460323ff034e3da077e73ba5383992": {
          "model_module": "@jupyter-widgets/controls",
          "model_module_version": "1.5.0",
          "model_name": "HBoxModel",
          "state": {
            "_dom_classes": [],
            "_model_module": "@jupyter-widgets/controls",
            "_model_module_version": "1.5.0",
            "_model_name": "HBoxModel",
            "_view_count": null,
            "_view_module": "@jupyter-widgets/controls",
            "_view_module_version": "1.5.0",
            "_view_name": "HBoxView",
            "box_style": "",
            "children": [
              "IPY_MODEL_1f0735c416da4d689777871780083e66",
              "IPY_MODEL_688545b3165142518a98b0fa08ca2a0f",
              "IPY_MODEL_8094668a4d6647c2bdaf62ce31305207"
            ],
            "layout": "IPY_MODEL_dffaefa98d7247c6944ad8e2569d39d7"
          }
        },
        "f73d6d2837274f838f7e588ca195ca46": {
          "model_module": "@jupyter-widgets/controls",
          "model_module_version": "1.5.0",
          "model_name": "HBoxModel",
          "state": {
            "_dom_classes": [],
            "_model_module": "@jupyter-widgets/controls",
            "_model_module_version": "1.5.0",
            "_model_name": "HBoxModel",
            "_view_count": null,
            "_view_module": "@jupyter-widgets/controls",
            "_view_module_version": "1.5.0",
            "_view_name": "HBoxView",
            "box_style": "",
            "children": [
              "IPY_MODEL_8fb0a8a8e96c4b879d1a46193e372830",
              "IPY_MODEL_2ad215b9d82443c48f5d9fb42245e34d",
              "IPY_MODEL_94ec92dafcb741548f9c6c69a82dcc54"
            ],
            "layout": "IPY_MODEL_9f2690e426b94d13beb7afb57241c632"
          }
        }
      }
    }
  },
  "nbformat": 4,
  "nbformat_minor": 5
}