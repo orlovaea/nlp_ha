{
 "cells": [
  {
   "cell_type": "markdown",
   "id": "4e38db03",
   "metadata": {},
   "source": [
    "#### Важное требование ко всей домашке в целом: в jupyter ноутбуке не должно был лишнего кода (т.е. если вы взяли за основу семинар, не забудьте удалить все лишнее)"
   ]
  },
  {
   "cell_type": "code",
   "execution_count": 2,
   "id": "2344b4cd",
   "metadata": {},
   "outputs": [
    {
     "name": "stderr",
     "output_type": "stream",
     "text": [
      "2023-02-10 13:02:16.413302: I tensorflow/core/platform/cpu_feature_guard.cc:193] This TensorFlow binary is optimized with oneAPI Deep Neural Network Library (oneDNN) to use the following CPU instructions in performance-critical operations:  AVX2 FMA\n",
      "To enable them in other operations, rebuild TensorFlow with the appropriate compiler flags.\n"
     ]
    }
   ],
   "source": [
    "import tensorflow as tf\n",
    "import numpy as np\n",
    "import pandas as pd\n",
    "from string import punctuation\n",
    "from sklearn.model_selection import train_test_split\n",
    "from collections import Counter\n",
    "import matplotlib.pyplot as plt\n",
    "from sklearn.decomposition import TruncatedSVD\n",
    "from sklearn.feature_extraction.text import CountVectorizer\n",
    "from sklearn.metrics.pairwise import cosine_distances\n",
    "\n",
    "import pymorphy2\n",
    "morph = pymorphy2.MorphAnalyzer()\n",
    "\n",
    "%matplotlib inline"
   ]
  },
  {
   "cell_type": "code",
   "execution_count": 3,
   "id": "11720734",
   "metadata": {},
   "outputs": [],
   "source": [
    "wiki = open('wiki_data.txt').read().split('\\n')"
   ]
  },
  {
   "cell_type": "markdown",
   "id": "cae0e7a8",
   "metadata": {},
   "source": [
    "# Задание 1 (3 балла)"
   ]
  },
  {
   "cell_type": "markdown",
   "id": "7e7358fe",
   "metadata": {},
   "source": [
    "Обучите word2vec модели с негативным семплированием (cbow и skip-gram) с помощью tensorflow аналогично тому, как это было сделано в семинаре. Вам нужно изменить следующие пункты: \n",
    "1) добавьте лемматизацию в предобработку (любым способом)  \n",
    "2) измените размер окна на 6 для cbow и 12 для skip gram (обратите внимание, что размер окна = #слов слева + #слов справа, в gen_batches в семинаре window используется не так и вам нужно это  изменить!)  \n",
    "\n",
    "Выберете несколько не похожих по смыслу слов, и протестируйте полученные эмбединги (найдите ближайшие слова и оцените правильность, как в семинаре)"
   ]
  },
  {
   "cell_type": "code",
   "execution_count": 36,
   "id": "6a157b9c",
   "metadata": {},
   "outputs": [],
   "source": [
    "def most_similar(word, embeddings):\n",
    "    similar = [id2word[i] for i in \n",
    "               cosine_distances(embeddings[word2id[word]].reshape(1, -1), embeddings).argsort()[0][:10]]\n",
    "    return similar"
   ]
  },
  {
   "cell_type": "code",
   "execution_count": 15,
   "id": "9559112f",
   "metadata": {},
   "outputs": [],
   "source": [
    "import re\n",
    "def preprocess(text):\n",
    "    tokens = re.sub('#+', ' ', text.lower()).split()\n",
    "    tokens = [token.strip(punctuation) for token in tokens]\n",
    "    #tokens = [token for token in tokens if token]\n",
    "    \n",
    "    lemmas = [morph.parse(word)[0].normal_form for word in tokens]\n",
    "    return lemmas"
   ]
  },
  {
   "cell_type": "code",
   "execution_count": 17,
   "id": "7fcbce80",
   "metadata": {},
   "outputs": [],
   "source": [
    "vocab = Counter()\n",
    "\n",
    "for text in wiki:\n",
    "    vocab.update(preprocess(text))"
   ]
  },
  {
   "cell_type": "code",
   "execution_count": 19,
   "id": "6d436602",
   "metadata": {},
   "outputs": [],
   "source": [
    "filtered_vocab = set()\n",
    "\n",
    "for word in vocab:\n",
    "    if vocab[word] > 30:\n",
    "        filtered_vocab.add(word)"
   ]
  },
  {
   "cell_type": "code",
   "execution_count": 21,
   "id": "61c83cdc",
   "metadata": {},
   "outputs": [],
   "source": [
    "word2id = { 'PAD':0}\n",
    "\n",
    "for word in filtered_vocab:\n",
    "    word2id[word] = len(word2id)"
   ]
  },
  {
   "cell_type": "code",
   "execution_count": 22,
   "id": "1570949b",
   "metadata": {},
   "outputs": [],
   "source": [
    "id2word = {i:word for word, i in word2id.items()}"
   ]
  },
  {
   "cell_type": "code",
   "execution_count": 23,
   "id": "15affef3",
   "metadata": {},
   "outputs": [],
   "source": [
    "sentences = []\n",
    "\n",
    "for text in wiki:\n",
    "    tokens = preprocess(text)\n",
    "    if not tokens:\n",
    "        continue\n",
    "    ids = [word2id[token] for token in tokens if token in word2id]\n",
    "    sentences.append(ids)"
   ]
  },
  {
   "cell_type": "code",
   "execution_count": 31,
   "id": "89e934d1",
   "metadata": {},
   "outputs": [],
   "source": [
    "vocab_size = len(id2word)"
   ]
  },
  {
   "cell_type": "markdown",
   "id": "ca8ac48c",
   "metadata": {},
   "source": [
    "#### Skip gram"
   ]
  },
  {
   "cell_type": "code",
   "execution_count": 28,
   "id": "bf104948",
   "metadata": {},
   "outputs": [],
   "source": [
    "def gen_batches_sg(sentences, window = 5, batch_size=1000):\n",
    "    while True:\n",
    "        X_target = []\n",
    "        X_context = []\n",
    "        y = []\n",
    "\n",
    "        for sent in sentences:\n",
    "            for i in range(len(sent)-1):\n",
    "                word = sent[i]\n",
    "                context = sent[max(0, i-window//2):i] + sent[i+1:i+window//2]\n",
    "                for context_word in context:\n",
    "                    X_target.append(word)\n",
    "                    X_context.append(context_word)\n",
    "                    y.append(1)\n",
    "                    \n",
    "                    X_target.append(word)\n",
    "                    X_context.append(np.random.randint(vocab_size))\n",
    "                    y.append(0)\n",
    "                    \n",
    "                    if len(X_target) >= batch_size:\n",
    "                        X_target = np.array(X_target)\n",
    "                        X_context = np.array(X_context)\n",
    "                        y = np.array(y)\n",
    "                        yield ((X_target, X_context), y)\n",
    "                        X_target = []\n",
    "                        X_context = []\n",
    "                        y = []"
   ]
  },
  {
   "cell_type": "code",
   "execution_count": 29,
   "id": "e4a1ba39",
   "metadata": {},
   "outputs": [
    {
     "name": "stderr",
     "output_type": "stream",
     "text": [
      "2023-02-10 15:46:20.198134: I tensorflow/core/platform/cpu_feature_guard.cc:193] This TensorFlow binary is optimized with oneAPI Deep Neural Network Library (oneDNN) to use the following CPU instructions in performance-critical operations:  AVX2 FMA\n",
      "To enable them in other operations, rebuild TensorFlow with the appropriate compiler flags.\n"
     ]
    }
   ],
   "source": [
    "inputs_target = tf.keras.layers.Input(shape=(1,))\n",
    "inputs_context = tf.keras.layers.Input(shape=(1,))\n",
    "\n",
    "\n",
    "embeddings_target = tf.keras.layers.Embedding(input_dim=len(word2id), output_dim=300)(inputs_target, )\n",
    "embeddings_context = tf.keras.layers.Embedding(input_dim=len(word2id), output_dim=300)(inputs_context, )\n",
    "\n",
    "target = tf.keras.layers.Flatten()(embeddings_target)\n",
    "context = tf.keras.layers.Flatten()(embeddings_context)\n",
    "\n",
    "dot = tf.keras.layers.Dot(1)([target, context])\n",
    "outputs = tf.keras.layers.Activation(activation='sigmoid')(dot)\n",
    "\n",
    "model = tf.keras.Model(inputs=[inputs_target, inputs_context], \n",
    "                       outputs=outputs)\n",
    "optimizer = tf.keras.optimizers.Adam(learning_rate=0.001)\n",
    "model.compile(optimizer=optimizer,\n",
    "              loss='binary_crossentropy',\n",
    "              metrics=['accuracy'])"
   ]
  },
  {
   "cell_type": "code",
   "execution_count": 32,
   "id": "788226ef",
   "metadata": {},
   "outputs": [
    {
     "name": "stdout",
     "output_type": "stream",
     "text": [
      "Epoch 1/2\n",
      "10000/10000 [==============================] - 1298s 130ms/step - loss: 0.4483 - accuracy: 0.7988 - val_loss: 0.5107 - val_accuracy: 0.7918\n",
      "Epoch 2/2\n",
      "10000/10000 [==============================] - 796s 80ms/step - loss: 0.4289 - accuracy: 0.8142 - val_loss: 0.4493 - val_accuracy: 0.8094\n"
     ]
    },
    {
     "data": {
      "text/plain": [
       "<keras.callbacks.History at 0x7fdd3517b6d0>"
      ]
     },
     "execution_count": 32,
     "metadata": {},
     "output_type": "execute_result"
    }
   ],
   "source": [
    "model.fit(gen_batches_sg(sentences[:19000], window=12),\n",
    "          validation_data=gen_batches_sg(sentences[19000:],  window=12),\n",
    "          batch_size=1000,\n",
    "          steps_per_epoch=10000,\n",
    "          validation_steps=30,\n",
    "         epochs=2)"
   ]
  },
  {
   "cell_type": "code",
   "execution_count": 49,
   "id": "af755b9a",
   "metadata": {},
   "outputs": [],
   "source": [
    "embeddings_sg = model.layers[2].get_weights()[0]"
   ]
  },
  {
   "cell_type": "code",
   "execution_count": 50,
   "id": "a6bf0ebd",
   "metadata": {},
   "outputs": [
    {
     "data": {
      "text/plain": [
       "['работа',\n",
       " 'программа',\n",
       " 'производство',\n",
       " 'подготовить',\n",
       " 'разработка',\n",
       " 'проект',\n",
       " 'деятельность',\n",
       " 'реализация',\n",
       " 'научный',\n",
       " 'создание']"
      ]
     },
     "execution_count": 50,
     "metadata": {},
     "output_type": "execute_result"
    }
   ],
   "source": [
    "most_similar('работа', embeddings_sg)"
   ]
  },
  {
   "cell_type": "code",
   "execution_count": 47,
   "id": "f271ed2e",
   "metadata": {},
   "outputs": [
    {
     "data": {
      "text/plain": [
       "['самолёт',\n",
       " 'танк',\n",
       " 'истребитель',\n",
       " 'уничтожить',\n",
       " 'артиллерийский',\n",
       " 'авиация',\n",
       " 'воздушный',\n",
       " 'десант',\n",
       " 'сбить',\n",
       " 'вражеский']"
      ]
     },
     "execution_count": 47,
     "metadata": {},
     "output_type": "execute_result"
    }
   ],
   "source": [
    "most_similar('самолёт', embeddings_sg)"
   ]
  },
  {
   "cell_type": "code",
   "execution_count": 48,
   "id": "d2e0829d",
   "metadata": {},
   "outputs": [
    {
     "data": {
      "text/plain": [
       "['париж',\n",
       " 'актриса',\n",
       " 'драматический',\n",
       " 'италия',\n",
       " 'мартин',\n",
       " 'франция',\n",
       " 'издательство',\n",
       " 'олег',\n",
       " 'студент',\n",
       " 'лос-анджелес']"
      ]
     },
     "execution_count": 48,
     "metadata": {},
     "output_type": "execute_result"
    }
   ],
   "source": [
    "most_similar('париж', embeddings_sg)"
   ]
  },
  {
   "cell_type": "markdown",
   "id": "baf48d7d",
   "metadata": {},
   "source": [
    "#### Cbow"
   ]
  },
  {
   "cell_type": "code",
   "execution_count": 52,
   "id": "fd1c4f1d",
   "metadata": {},
   "outputs": [],
   "source": [
    "# # cbow \n",
    "def gen_batches_cbow(sentences, window = 5, batch_size=1000):\n",
    "    while True:\n",
    "        X_target = []\n",
    "        X_context = []\n",
    "        y = []\n",
    "\n",
    "        for sent in sentences:\n",
    "            for i in range(len(sent)-1):\n",
    "                word = sent[i]\n",
    "                context = sent[max(0, i-window//2):i] + sent[i+1:i+window//2]\n",
    "\n",
    "                X_target.append(word)\n",
    "                X_context.append(context)\n",
    "                y.append(1)\n",
    "                \n",
    "                X_target.append(np.random.randint(vocab_size))\n",
    "                X_context.append(context)\n",
    "                y.append(0)\n",
    "\n",
    "                if len(X_target) == batch_size:\n",
    "                    X_target = np.array(X_target)\n",
    "                    X_context = tf.keras.preprocessing.sequence.pad_sequences(X_context, maxlen=window*2)\n",
    "                    y = np.array(y)\n",
    "                    yield ((X_target, X_context), y)\n",
    "                    X_target = []\n",
    "                    X_context = []\n",
    "                    y = []"
   ]
  },
  {
   "cell_type": "code",
   "execution_count": 53,
   "id": "d0e0bfa8",
   "metadata": {},
   "outputs": [],
   "source": [
    "inputs_target = tf.keras.layers.Input(shape=(1,))\n",
    "inputs_context = tf.keras.layers.Input(shape=(10,))\n",
    "\n",
    "\n",
    "embeddings_target = tf.keras.layers.Embedding(input_dim=len(word2id), output_dim=300)(inputs_target, )\n",
    "embeddings_context = tf.keras.layers.Embedding(input_dim=len(word2id), output_dim=300)(inputs_context, )\n",
    "\n",
    "target = tf.keras.layers.Flatten()(embeddings_target)\n",
    "context = tf.keras.layers.Lambda(lambda x: tf.keras.backend.sum(x, axis=1))(embeddings_context)\n",
    "dot = tf.keras.layers.Dot(1)([target, context])\n",
    "\n",
    "outputs = tf.keras.layers.Activation(activation='sigmoid')(dot)\n",
    "\n",
    "model = tf.keras.Model(inputs=[inputs_target, inputs_context], \n",
    "                       outputs=outputs)\n",
    "\n",
    "\n",
    "optimizer = tf.keras.optimizers.Adam(learning_rate=0.001)\n",
    "model.compile(optimizer=optimizer,\n",
    "              loss='binary_crossentropy',\n",
    "              metrics=['accuracy'])"
   ]
  },
  {
   "cell_type": "code",
   "execution_count": 55,
   "id": "8c0310f0",
   "metadata": {},
   "outputs": [
    {
     "name": "stdout",
     "output_type": "stream",
     "text": [
      "Epoch 1/3\n",
      "5000/5000 [==============================] - 477s 95ms/step - loss: 0.3594 - accuracy: 0.8456 - val_loss: 0.3081 - val_accuracy: 0.8731\n",
      "Epoch 2/3\n",
      "5000/5000 [==============================] - 457s 91ms/step - loss: 0.2722 - accuracy: 0.8882 - val_loss: 0.2642 - val_accuracy: 0.8923\n",
      "Epoch 3/3\n",
      "5000/5000 [==============================] - 740s 148ms/step - loss: 0.2247 - accuracy: 0.9084 - val_loss: 0.2741 - val_accuracy: 0.8906\n"
     ]
    },
    {
     "data": {
      "text/plain": [
       "<keras.callbacks.History at 0x7fdd356ceb80>"
      ]
     },
     "execution_count": 55,
     "metadata": {},
     "output_type": "execute_result"
    }
   ],
   "source": [
    "model.fit(gen_batches_cbow(sentences[:19000], window=6),\n",
    "          validation_data=gen_batches_cbow(sentences[19000:],  window=6),\n",
    "          batch_size=1000,\n",
    "          steps_per_epoch=5000,\n",
    "          validation_steps=30,\n",
    "         epochs=3)"
   ]
  },
  {
   "cell_type": "code",
   "execution_count": 56,
   "id": "96a49d66",
   "metadata": {},
   "outputs": [],
   "source": [
    "embeddings_cbow = model.layers[2].get_weights()[0]"
   ]
  },
  {
   "cell_type": "code",
   "execution_count": 58,
   "id": "f394ec68",
   "metadata": {},
   "outputs": [
    {
     "data": {
      "text/plain": [
       "['работа',\n",
       " 'который',\n",
       " 'они',\n",
       " 'и',\n",
       " 'он',\n",
       " 'деятельность',\n",
       " 'свой',\n",
       " 'год',\n",
       " 'в',\n",
       " 'быть']"
      ]
     },
     "execution_count": 58,
     "metadata": {},
     "output_type": "execute_result"
    }
   ],
   "source": [
    "most_similar('работа', embeddings_cbow)"
   ]
  },
  {
   "cell_type": "code",
   "execution_count": 59,
   "id": "c619767f",
   "metadata": {},
   "outputs": [
    {
     "data": {
      "text/plain": [
       "['школа',\n",
       " 'университет',\n",
       " 'училище',\n",
       " 'класс',\n",
       " 'преподаватель',\n",
       " 'академия',\n",
       " 'учиться',\n",
       " 'институт',\n",
       " 'учитель',\n",
       " 'курс']"
      ]
     },
     "execution_count": 59,
     "metadata": {},
     "output_type": "execute_result"
    }
   ],
   "source": [
    "most_similar('школа', embeddings_cbow)"
   ]
  },
  {
   "cell_type": "code",
   "execution_count": 60,
   "id": "80e70190",
   "metadata": {},
   "outputs": [
    {
     "data": {
      "text/plain": [
       "['кошка',\n",
       " 'крокодил',\n",
       " 'клещ',\n",
       " 'кусочек',\n",
       " 'аннабет',\n",
       " 'гроувера',\n",
       " 'поедать',\n",
       " 'свинья',\n",
       " 'паразит',\n",
       " 'ловить']"
      ]
     },
     "execution_count": 60,
     "metadata": {},
     "output_type": "execute_result"
    }
   ],
   "source": [
    "most_similar('кошка', embeddings_cbow)"
   ]
  },
  {
   "cell_type": "code",
   "execution_count": 64,
   "id": "fbc0207e",
   "metadata": {},
   "outputs": [
    {
     "data": {
      "text/plain": [
       "['самолёт',\n",
       " 'истребитель',\n",
       " 'танк',\n",
       " 'машина',\n",
       " 'корабль',\n",
       " 'ракета',\n",
       " 'вертолёт',\n",
       " 'автомобиль',\n",
       " 'двигатель',\n",
       " 'вооружение']"
      ]
     },
     "execution_count": 64,
     "metadata": {},
     "output_type": "execute_result"
    }
   ],
   "source": [
    "most_similar('самолёт', embeddings_cbow)"
   ]
  },
  {
   "cell_type": "markdown",
   "id": "a65a254b",
   "metadata": {},
   "source": [
    "# Задание 2 (3 балла)"
   ]
  },
  {
   "cell_type": "markdown",
   "id": "271f7a2f",
   "metadata": {},
   "source": [
    "Обучите 1 word2vec и 1 fastext модель в gensim. В каждой из модели нужно задать все параметры, которые мы разбирали на семинаре. Заданные значения должны отличаться от дефолтных и от тех, что мы использовали на семинаре."
   ]
  },
  {
   "cell_type": "code",
   "execution_count": 70,
   "id": "26911f2e",
   "metadata": {},
   "outputs": [],
   "source": [
    "import gensim\n",
    "from gensim.models import Word2Vec"
   ]
  },
  {
   "cell_type": "code",
   "execution_count": 66,
   "id": "15368e9f",
   "metadata": {},
   "outputs": [],
   "source": [
    "wiki = open('wiki_data.txt').read().split('\\n')"
   ]
  },
  {
   "cell_type": "code",
   "execution_count": 68,
   "id": "6640fbc2",
   "metadata": {},
   "outputs": [],
   "source": [
    "def preprocess(text):\n",
    "    tokens = re.sub('#+', ' ', text.lower()).split()\n",
    "    tokens = [token.strip(punctuation) for token in tokens]\n",
    "    tokens = [token for token in tokens if token]\n",
    "    return tokens"
   ]
  },
  {
   "cell_type": "code",
   "execution_count": 69,
   "id": "22461da3",
   "metadata": {},
   "outputs": [],
   "source": [
    "texts = [preprocess(text) for text in wiki]"
   ]
  },
  {
   "cell_type": "code",
   "execution_count": 80,
   "id": "20da477a",
   "metadata": {},
   "outputs": [],
   "source": [
    "w2v = gensim.models.Word2Vec(texts, \n",
    "                             vector_size=150, \n",
    "                             min_count=10, \n",
    "                             max_vocab_size=13000,\n",
    "                             window=6,\n",
    "                             epochs=10,\n",
    "                             sg=0,\n",
    "                             hs=1,\n",
    "                             negative=15,\n",
    "                             sample=1e-4,\n",
    "                             ns_exponent=0.9,\n",
    "                             cbow_mean=0)"
   ]
  },
  {
   "cell_type": "code",
   "execution_count": 81,
   "id": "73468cf5",
   "metadata": {},
   "outputs": [
    {
     "data": {
      "text/plain": [
       "[('сад', 0.8062271475791931),\n",
       " ('школы', 0.7928892970085144),\n",
       " ('только', 0.7844210863113403),\n",
       " ('по', 0.7843385934829712),\n",
       " ('в', 0.7838792204856873),\n",
       " ('на', 0.7812486290931702),\n",
       " ('селе', 0.7807595133781433),\n",
       " ('также', 0.7798526287078857),\n",
       " ('уже', 0.779812753200531),\n",
       " ('дом', 0.779140293598175)]"
      ]
     },
     "execution_count": 81,
     "metadata": {},
     "output_type": "execute_result"
    }
   ],
   "source": [
    "w2v.wv.most_similar('школа')"
   ]
  },
  {
   "cell_type": "code",
   "execution_count": 83,
   "id": "e8993e0d",
   "metadata": {},
   "outputs": [
    {
     "data": {
      "text/plain": [
       "[('музея', 0.7987972497940063),\n",
       " ('парк', 0.7972657680511475),\n",
       " ('в', 0.7907548546791077),\n",
       " ('который', 0.7879287600517273),\n",
       " ('истории', 0.7870232462882996),\n",
       " ('он', 0.7858070731163025),\n",
       " ('и', 0.7857315540313721),\n",
       " ('году', 0.7813676595687866),\n",
       " ('а', 0.7813126444816589),\n",
       " ('с', 0.7796851992607117)]"
      ]
     },
     "execution_count": 83,
     "metadata": {},
     "output_type": "execute_result"
    }
   ],
   "source": [
    "w2v.wv.most_similar('музей')"
   ]
  },
  {
   "cell_type": "code",
   "execution_count": 85,
   "id": "507836df",
   "metadata": {},
   "outputs": [
    {
     "data": {
      "text/plain": [
       "[('работы', 0.8291668891906738),\n",
       " ('это', 0.8055028319358826),\n",
       " ('она', 0.7973302602767944),\n",
       " ('но', 0.7936908006668091),\n",
       " ('в', 0.7902784943580627),\n",
       " ('её', 0.7896360754966736),\n",
       " ('и', 0.7877787351608276),\n",
       " ('ней', 0.7866337299346924),\n",
       " ('что', 0.7859464883804321),\n",
       " ('однако', 0.7820146083831787)]"
      ]
     },
     "execution_count": 85,
     "metadata": {},
     "output_type": "execute_result"
    }
   ],
   "source": [
    "w2v.wv.most_similar('работа')"
   ]
  },
  {
   "cell_type": "code",
   "execution_count": 87,
   "id": "99a31c13",
   "metadata": {},
   "outputs": [],
   "source": [
    "ft = gensim.models.FastText(texts, min_n=2, max_n=8)"
   ]
  },
  {
   "cell_type": "code",
   "execution_count": 88,
   "id": "e38a4743",
   "metadata": {},
   "outputs": [
    {
     "data": {
      "text/plain": [
       "[('работника', 0.8976490497589111),\n",
       " ('работа»', 0.8807265162467957),\n",
       " ('работая', 0.8747559189796448),\n",
       " ('работе»', 0.8359116911888123),\n",
       " ('работодателя', 0.8291420936584473),\n",
       " ('работавшая', 0.8271051645278931),\n",
       " ('работниц', 0.8251677751541138),\n",
       " ('доработана', 0.8221490979194641),\n",
       " ('раба', 0.8192058205604553),\n",
       " ('работала', 0.8170024752616882)]"
      ]
     },
     "execution_count": 88,
     "metadata": {},
     "output_type": "execute_result"
    }
   ],
   "source": [
    "ft.wv.most_similar('работа')"
   ]
  },
  {
   "cell_type": "code",
   "execution_count": 89,
   "id": "fe3ff815",
   "metadata": {},
   "outputs": [
    {
     "data": {
      "text/plain": [
       "[('колюшка', 0.9570229649543762),\n",
       " ('коха', 0.9442157745361328),\n",
       " ('кожа', 0.9310123920440674),\n",
       " ('коса', 0.9286544322967529),\n",
       " ('колчака', 0.928449273109436),\n",
       " ('хэнкока', 0.9264490008354187),\n",
       " ('козявка', 0.9249113202095032),\n",
       " ('корка', 0.9186483025550842),\n",
       " ('ка', 0.9174485206604004),\n",
       " ('коба', 0.9149417281150818)]"
      ]
     },
     "execution_count": 89,
     "metadata": {},
     "output_type": "execute_result"
    }
   ],
   "source": [
    "ft.wv.most_similar('кошка')"
   ]
  },
  {
   "cell_type": "code",
   "execution_count": 90,
   "id": "8a638114",
   "metadata": {},
   "outputs": [
    {
     "data": {
      "text/plain": [
       "[('парикмахер', 0.8383645415306091),\n",
       " ('паркерсберг', 0.8351565003395081),\n",
       " ('паркер', 0.8332021236419678),\n",
       " ('парик', 0.8216646909713745),\n",
       " ('пенджари', 0.8036128878593445),\n",
       " ('пайпер', 0.7813020944595337),\n",
       " ('партер', 0.7801513671875),\n",
       " ('хейберг', 0.7757096886634827),\n",
       " ('гринцер', 0.7734072804450989),\n",
       " ('парке»', 0.7709639072418213)]"
      ]
     },
     "execution_count": 90,
     "metadata": {},
     "output_type": "execute_result"
    }
   ],
   "source": [
    "ft.wv.most_similar('париж')"
   ]
  },
  {
   "cell_type": "markdown",
   "id": "cf0067fa",
   "metadata": {},
   "source": [
    "# Задание 3 (4 балла)"
   ]
  },
  {
   "cell_type": "markdown",
   "id": "a36bae3b",
   "metadata": {},
   "source": [
    "Используя датасет для классификации (labeled.csv) и простую нейронную сеть (последняя модель в семинаре), оцените качество полученных эмбедингов в задании 1 и 2 (4 набора эмбедингов), также проверьте 1 любую из предобученных моделей с rus-vectores (но только не tayga_upos_skipgram_300_2_2019). \n",
    "Какая модель показывает наилучший результат?\n",
    "\n",
    "Убедитесь, что для каждой модели вы корректно воспроизводите пайплайн предобработки (в 1 задании у вас лемматизация, не забудьте ее применить к датасету для классификации; у выбранной предобученной модели может быть своя специфичная предобработка - ее нужно воспроизвести)"
   ]
  },
  {
   "cell_type": "code",
   "execution_count": 114,
   "id": "194d6492",
   "metadata": {},
   "outputs": [],
   "source": [
    "def preprocess(text):\n",
    "    tokens = re.sub('#+', ' ', text.lower()).split()\n",
    "    tokens = [token.strip(punctuation) for token in tokens]\n",
    "    #tokens = [token for token in tokens if token]\n",
    "    \n",
    "    lemmas = [morph.parse(word)[0].normal_form for word in tokens]\n",
    "    return lemmas"
   ]
  },
  {
   "cell_type": "code",
   "execution_count": 115,
   "id": "45379003",
   "metadata": {},
   "outputs": [],
   "source": [
    "data = pd.read_csv('labeled.csv')"
   ]
  },
  {
   "cell_type": "code",
   "execution_count": 116,
   "id": "804bbb8e",
   "metadata": {},
   "outputs": [],
   "source": [
    "data['norm_text'] = data.comment.apply(preprocess)"
   ]
  },
  {
   "cell_type": "code",
   "execution_count": 117,
   "id": "74b5ef6e",
   "metadata": {},
   "outputs": [
    {
     "data": {
      "text/html": [
       "<div>\n",
       "<style scoped>\n",
       "    .dataframe tbody tr th:only-of-type {\n",
       "        vertical-align: middle;\n",
       "    }\n",
       "\n",
       "    .dataframe tbody tr th {\n",
       "        vertical-align: top;\n",
       "    }\n",
       "\n",
       "    .dataframe thead th {\n",
       "        text-align: right;\n",
       "    }\n",
       "</style>\n",
       "<table border=\"1\" class=\"dataframe\">\n",
       "  <thead>\n",
       "    <tr style=\"text-align: right;\">\n",
       "      <th></th>\n",
       "      <th>comment</th>\n",
       "      <th>toxic</th>\n",
       "      <th>norm_text</th>\n",
       "    </tr>\n",
       "  </thead>\n",
       "  <tbody>\n",
       "    <tr>\n",
       "      <th>0</th>\n",
       "      <td>Верблюдов-то за что? Дебилы, бл...\\n</td>\n",
       "      <td>1.0</td>\n",
       "      <td>[верблюд-то, за, что, дебил, бл]</td>\n",
       "    </tr>\n",
       "    <tr>\n",
       "      <th>1</th>\n",
       "      <td>Хохлы, это отдушина затюканого россиянина, мол...</td>\n",
       "      <td>1.0</td>\n",
       "      <td>[хохол, это, отдушина, затюканый, россиянин, м...</td>\n",
       "    </tr>\n",
       "    <tr>\n",
       "      <th>2</th>\n",
       "      <td>Собаке - собачья смерть\\n</td>\n",
       "      <td>1.0</td>\n",
       "      <td>[собака, , собачий, смерть]</td>\n",
       "    </tr>\n",
       "    <tr>\n",
       "      <th>3</th>\n",
       "      <td>Страницу обнови, дебил. Это тоже не оскорблени...</td>\n",
       "      <td>1.0</td>\n",
       "      <td>[страница, обновить, дебил, это, тоже, не, оск...</td>\n",
       "    </tr>\n",
       "    <tr>\n",
       "      <th>4</th>\n",
       "      <td>тебя не убедил 6-страничный пдф в том, что Скр...</td>\n",
       "      <td>1.0</td>\n",
       "      <td>[ты, не, убедить, 6-страничный, пдф, в, тот, ч...</td>\n",
       "    </tr>\n",
       "  </tbody>\n",
       "</table>\n",
       "</div>"
      ],
      "text/plain": [
       "                                             comment  toxic  \\\n",
       "0               Верблюдов-то за что? Дебилы, бл...\\n    1.0   \n",
       "1  Хохлы, это отдушина затюканого россиянина, мол...    1.0   \n",
       "2                          Собаке - собачья смерть\\n    1.0   \n",
       "3  Страницу обнови, дебил. Это тоже не оскорблени...    1.0   \n",
       "4  тебя не убедил 6-страничный пдф в том, что Скр...    1.0   \n",
       "\n",
       "                                           norm_text  \n",
       "0                   [верблюд-то, за, что, дебил, бл]  \n",
       "1  [хохол, это, отдушина, затюканый, россиянин, м...  \n",
       "2                        [собака, , собачий, смерть]  \n",
       "3  [страница, обновить, дебил, это, тоже, не, оск...  \n",
       "4  [ты, не, убедить, 6-страничный, пдф, в, тот, ч...  "
      ]
     },
     "execution_count": 117,
     "metadata": {},
     "output_type": "execute_result"
    }
   ],
   "source": [
    "data.head()"
   ]
  },
  {
   "cell_type": "code",
   "execution_count": 118,
   "id": "751c4ee7",
   "metadata": {},
   "outputs": [
    {
     "data": {
      "text/plain": [
       "6309"
      ]
     },
     "execution_count": 118,
     "metadata": {},
     "output_type": "execute_result"
    }
   ],
   "source": [
    "vocab = Counter()\n",
    "\n",
    "for text in data['norm_text']:\n",
    "    vocab.update(text)\n",
    "    \n",
    "filtered_vocab = set()\n",
    "\n",
    "for word in vocab:\n",
    "    if vocab[word] > 5:\n",
    "        filtered_vocab.add(word)\n",
    "\n",
    "len(filtered_vocab)"
   ]
  },
  {
   "cell_type": "code",
   "execution_count": 119,
   "id": "ee7ad42e",
   "metadata": {},
   "outputs": [],
   "source": [
    "word2id = { 'PAD':0}\n",
    "\n",
    "for word in filtered_vocab:\n",
    "    word2id[word] = len(word2id)\n",
    "id2word = {i:word for word, i in word2id.items()}"
   ]
  },
  {
   "cell_type": "code",
   "execution_count": 120,
   "id": "900b3aed",
   "metadata": {},
   "outputs": [],
   "source": [
    "X = []\n",
    "\n",
    "for tokens in data['norm_text']:\n",
    "    ids = [word2id[token] for token in tokens if token in word2id]\n",
    "    X.append(ids)\n",
    "    \n",
    "X = tf.keras.preprocessing.sequence.pad_sequences(X, maxlen=100)\n",
    "y = data.toxic.values"
   ]
  },
  {
   "cell_type": "code",
   "execution_count": 121,
   "id": "ea444684",
   "metadata": {},
   "outputs": [],
   "source": [
    "X_train, X_valid, y_train, y_valid = train_test_split(X, y, test_size=0.05)"
   ]
  },
  {
   "cell_type": "code",
   "execution_count": 99,
   "id": "6c93ba1d",
   "metadata": {},
   "outputs": [],
   "source": [
    "weights = np.zeros((len(word2id), 100))\n",
    "\n",
    "for word, i in word2id.items():\n",
    "    if word == 'PAD':\n",
    "        continue\n",
    "\n",
    "    try:\n",
    "        weights[i] = ft.wv[word]\n",
    "    \n",
    "    \n",
    "    except KeyError:\n",
    "        continue\n",
    "        weights[i] = ft.wv['ывлоарывд']\n",
    "\n",
    "\n",
    "inputs = tf.keras.layers.Input(shape=(100,))\n",
    "\n",
    "\n",
    "embeddings = tf.keras.layers.Embedding(input_dim=len(word2id), output_dim=100, \n",
    "                                       trainable=True,\n",
    "                                       weights=[weights])(inputs, )\n",
    "mean = tf.keras.layers.Lambda(lambda x: tf.keras.backend.mean(x,  axis=1))(embeddings)\n",
    "\n",
    "outputs = tf.keras.layers.Dense(1, activation='sigmoid')(mean)\n",
    "\n",
    "model = tf.keras.Model(inputs=inputs, outputs=outputs)\n",
    "optimizer = tf.keras.optimizers.Adam()\n",
    "model.compile(optimizer=optimizer,\n",
    "              loss='binary_crossentropy',\n",
    "              metrics=['accuracy'])"
   ]
  },
  {
   "cell_type": "code",
   "execution_count": 100,
   "id": "71b08aa3",
   "metadata": {},
   "outputs": [
    {
     "name": "stdout",
     "output_type": "stream",
     "text": [
      "Epoch 1/30\n",
      "428/428 [==============================] - 9s 18ms/step - loss: 0.6161 - accuracy: 0.6637 - val_loss: 0.5677 - val_accuracy: 0.6755\n",
      "Epoch 2/30\n",
      "428/428 [==============================] - 4s 10ms/step - loss: 0.5624 - accuracy: 0.6900 - val_loss: 0.5208 - val_accuracy: 0.7254\n",
      "Epoch 3/30\n",
      "428/428 [==============================] - 5s 11ms/step - loss: 0.5142 - accuracy: 0.7352 - val_loss: 0.4722 - val_accuracy: 0.7878\n",
      "Epoch 4/30\n",
      "428/428 [==============================] - 5s 12ms/step - loss: 0.4670 - accuracy: 0.7858 - val_loss: 0.4328 - val_accuracy: 0.8058\n",
      "Epoch 5/30\n",
      "428/428 [==============================] - 5s 13ms/step - loss: 0.4256 - accuracy: 0.8219 - val_loss: 0.4024 - val_accuracy: 0.8183\n",
      "Epoch 6/30\n",
      "428/428 [==============================] - 5s 11ms/step - loss: 0.3910 - accuracy: 0.8456 - val_loss: 0.3805 - val_accuracy: 0.8211\n",
      "Epoch 7/30\n",
      "428/428 [==============================] - 5s 11ms/step - loss: 0.3628 - accuracy: 0.8624 - val_loss: 0.3616 - val_accuracy: 0.8322\n",
      "Epoch 8/30\n",
      "428/428 [==============================] - 5s 12ms/step - loss: 0.3376 - accuracy: 0.8770 - val_loss: 0.3475 - val_accuracy: 0.8585\n",
      "Epoch 9/30\n",
      "428/428 [==============================] - 5s 12ms/step - loss: 0.3171 - accuracy: 0.8849 - val_loss: 0.3363 - val_accuracy: 0.8558\n",
      "Epoch 10/30\n",
      "428/428 [==============================] - 6s 14ms/step - loss: 0.2985 - accuracy: 0.8946 - val_loss: 0.3286 - val_accuracy: 0.8696\n",
      "Epoch 11/30\n",
      "428/428 [==============================] - 4s 9ms/step - loss: 0.2829 - accuracy: 0.8985 - val_loss: 0.3220 - val_accuracy: 0.8627\n",
      "Epoch 12/30\n",
      "428/428 [==============================] - 4s 9ms/step - loss: 0.2693 - accuracy: 0.9054 - val_loss: 0.3181 - val_accuracy: 0.8738\n",
      "Epoch 13/30\n",
      "428/428 [==============================] - 4s 9ms/step - loss: 0.2568 - accuracy: 0.9096 - val_loss: 0.3210 - val_accuracy: 0.8904\n",
      "Epoch 14/30\n",
      "428/428 [==============================] - 4s 10ms/step - loss: 0.2452 - accuracy: 0.9153 - val_loss: 0.3091 - val_accuracy: 0.8724\n",
      "Epoch 15/30\n",
      "428/428 [==============================] - 4s 9ms/step - loss: 0.2340 - accuracy: 0.9184 - val_loss: 0.3066 - val_accuracy: 0.8710\n",
      "Epoch 16/30\n",
      "428/428 [==============================] - 4s 10ms/step - loss: 0.2248 - accuracy: 0.9232 - val_loss: 0.3054 - val_accuracy: 0.8904\n",
      "Epoch 17/30\n",
      "428/428 [==============================] - 5s 12ms/step - loss: 0.2159 - accuracy: 0.9244 - val_loss: 0.3045 - val_accuracy: 0.8890\n",
      "Epoch 18/30\n",
      "428/428 [==============================] - 5s 13ms/step - loss: 0.2078 - accuracy: 0.9268 - val_loss: 0.3032 - val_accuracy: 0.8766\n",
      "Epoch 19/30\n",
      "428/428 [==============================] - 5s 12ms/step - loss: 0.2002 - accuracy: 0.9306 - val_loss: 0.3034 - val_accuracy: 0.8779\n",
      "Epoch 20/30\n",
      "428/428 [==============================] - 4s 10ms/step - loss: 0.1935 - accuracy: 0.9321 - val_loss: 0.3021 - val_accuracy: 0.8766\n",
      "Epoch 21/30\n",
      "428/428 [==============================] - 5s 11ms/step - loss: 0.1870 - accuracy: 0.9344 - val_loss: 0.3022 - val_accuracy: 0.8779\n",
      "Epoch 22/30\n",
      "428/428 [==============================] - 5s 12ms/step - loss: 0.1806 - accuracy: 0.9367 - val_loss: 0.3017 - val_accuracy: 0.8835\n",
      "Epoch 23/30\n",
      "428/428 [==============================] - 6s 13ms/step - loss: 0.1748 - accuracy: 0.9373 - val_loss: 0.3030 - val_accuracy: 0.8890\n",
      "Epoch 24/30\n",
      "428/428 [==============================] - 6s 14ms/step - loss: 0.1696 - accuracy: 0.9402 - val_loss: 0.3040 - val_accuracy: 0.8807\n",
      "Epoch 25/30\n",
      "428/428 [==============================] - 8s 19ms/step - loss: 0.1647 - accuracy: 0.9410 - val_loss: 0.3099 - val_accuracy: 0.8807\n",
      "Epoch 26/30\n",
      "428/428 [==============================] - 7s 15ms/step - loss: 0.1597 - accuracy: 0.9426 - val_loss: 0.3233 - val_accuracy: 0.8710\n",
      "Epoch 27/30\n",
      "428/428 [==============================] - 4s 10ms/step - loss: 0.1551 - accuracy: 0.9443 - val_loss: 0.3107 - val_accuracy: 0.8793\n",
      "Epoch 28/30\n",
      "428/428 [==============================] - 5s 11ms/step - loss: 0.1508 - accuracy: 0.9457 - val_loss: 0.3127 - val_accuracy: 0.8849\n",
      "Epoch 29/30\n",
      "428/428 [==============================] - 6s 15ms/step - loss: 0.1463 - accuracy: 0.9476 - val_loss: 0.3139 - val_accuracy: 0.8821\n",
      "Epoch 30/30\n",
      "428/428 [==============================] - 7s 15ms/step - loss: 0.1428 - accuracy: 0.9470 - val_loss: 0.3173 - val_accuracy: 0.8835\n"
     ]
    },
    {
     "data": {
      "text/plain": [
       "<keras.callbacks.History at 0x7fdd40904b50>"
      ]
     },
     "execution_count": 100,
     "metadata": {},
     "output_type": "execute_result"
    }
   ],
   "source": [
    "model.fit(X_train, y_train, \n",
    "          validation_data=(X_valid, y_valid),\n",
    "          batch_size=32,\n",
    "          epochs=30)"
   ]
  },
  {
   "cell_type": "code",
   "execution_count": 101,
   "id": "2d86179e",
   "metadata": {},
   "outputs": [
    {
     "name": "stdout",
     "output_type": "stream",
     "text": [
      "dict_keys(['loss', 'accuracy', 'val_loss', 'val_accuracy'])\n"
     ]
    },
    {
     "data": {
      "image/png": "[encoded data removed]",
      "text/plain": [
       "<Figure size 432x288 with 1 Axes>"
      ]
     },
     "metadata": {
      "needs_background": "light"
     },
     "output_type": "display_data"
    }
   ],
   "source": [
    "print(model.history.history.keys())\n",
    "# summarize history for accuracy\n",
    "plt.plot(model.history.history['accuracy'])\n",
    "plt.plot(model.history.history['val_accuracy'])\n",
    "plt.title('model accuracy')\n",
    "plt.ylabel('accuracy')\n",
    "plt.xlabel('epoch')\n",
    "plt.legend(['train', 'val'], loc='upper left')\n",
    "plt.show()"
   ]
  },
  {
   "cell_type": "markdown",
   "id": "7c94d5ff",
   "metadata": {},
   "source": [
    "#### Word2vec"
   ]
  },
  {
   "cell_type": "code",
   "execution_count": 130,
   "id": "36e4f016",
   "metadata": {},
   "outputs": [],
   "source": [
    "X = []\n",
    "\n",
    "for tokens in data['norm_text']:\n",
    "    ids = [word2id[token] for token in tokens if token in word2id]\n",
    "    X.append(ids)\n",
    "    \n",
    "X = tf.keras.preprocessing.sequence.pad_sequences(X, maxlen=150)\n",
    "y = data.toxic.values"
   ]
  },
  {
   "cell_type": "code",
   "execution_count": 131,
   "id": "9893d342",
   "metadata": {},
   "outputs": [],
   "source": [
    "X_train, X_valid, y_train, y_valid = train_test_split(X, y, test_size=0.05)"
   ]
  },
  {
   "cell_type": "code",
   "execution_count": 132,
   "id": "9b0aedf4",
   "metadata": {},
   "outputs": [],
   "source": [
    "weights = np.zeros((len(word2id), 150))\n",
    "\n",
    "for word, i in word2id.items():\n",
    "    if word == 'PAD':\n",
    "        continue\n",
    "\n",
    "    try:\n",
    "        weights[i] = w2v.wv[word]\n",
    "    \n",
    "    except KeyError:\n",
    "        continue\n",
    "        weights[i] = w2v.wv['ывлоарывд']\n",
    "        \n",
    "inputs = tf.keras.layers.Input(shape=(150,))\n",
    "embeddings = tf.keras.layers.Embedding(input_dim=len(word2id), output_dim=150, \n",
    "                                        trainable=False,\n",
    "                                        weights=[weights])(inputs, )\n",
    "mean = tf.keras.layers.Lambda(lambda x: tf.keras.backend.mean(x,  axis=1))(embeddings)\n",
    "\n",
    "outputs = tf.keras.layers.Dense(1, activation='sigmoid')(mean)\n",
    "\n",
    "model = tf.keras.Model(inputs=inputs, outputs=outputs)\n",
    "optimizer = tf.keras.optimizers.Adam()\n",
    "model.compile(optimizer=optimizer,\n",
    "                loss='binary_crossentropy',\n",
    "                metrics=['accuracy'])"
   ]
  },
  {
   "cell_type": "code",
   "execution_count": 133,
   "id": "387cdab6",
   "metadata": {},
   "outputs": [
    {
     "name": "stdout",
     "output_type": "stream",
     "text": [
      "Epoch 1/30\n",
      "428/428 [==============================] - 2s 4ms/step - loss: 0.6401 - accuracy: 0.6612 - val_loss: 0.6354 - val_accuracy: 0.6408\n",
      "Epoch 2/30\n",
      "428/428 [==============================] - 1s 3ms/step - loss: 0.6180 - accuracy: 0.6664 - val_loss: 0.6352 - val_accuracy: 0.6408\n",
      "Epoch 3/30\n",
      "428/428 [==============================] - 2s 4ms/step - loss: 0.6173 - accuracy: 0.6664 - val_loss: 0.6350 - val_accuracy: 0.6408\n",
      "Epoch 4/30\n",
      "428/428 [==============================] - 1s 3ms/step - loss: 0.6171 - accuracy: 0.6664 - val_loss: 0.6350 - val_accuracy: 0.6408\n",
      "Epoch 5/30\n",
      "428/428 [==============================] - 1s 3ms/step - loss: 0.6169 - accuracy: 0.6664 - val_loss: 0.6345 - val_accuracy: 0.6408\n",
      "Epoch 6/30\n",
      "428/428 [==============================] - 1s 3ms/step - loss: 0.6168 - accuracy: 0.6664 - val_loss: 0.6347 - val_accuracy: 0.6408\n",
      "Epoch 7/30\n",
      "428/428 [==============================] - 1s 3ms/step - loss: 0.6166 - accuracy: 0.6664 - val_loss: 0.6343 - val_accuracy: 0.6408\n",
      "Epoch 8/30\n",
      "428/428 [==============================] - 1s 3ms/step - loss: 0.6165 - accuracy: 0.6664 - val_loss: 0.6344 - val_accuracy: 0.6408\n",
      "Epoch 9/30\n",
      "428/428 [==============================] - 1s 3ms/step - loss: 0.6163 - accuracy: 0.6664 - val_loss: 0.6344 - val_accuracy: 0.6408\n",
      "Epoch 10/30\n",
      "428/428 [==============================] - 1s 3ms/step - loss: 0.6162 - accuracy: 0.6664 - val_loss: 0.6342 - val_accuracy: 0.6408\n",
      "Epoch 11/30\n",
      "428/428 [==============================] - 1s 3ms/step - loss: 0.6160 - accuracy: 0.6664 - val_loss: 0.6340 - val_accuracy: 0.6408\n",
      "Epoch 12/30\n",
      "428/428 [==============================] - 1s 3ms/step - loss: 0.6159 - accuracy: 0.6664 - val_loss: 0.6335 - val_accuracy: 0.6408\n",
      "Epoch 13/30\n",
      "428/428 [==============================] - 1s 3ms/step - loss: 0.6156 - accuracy: 0.6664 - val_loss: 0.6342 - val_accuracy: 0.6408\n",
      "Epoch 14/30\n",
      "428/428 [==============================] - 1s 3ms/step - loss: 0.6156 - accuracy: 0.6664 - val_loss: 0.6336 - val_accuracy: 0.6408\n",
      "Epoch 15/30\n",
      "428/428 [==============================] - 1s 3ms/step - loss: 0.6154 - accuracy: 0.6664 - val_loss: 0.6332 - val_accuracy: 0.6408\n",
      "Epoch 16/30\n",
      "428/428 [==============================] - 1s 3ms/step - loss: 0.6152 - accuracy: 0.6664 - val_loss: 0.6335 - val_accuracy: 0.6408\n",
      "Epoch 17/30\n",
      "428/428 [==============================] - 1s 3ms/step - loss: 0.6151 - accuracy: 0.6664 - val_loss: 0.6330 - val_accuracy: 0.6408\n",
      "Epoch 18/30\n",
      "428/428 [==============================] - 1s 3ms/step - loss: 0.6149 - accuracy: 0.6664 - val_loss: 0.6329 - val_accuracy: 0.6408\n",
      "Epoch 19/30\n",
      "428/428 [==============================] - 1s 3ms/step - loss: 0.6147 - accuracy: 0.6664 - val_loss: 0.6329 - val_accuracy: 0.6408\n",
      "Epoch 20/30\n",
      "428/428 [==============================] - 1s 3ms/step - loss: 0.6145 - accuracy: 0.6664 - val_loss: 0.6324 - val_accuracy: 0.6408\n",
      "Epoch 21/30\n",
      "428/428 [==============================] - 1s 3ms/step - loss: 0.6144 - accuracy: 0.6664 - val_loss: 0.6325 - val_accuracy: 0.6408\n",
      "Epoch 22/30\n",
      "428/428 [==============================] - 1s 3ms/step - loss: 0.6143 - accuracy: 0.6664 - val_loss: 0.6321 - val_accuracy: 0.6408\n",
      "Epoch 23/30\n",
      "428/428 [==============================] - 1s 3ms/step - loss: 0.6141 - accuracy: 0.6664 - val_loss: 0.6319 - val_accuracy: 0.6408\n",
      "Epoch 24/30\n",
      "428/428 [==============================] - 1s 3ms/step - loss: 0.6140 - accuracy: 0.6664 - val_loss: 0.6322 - val_accuracy: 0.6408\n",
      "Epoch 25/30\n",
      "428/428 [==============================] - 1s 3ms/step - loss: 0.6138 - accuracy: 0.6664 - val_loss: 0.6321 - val_accuracy: 0.6408\n",
      "Epoch 26/30\n",
      "428/428 [==============================] - 1s 3ms/step - loss: 0.6137 - accuracy: 0.6664 - val_loss: 0.6318 - val_accuracy: 0.6408\n",
      "Epoch 27/30\n",
      "428/428 [==============================] - 1s 3ms/step - loss: 0.6136 - accuracy: 0.6664 - val_loss: 0.6316 - val_accuracy: 0.6408\n",
      "Epoch 28/30\n",
      "428/428 [==============================] - 1s 3ms/step - loss: 0.6134 - accuracy: 0.6664 - val_loss: 0.6313 - val_accuracy: 0.6408\n",
      "Epoch 29/30\n",
      "428/428 [==============================] - 1s 3ms/step - loss: 0.6132 - accuracy: 0.6664 - val_loss: 0.6317 - val_accuracy: 0.6408\n",
      "Epoch 30/30\n",
      "428/428 [==============================] - 1s 3ms/step - loss: 0.6131 - accuracy: 0.6664 - val_loss: 0.6311 - val_accuracy: 0.6408\n"
     ]
    },
    {
     "data": {
      "text/plain": [
       "<keras.callbacks.History at 0x7fdd31898e80>"
      ]
     },
     "execution_count": 133,
     "metadata": {},
     "output_type": "execute_result"
    }
   ],
   "source": [
    "model.fit(X_train, y_train, \n",
    "          validation_data=(X_valid, y_valid),\n",
    "          batch_size=32,\n",
    "          epochs=30)"
   ]
  },
  {
   "cell_type": "code",
   "execution_count": 137,
   "id": "3d39d44c",
   "metadata": {},
   "outputs": [
    {
     "name": "stdout",
     "output_type": "stream",
     "text": [
      "dict_keys(['loss', 'accuracy', 'val_loss', 'val_accuracy'])\n"
     ]
    },
    {
     "data": {
      "image/png": "[encoded data removed]",
      "text/plain": [
       "<Figure size 432x288 with 1 Axes>"
      ]
     },
     "metadata": {
      "needs_background": "light"
     },
     "output_type": "display_data"
    }
   ],
   "source": [
    "print(model.history.history.keys())\n",
    "# summarize history for accuracy\n",
    "plt.plot(model.history.history['accuracy'])\n",
    "plt.plot(model.history.history['val_accuracy'])\n",
    "plt.title('model accuracy')\n",
    "plt.ylabel('accuracy')\n",
    "plt.xlabel('epoch')\n",
    "plt.legend(['train', 'val'], loc='upper left')\n",
    "plt.show()"
   ]
  },
  {
   "cell_type": "markdown",
   "id": "41334aec",
   "metadata": {},
   "source": [
    "#### Skip-gram"
   ]
  },
  {
   "cell_type": "code",
   "execution_count": 140,
   "id": "f955c2f2",
   "metadata": {},
   "outputs": [],
   "source": [
    "X = tf.keras.preprocessing.sequence.pad_sequences(X, maxlen=300)\n",
    "y = data.toxic.values\n",
    "\n",
    "X_train, X_valid, y_train, y_valid = train_test_split(X, y, test_size=0.1)"
   ]
  },
  {
   "cell_type": "code",
   "execution_count": 149,
   "id": "de813b91",
   "metadata": {},
   "outputs": [],
   "source": [
    "weights = np.zeros((len(word2id), 300))\n",
    "weights_sg = embeddings_sg\n",
    "\n",
    "for i in id2word.keys(): \n",
    "    if i == 0:\n",
    "        continue\n",
    "    try:\n",
    "        weights[i] = embeddings_sg[i]\n",
    "      \n",
    "      \n",
    "    except KeyError:\n",
    "        continue\n",
    "        weights[i] = weights_sg[999999999999999] \n",
    "\n",
    "inputs = tf.keras.layers.Input(shape=(300,))\n",
    "\n",
    "embeddings = tf.keras.layers.Embedding(input_dim=len(word2id), output_dim=300, \n",
    "                                        trainable=False,\n",
    "                                        weights=[weights])(inputs, )\n",
    "mean = tf.keras.layers.Lambda(lambda x: tf.keras.backend.mean(x,  axis=1))(embeddings)\n",
    "\n",
    "outputs = tf.keras.layers.Dense(1, activation='sigmoid')(mean)\n",
    "\n",
    "model_sg = tf.keras.Model(inputs=inputs, outputs=outputs)\n",
    "optimizer = tf.keras.optimizers.Adam()\n",
    "model_sg.compile(optimizer=optimizer,\n",
    "                loss='binary_crossentropy',\n",
    "                metrics=['accuracy'])"
   ]
  },
  {
   "cell_type": "code",
   "execution_count": 151,
   "id": "68966d20",
   "metadata": {},
   "outputs": [
    {
     "name": "stdout",
     "output_type": "stream",
     "text": [
      "Epoch 1/30\n",
      "406/406 [==============================] - 5s 10ms/step - loss: 0.6584 - accuracy: 0.6639 - val_loss: 0.6322 - val_accuracy: 0.6748\n",
      "Epoch 2/30\n",
      "406/406 [==============================] - 3s 8ms/step - loss: 0.6308 - accuracy: 0.6641 - val_loss: 0.6201 - val_accuracy: 0.6748\n",
      "Epoch 3/30\n",
      "406/406 [==============================] - 4s 11ms/step - loss: 0.6260 - accuracy: 0.6641 - val_loss: 0.6174 - val_accuracy: 0.6748\n",
      "Epoch 4/30\n",
      "406/406 [==============================] - 7s 17ms/step - loss: 0.6250 - accuracy: 0.6641 - val_loss: 0.6168 - val_accuracy: 0.6748\n",
      "Epoch 5/30\n",
      "406/406 [==============================] - 5s 11ms/step - loss: 0.6246 - accuracy: 0.6641 - val_loss: 0.6162 - val_accuracy: 0.6748\n",
      "Epoch 6/30\n",
      "406/406 [==============================] - 4s 9ms/step - loss: 0.6242 - accuracy: 0.6641 - val_loss: 0.6159 - val_accuracy: 0.6748\n",
      "Epoch 7/30\n",
      "406/406 [==============================] - 3s 8ms/step - loss: 0.6240 - accuracy: 0.6641 - val_loss: 0.6157 - val_accuracy: 0.6748\n",
      "Epoch 8/30\n",
      "406/406 [==============================] - 3s 8ms/step - loss: 0.6238 - accuracy: 0.6641 - val_loss: 0.6155 - val_accuracy: 0.6748\n",
      "Epoch 9/30\n",
      "406/406 [==============================] - 3s 7ms/step - loss: 0.6236 - accuracy: 0.6641 - val_loss: 0.6154 - val_accuracy: 0.6748\n",
      "Epoch 10/30\n",
      "406/406 [==============================] - 3s 8ms/step - loss: 0.6234 - accuracy: 0.6641 - val_loss: 0.6153 - val_accuracy: 0.6748\n",
      "Epoch 11/30\n",
      "406/406 [==============================] - 3s 8ms/step - loss: 0.6233 - accuracy: 0.6641 - val_loss: 0.6152 - val_accuracy: 0.6748\n",
      "Epoch 12/30\n",
      "406/406 [==============================] - 4s 10ms/step - loss: 0.6232 - accuracy: 0.6641 - val_loss: 0.6150 - val_accuracy: 0.6748\n",
      "Epoch 13/30\n",
      "406/406 [==============================] - 3s 7ms/step - loss: 0.6231 - accuracy: 0.6641 - val_loss: 0.6149 - val_accuracy: 0.6748\n",
      "Epoch 14/30\n",
      "406/406 [==============================] - 3s 8ms/step - loss: 0.6229 - accuracy: 0.6641 - val_loss: 0.6149 - val_accuracy: 0.6748\n",
      "Epoch 15/30\n",
      "406/406 [==============================] - 3s 9ms/step - loss: 0.6228 - accuracy: 0.6641 - val_loss: 0.6147 - val_accuracy: 0.6748\n",
      "Epoch 16/30\n",
      "406/406 [==============================] - 4s 9ms/step - loss: 0.6227 - accuracy: 0.6641 - val_loss: 0.6146 - val_accuracy: 0.6748\n",
      "Epoch 17/30\n",
      "406/406 [==============================] - 3s 8ms/step - loss: 0.6226 - accuracy: 0.6641 - val_loss: 0.6144 - val_accuracy: 0.6748\n",
      "Epoch 18/30\n",
      "406/406 [==============================] - 4s 10ms/step - loss: 0.6225 - accuracy: 0.6641 - val_loss: 0.6144 - val_accuracy: 0.6748\n",
      "Epoch 19/30\n",
      "406/406 [==============================] - 5s 13ms/step - loss: 0.6224 - accuracy: 0.6641 - val_loss: 0.6144 - val_accuracy: 0.6748\n",
      "Epoch 20/30\n",
      "406/406 [==============================] - 4s 11ms/step - loss: 0.6223 - accuracy: 0.6641 - val_loss: 0.6143 - val_accuracy: 0.6748\n",
      "Epoch 21/30\n",
      "406/406 [==============================] - 4s 9ms/step - loss: 0.6222 - accuracy: 0.6641 - val_loss: 0.6142 - val_accuracy: 0.6748\n",
      "Epoch 22/30\n",
      "406/406 [==============================] - 3s 7ms/step - loss: 0.6221 - accuracy: 0.6641 - val_loss: 0.6142 - val_accuracy: 0.6748\n",
      "Epoch 23/30\n",
      "406/406 [==============================] - 4s 11ms/step - loss: 0.6220 - accuracy: 0.6641 - val_loss: 0.6141 - val_accuracy: 0.6748\n",
      "Epoch 24/30\n",
      "406/406 [==============================] - 3s 8ms/step - loss: 0.6219 - accuracy: 0.6641 - val_loss: 0.6140 - val_accuracy: 0.6748\n",
      "Epoch 25/30\n",
      "406/406 [==============================] - 3s 8ms/step - loss: 0.6218 - accuracy: 0.6641 - val_loss: 0.6139 - val_accuracy: 0.6748\n",
      "Epoch 26/30\n",
      "406/406 [==============================] - 3s 8ms/step - loss: 0.6217 - accuracy: 0.6641 - val_loss: 0.6137 - val_accuracy: 0.6748\n",
      "Epoch 27/30\n",
      "406/406 [==============================] - 3s 8ms/step - loss: 0.6217 - accuracy: 0.6641 - val_loss: 0.6137 - val_accuracy: 0.6748\n",
      "Epoch 28/30\n",
      "406/406 [==============================] - 3s 8ms/step - loss: 0.6215 - accuracy: 0.6641 - val_loss: 0.6137 - val_accuracy: 0.6748\n",
      "Epoch 29/30\n",
      "406/406 [==============================] - 4s 9ms/step - loss: 0.6215 - accuracy: 0.6641 - val_loss: 0.6136 - val_accuracy: 0.6748\n",
      "Epoch 30/30\n",
      "406/406 [==============================] - 4s 10ms/step - loss: 0.6213 - accuracy: 0.6641 - val_loss: 0.6134 - val_accuracy: 0.6748\n"
     ]
    },
    {
     "data": {
      "text/plain": [
       "<keras.callbacks.History at 0x7fdd378769a0>"
      ]
     },
     "execution_count": 151,
     "metadata": {},
     "output_type": "execute_result"
    }
   ],
   "source": [
    "model_sg.fit(X_train, y_train, \n",
    "          validation_data=(X_valid, y_valid),\n",
    "          batch_size=32,\n",
    "          epochs=30)"
   ]
  },
  {
   "cell_type": "code",
   "execution_count": 152,
   "id": "62755f00",
   "metadata": {},
   "outputs": [
    {
     "name": "stdout",
     "output_type": "stream",
     "text": [
      "dict_keys(['loss', 'accuracy', 'val_loss', 'val_accuracy'])\n"
     ]
    },
    {
     "data": {
      "image/png": "[encoded data removed]",
      "text/plain": [
       "<Figure size 432x288 with 1 Axes>"
      ]
     },
     "metadata": {
      "needs_background": "light"
     },
     "output_type": "display_data"
    }
   ],
   "source": [
    "print(model_sg.history.history.keys())\n",
    "# summarize history for accuracy\n",
    "plt.plot(model_sg.history.history['accuracy'])\n",
    "plt.plot(model_sg.history.history['val_accuracy'])\n",
    "plt.title('model accuracy')\n",
    "plt.ylabel('accuracy')\n",
    "plt.xlabel('epoch')\n",
    "plt.legend(['train', 'val'], loc='upper left')\n",
    "plt.show()"
   ]
  },
  {
   "cell_type": "markdown",
   "id": "011335fc",
   "metadata": {},
   "source": [
    "#### Cbow"
   ]
  },
  {
   "cell_type": "code",
   "execution_count": 154,
   "id": "f5701b8e",
   "metadata": {},
   "outputs": [],
   "source": [
    "X = []\n",
    "\n",
    "for tokens in data['norm_text']:\n",
    "    ids = [word2id[token] for token in tokens if token in word2id]\n",
    "    X.append(ids)\n",
    "    \n",
    "X = tf.keras.preprocessing.sequence.pad_sequences(X, maxlen=300)\n",
    "y = data.toxic.values"
   ]
  },
  {
   "cell_type": "code",
   "execution_count": 155,
   "id": "4a677e31",
   "metadata": {},
   "outputs": [],
   "source": [
    "X_train, X_valid, y_train, y_valid = train_test_split(X, y, test_size=0.05)"
   ]
  },
  {
   "cell_type": "code",
   "execution_count": 158,
   "id": "8b5b7ac3",
   "metadata": {},
   "outputs": [],
   "source": [
    "weights = np.zeros((len(word2id), 300))\n",
    "weights_cbow = embeddings_cbow\n",
    "\n",
    "for i in id2word.keys(): \n",
    "    if i == 0:\n",
    "        continue\n",
    "    try:\n",
    "        weights[i] = embeddings_cbow[i]\n",
    "      \n",
    "      \n",
    "    except KeyError:\n",
    "        continue\n",
    "        weights[i] = weights_cbow[999999999999999] \n",
    "\n",
    "inputs = tf.keras.layers.Input(shape=(300,))\n",
    "\n",
    "embeddings = tf.keras.layers.Embedding(input_dim=len(word2id), output_dim=300, \n",
    "                                        trainable=False,\n",
    "                                        weights=[weights])(inputs, )\n",
    "mean = tf.keras.layers.Lambda(lambda x: tf.keras.backend.mean(x,  axis=1))(embeddings)\n",
    "\n",
    "outputs = tf.keras.layers.Dense(1, activation='sigmoid')(mean)\n",
    "\n",
    "model_cbow = tf.keras.Model(inputs=inputs, outputs=outputs)\n",
    "optimizer = tf.keras.optimizers.Adam()\n",
    "model_cbow.compile(optimizer=optimizer,\n",
    "                loss='binary_crossentropy',\n",
    "                metrics=['accuracy'])"
   ]
  },
  {
   "cell_type": "code",
   "execution_count": 159,
   "id": "cf9feff5",
   "metadata": {},
   "outputs": [
    {
     "name": "stdout",
     "output_type": "stream",
     "text": [
      "Epoch 1/30\n",
      "428/428 [==============================] - 4s 8ms/step - loss: 0.6447 - accuracy: 0.6666 - val_loss: 0.6382 - val_accuracy: 0.6394\n",
      "Epoch 2/30\n",
      "428/428 [==============================] - 3s 8ms/step - loss: 0.6280 - accuracy: 0.6665 - val_loss: 0.6387 - val_accuracy: 0.6394\n",
      "Epoch 3/30\n",
      "428/428 [==============================] - 3s 8ms/step - loss: 0.6271 - accuracy: 0.6665 - val_loss: 0.6388 - val_accuracy: 0.6394\n",
      "Epoch 4/30\n",
      "428/428 [==============================] - 3s 7ms/step - loss: 0.6265 - accuracy: 0.6665 - val_loss: 0.6393 - val_accuracy: 0.6394\n",
      "Epoch 5/30\n",
      "428/428 [==============================] - 3s 8ms/step - loss: 0.6262 - accuracy: 0.6665 - val_loss: 0.6388 - val_accuracy: 0.6394\n",
      "Epoch 6/30\n",
      "428/428 [==============================] - 3s 8ms/step - loss: 0.6258 - accuracy: 0.6665 - val_loss: 0.6387 - val_accuracy: 0.6394\n",
      "Epoch 7/30\n",
      "428/428 [==============================] - 3s 7ms/step - loss: 0.6255 - accuracy: 0.6665 - val_loss: 0.6384 - val_accuracy: 0.6394\n",
      "Epoch 8/30\n",
      "428/428 [==============================] - 3s 8ms/step - loss: 0.6253 - accuracy: 0.6665 - val_loss: 0.6384 - val_accuracy: 0.6394\n",
      "Epoch 9/30\n",
      "428/428 [==============================] - 3s 7ms/step - loss: 0.6250 - accuracy: 0.6665 - val_loss: 0.6385 - val_accuracy: 0.6394\n",
      "Epoch 10/30\n",
      "428/428 [==============================] - 3s 7ms/step - loss: 0.6247 - accuracy: 0.6665 - val_loss: 0.6380 - val_accuracy: 0.6394\n",
      "Epoch 11/30\n",
      "428/428 [==============================] - 3s 8ms/step - loss: 0.6244 - accuracy: 0.6665 - val_loss: 0.6381 - val_accuracy: 0.6394\n",
      "Epoch 12/30\n",
      "428/428 [==============================] - 3s 8ms/step - loss: 0.6242 - accuracy: 0.6665 - val_loss: 0.6375 - val_accuracy: 0.6394\n",
      "Epoch 13/30\n",
      "428/428 [==============================] - 3s 8ms/step - loss: 0.6239 - accuracy: 0.6665 - val_loss: 0.6373 - val_accuracy: 0.6394\n",
      "Epoch 14/30\n",
      "428/428 [==============================] - 3s 8ms/step - loss: 0.6236 - accuracy: 0.6665 - val_loss: 0.6369 - val_accuracy: 0.6394\n",
      "Epoch 15/30\n",
      "428/428 [==============================] - 3s 8ms/step - loss: 0.6234 - accuracy: 0.6665 - val_loss: 0.6367 - val_accuracy: 0.6394\n",
      "Epoch 16/30\n",
      "428/428 [==============================] - 3s 8ms/step - loss: 0.6231 - accuracy: 0.6665 - val_loss: 0.6368 - val_accuracy: 0.6394\n",
      "Epoch 17/30\n",
      "428/428 [==============================] - 4s 9ms/step - loss: 0.6228 - accuracy: 0.6665 - val_loss: 0.6362 - val_accuracy: 0.6394\n",
      "Epoch 18/30\n",
      "428/428 [==============================] - 5s 11ms/step - loss: 0.6225 - accuracy: 0.6665 - val_loss: 0.6356 - val_accuracy: 0.6394\n",
      "Epoch 19/30\n",
      "428/428 [==============================] - 3s 8ms/step - loss: 0.6224 - accuracy: 0.6665 - val_loss: 0.6355 - val_accuracy: 0.6394\n",
      "Epoch 20/30\n",
      "428/428 [==============================] - 3s 8ms/step - loss: 0.6220 - accuracy: 0.6665 - val_loss: 0.6352 - val_accuracy: 0.6394\n",
      "Epoch 21/30\n",
      "428/428 [==============================] - 5s 11ms/step - loss: 0.6218 - accuracy: 0.6665 - val_loss: 0.6351 - val_accuracy: 0.6394\n",
      "Epoch 22/30\n",
      "428/428 [==============================] - 4s 10ms/step - loss: 0.6215 - accuracy: 0.6665 - val_loss: 0.6353 - val_accuracy: 0.6394\n",
      "Epoch 23/30\n",
      "428/428 [==============================] - 4s 9ms/step - loss: 0.6213 - accuracy: 0.6665 - val_loss: 0.6347 - val_accuracy: 0.6394\n",
      "Epoch 24/30\n",
      "428/428 [==============================] - 5s 11ms/step - loss: 0.6210 - accuracy: 0.6665 - val_loss: 0.6347 - val_accuracy: 0.6394\n",
      "Epoch 25/30\n",
      "428/428 [==============================] - 4s 9ms/step - loss: 0.6207 - accuracy: 0.6665 - val_loss: 0.6342 - val_accuracy: 0.6394\n",
      "Epoch 26/30\n",
      "428/428 [==============================] - 3s 8ms/step - loss: 0.6204 - accuracy: 0.6665 - val_loss: 0.6336 - val_accuracy: 0.6394\n",
      "Epoch 27/30\n",
      "428/428 [==============================] - 4s 8ms/step - loss: 0.6203 - accuracy: 0.6665 - val_loss: 0.6335 - val_accuracy: 0.6394\n",
      "Epoch 28/30\n",
      "428/428 [==============================] - 4s 9ms/step - loss: 0.6199 - accuracy: 0.6665 - val_loss: 0.6336 - val_accuracy: 0.6394\n",
      "Epoch 29/30\n",
      "428/428 [==============================] - 4s 9ms/step - loss: 0.6197 - accuracy: 0.6665 - val_loss: 0.6332 - val_accuracy: 0.6394\n",
      "Epoch 30/30\n",
      "428/428 [==============================] - 3s 8ms/step - loss: 0.6195 - accuracy: 0.6665 - val_loss: 0.6329 - val_accuracy: 0.6394\n"
     ]
    },
    {
     "data": {
      "text/plain": [
       "<keras.callbacks.History at 0x7fdd408c0940>"
      ]
     },
     "execution_count": 159,
     "metadata": {},
     "output_type": "execute_result"
    }
   ],
   "source": [
    "model_cbow.fit(X_train, y_train, \n",
    "          validation_data=(X_valid, y_valid),\n",
    "          batch_size=32,\n",
    "          epochs=30)"
   ]
  },
  {
   "cell_type": "code",
   "execution_count": 160,
   "id": "08a6c638",
   "metadata": {},
   "outputs": [
    {
     "name": "stdout",
     "output_type": "stream",
     "text": [
      "dict_keys(['loss', 'accuracy', 'val_loss', 'val_accuracy'])\n"
     ]
    },
    {
     "data": {
      "image/png": "[encoded data removed]",
      "text/plain": [
       "<Figure size 432x288 with 1 Axes>"
      ]
     },
     "metadata": {
      "needs_background": "light"
     },
     "output_type": "display_data"
    }
   ],
   "source": [
    "print(model_cbow.history.history.keys())\n",
    "# summarize history for accuracy\n",
    "plt.plot(model_cbow.history.history['accuracy'])\n",
    "plt.plot(model_cbow.history.history['val_accuracy'])\n",
    "plt.title('model accuracy')\n",
    "plt.ylabel('accuracy')\n",
    "plt.xlabel('epoch')\n",
    "plt.legend(['train', 'val'], loc='upper left')\n",
    "plt.show()"
   ]
  },
  {
   "cell_type": "markdown",
   "id": "88a6c846",
   "metadata": {},
   "source": [
    "#### RusVectores"
   ]
  },
  {
   "cell_type": "code",
   "execution_count": 171,
   "id": "b0eff030",
   "metadata": {},
   "outputs": [],
   "source": [
    "#ruscorpora_upos_cbow_300_20_2019\n",
    "model_rv = gensim.models.KeyedVectors.load_word2vec_format('model.bin', binary=True)"
   ]
  },
  {
   "cell_type": "code",
   "execution_count": 173,
   "id": "0eca292d",
   "metadata": {},
   "outputs": [],
   "source": [
    "X = tf.keras.preprocessing.sequence.pad_sequences(X, maxlen=300)\n",
    "y = data.toxic.values"
   ]
  },
  {
   "cell_type": "code",
   "execution_count": 175,
   "id": "38df1f1e",
   "metadata": {},
   "outputs": [],
   "source": [
    "X_train, X_test, y_train, y_test = train_test_split(X, y, test_size=0.1)"
   ]
  },
  {
   "cell_type": "code",
   "execution_count": 176,
   "id": "9f782d06",
   "metadata": {},
   "outputs": [],
   "source": [
    "weights = np.zeros((len(word2id), 300))\n",
    "\n",
    "for word, i in word2id.items():\n",
    "    if word == 'PAD':\n",
    "        continue\n",
    "\n",
    "    try:\n",
    "        weights[i] = model_rv[word]\n",
    "    \n",
    "    except KeyError:\n",
    "        continue\n",
    "        weights[i] = model_rv['ывйдаоыйвдлпо']\n",
    "        \n",
    "inputs = tf.keras.layers.Input(shape=(300,))\n",
    "embeddings = tf.keras.layers.Embedding(input_dim=len(word2id), output_dim=300, \n",
    "                                        trainable=False,\n",
    "                                        weights=[weights])(inputs, )\n",
    "mean = tf.keras.layers.Lambda(lambda x: tf.keras.backend.mean(x,  axis=1))(embeddings)\n",
    "\n",
    "outputs = tf.keras.layers.Dense(1, activation='sigmoid')(mean)\n",
    "\n",
    "model_rv_class = tf.keras.Model(inputs=inputs, outputs=outputs)\n",
    "optimizer = tf.keras.optimizers.Adam()\n",
    "model_rv_class.compile(optimizer=optimizer,\n",
    "                loss='binary_crossentropy',\n",
    "                metrics=['accuracy'])"
   ]
  },
  {
   "cell_type": "code",
   "execution_count": 180,
   "id": "865afcfd",
   "metadata": {},
   "outputs": [
    {
     "name": "stdout",
     "output_type": "stream",
     "text": [
      "Epoch 1/30\n",
      "406/406 [==============================] - 3s 8ms/step - loss: 0.6387 - accuracy: 0.6635 - val_loss: 0.6276 - val_accuracy: 0.6796\n",
      "Epoch 2/30\n",
      "406/406 [==============================] - 3s 8ms/step - loss: 0.6387 - accuracy: 0.6635 - val_loss: 0.6277 - val_accuracy: 0.6796\n",
      "Epoch 3/30\n",
      "406/406 [==============================] - 4s 9ms/step - loss: 0.6387 - accuracy: 0.6635 - val_loss: 0.6278 - val_accuracy: 0.6796\n",
      "Epoch 4/30\n",
      "406/406 [==============================] - 4s 9ms/step - loss: 0.6387 - accuracy: 0.6635 - val_loss: 0.6278 - val_accuracy: 0.6796\n",
      "Epoch 5/30\n",
      "406/406 [==============================] - 3s 8ms/step - loss: 0.6387 - accuracy: 0.6635 - val_loss: 0.6278 - val_accuracy: 0.6796\n",
      "Epoch 6/30\n",
      "406/406 [==============================] - 3s 7ms/step - loss: 0.6387 - accuracy: 0.6635 - val_loss: 0.6278 - val_accuracy: 0.6796\n",
      "Epoch 7/30\n",
      "406/406 [==============================] - 3s 8ms/step - loss: 0.6387 - accuracy: 0.6635 - val_loss: 0.6277 - val_accuracy: 0.6796\n",
      "Epoch 8/30\n",
      "406/406 [==============================] - 4s 9ms/step - loss: 0.6387 - accuracy: 0.6635 - val_loss: 0.6277 - val_accuracy: 0.6796\n",
      "Epoch 9/30\n",
      "406/406 [==============================] - 4s 10ms/step - loss: 0.6387 - accuracy: 0.6635 - val_loss: 0.6277 - val_accuracy: 0.6796\n",
      "Epoch 10/30\n",
      "406/406 [==============================] - 4s 9ms/step - loss: 0.6387 - accuracy: 0.6635 - val_loss: 0.6277 - val_accuracy: 0.6796\n",
      "Epoch 11/30\n",
      "406/406 [==============================] - 4s 10ms/step - loss: 0.6387 - accuracy: 0.6635 - val_loss: 0.6278 - val_accuracy: 0.6796\n",
      "Epoch 12/30\n",
      "406/406 [==============================] - 4s 10ms/step - loss: 0.6387 - accuracy: 0.6635 - val_loss: 0.6278 - val_accuracy: 0.6796\n",
      "Epoch 13/30\n",
      "406/406 [==============================] - 3s 8ms/step - loss: 0.6387 - accuracy: 0.6635 - val_loss: 0.6278 - val_accuracy: 0.6796\n",
      "Epoch 14/30\n",
      "406/406 [==============================] - 3s 8ms/step - loss: 0.6387 - accuracy: 0.6635 - val_loss: 0.6278 - val_accuracy: 0.6796\n",
      "Epoch 15/30\n",
      "406/406 [==============================] - 3s 8ms/step - loss: 0.6387 - accuracy: 0.6635 - val_loss: 0.6277 - val_accuracy: 0.6796\n",
      "Epoch 16/30\n",
      "406/406 [==============================] - 3s 8ms/step - loss: 0.6387 - accuracy: 0.6635 - val_loss: 0.6278 - val_accuracy: 0.6796\n",
      "Epoch 17/30\n",
      "406/406 [==============================] - 4s 11ms/step - loss: 0.6387 - accuracy: 0.6635 - val_loss: 0.6277 - val_accuracy: 0.6796\n",
      "Epoch 18/30\n",
      "406/406 [==============================] - 5s 12ms/step - loss: 0.6387 - accuracy: 0.6635 - val_loss: 0.6277 - val_accuracy: 0.6796\n",
      "Epoch 19/30\n",
      "406/406 [==============================] - 5s 12ms/step - loss: 0.6387 - accuracy: 0.6635 - val_loss: 0.6277 - val_accuracy: 0.6796\n",
      "Epoch 20/30\n",
      "406/406 [==============================] - 5s 11ms/step - loss: 0.6387 - accuracy: 0.6635 - val_loss: 0.6277 - val_accuracy: 0.6796\n",
      "Epoch 21/30\n",
      "406/406 [==============================] - 3s 8ms/step - loss: 0.6387 - accuracy: 0.6635 - val_loss: 0.6278 - val_accuracy: 0.6796\n",
      "Epoch 22/30\n",
      "406/406 [==============================] - 3s 8ms/step - loss: 0.6387 - accuracy: 0.6635 - val_loss: 0.6279 - val_accuracy: 0.6796\n",
      "Epoch 23/30\n",
      "406/406 [==============================] - 3s 8ms/step - loss: 0.6387 - accuracy: 0.6635 - val_loss: 0.6278 - val_accuracy: 0.6796\n",
      "Epoch 24/30\n",
      "406/406 [==============================] - 5s 11ms/step - loss: 0.6387 - accuracy: 0.6635 - val_loss: 0.6277 - val_accuracy: 0.6796\n",
      "Epoch 25/30\n",
      "406/406 [==============================] - 4s 9ms/step - loss: 0.6387 - accuracy: 0.6635 - val_loss: 0.6277 - val_accuracy: 0.6796\n",
      "Epoch 26/30\n",
      "406/406 [==============================] - 3s 8ms/step - loss: 0.6387 - accuracy: 0.6635 - val_loss: 0.6278 - val_accuracy: 0.6796\n",
      "Epoch 27/30\n",
      "406/406 [==============================] - 3s 8ms/step - loss: 0.6387 - accuracy: 0.6635 - val_loss: 0.6277 - val_accuracy: 0.6796\n",
      "Epoch 28/30\n",
      "406/406 [==============================] - 3s 8ms/step - loss: 0.6387 - accuracy: 0.6635 - val_loss: 0.6277 - val_accuracy: 0.6796\n",
      "Epoch 29/30\n",
      "406/406 [==============================] - 3s 8ms/step - loss: 0.6387 - accuracy: 0.6635 - val_loss: 0.6276 - val_accuracy: 0.6796\n",
      "Epoch 30/30\n",
      "406/406 [==============================] - 3s 8ms/step - loss: 0.6387 - accuracy: 0.6635 - val_loss: 0.6276 - val_accuracy: 0.6796\n"
     ]
    },
    {
     "data": {
      "text/plain": [
       "<keras.callbacks.History at 0x7fdcb202a670>"
      ]
     },
     "execution_count": 180,
     "metadata": {},
     "output_type": "execute_result"
    }
   ],
   "source": [
    "model_rv_class.fit(X_train, y_train, \n",
    "          validation_data=(X_test, y_test),\n",
    "          batch_size=32,\n",
    "          epochs=30)"
   ]
  },
  {
   "cell_type": "code",
   "execution_count": 178,
   "id": "1c26bb0a",
   "metadata": {},
   "outputs": [
    {
     "name": "stdout",
     "output_type": "stream",
     "text": [
      "dict_keys(['loss', 'accuracy', 'val_loss', 'val_accuracy'])\n"
     ]
    },
    {
     "data": {
      "image/png": "[encoded data removed]",
      "text/plain": [
       "<Figure size 432x288 with 1 Axes>"
      ]
     },
     "metadata": {
      "needs_background": "light"
     },
     "output_type": "display_data"
    }
   ],
   "source": [
    "print(model_rv_class.history.history.keys())\n",
    "# summarize history for accuracy\n",
    "plt.plot(model_cbow.history.history['accuracy'])\n",
    "plt.plot(model_cbow.history.history['val_accuracy'])\n",
    "plt.title('model accuracy')\n",
    "plt.ylabel('accuracy')\n",
    "plt.xlabel('epoch')\n",
    "plt.legend(['train', 'val'], loc='upper left')\n",
    "plt.show()"
   ]
  },
  {
   "cell_type": "code",
   "execution_count": null,
   "id": "350c8e36",
   "metadata": {},
   "outputs": [],
   "source": []
  }
 ],
 "metadata": {
  "kernelspec": {
   "display_name": "Python 3 (ipykernel)",
   "language": "python",
   "name": "python3"
  },
  "language_info": {
   "codemirror_mode": {
    "name": "ipython",
    "version": 3
   },
   "file_extension": ".py",
   "mimetype": "text/x-python",
   "name": "python",
   "nbconvert_exporter": "python",
   "pygments_lexer": "ipython3",
   "version": "3.9.7"
  }
 },
 "nbformat": 4,
 "nbformat_minor": 5
}
